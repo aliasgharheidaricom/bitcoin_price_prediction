{
 "cells": [
  {
   "cell_type": "markdown",
   "metadata": {},
   "source": [
    "# **FINAL PROJECTS 2 - PHASE 2**\n",
    "\n",
    "<hr>"
   ]
  },
  {
   "cell_type": "markdown",
   "metadata": {},
   "source": [
    "## **2. Import Libraries**"
   ]
  },
  {
   "cell_type": "code",
   "execution_count": 1,
   "metadata": {},
   "outputs": [],
   "source": [
    "import pandas as pd\n",
    "import matplotlib as mpl\n",
    "import matplotlib.pyplot as plt\n",
    "import seaborn as sns\n",
    "import numpy as np\n",
    "from sklearn.preprocessing import MinMaxScaler,StandardScaler, RobustScaler\n",
    "from sklearn.decomposition import PCA\n",
    "from statsmodels.stats.outliers_influence import variance_inflation_factor\n",
    "from sklearn.pipeline import make_pipeline\n",
    "from sklearn.compose import ColumnTransformer\n",
    "import pickle\n",
    "import tensorflow as tf\n",
    "import math\n",
    "from tensorflow.keras.models import Sequential\n",
    "from tensorflow.keras import layers\n",
    "from keras.callbacks import EarlyStopping\n",
    "from keras.layers import LSTM, Dense, Dropout, Activation, Flatten, GRU\n",
    "from keras import optimizers\n",
    "from sklearn.metrics import mean_absolute_error, mean_squared_error, mean_absolute_percentage_error\n",
    "import mplfinance as fplt\n",
    "\n",
    "pd.options.mode.chained_assignment = None"
   ]
  },
  {
   "cell_type": "code",
   "execution_count": 2,
   "metadata": {},
   "outputs": [],
   "source": [
    "colors = sns.color_palette(\"Set2\")\n",
    "colors2 = sns.color_palette(\"Paired\")\n",
    "sns.set_style(\"whitegrid\")\n",
    "plt.style.use('seaborn-pastel')\n",
    "pd.set_option('display.max_columns', None)\n",
    "\n",
    "import warnings\n",
    "warnings.filterwarnings(\"ignore\")\n",
    "# import os\n",
    "# os.environ['TF_CPP_MIN_LOG_LEVEL'] = '3' "
   ]
  },
  {
   "cell_type": "markdown",
   "metadata": {},
   "source": [
    "## **3. Data Loading**"
   ]
  },
  {
   "cell_type": "markdown",
   "metadata": {},
   "source": [
    "### 3.1. Data Loading"
   ]
  },
  {
   "cell_type": "code",
   "execution_count": 3,
   "metadata": {},
   "outputs": [],
   "source": [
    "df = pd.read_csv('BTCUSDT_1h_2021_2022.csv', index_col=0)"
   ]
  },
  {
   "cell_type": "code",
   "execution_count": 4,
   "metadata": {},
   "outputs": [],
   "source": [
    "df_sentiment = pd.read_csv('sampling_impact_score_all.csv', index_col=0)"
   ]
  },
  {
   "cell_type": "code",
   "execution_count": 5,
   "metadata": {},
   "outputs": [
    {
     "data": {
      "text/html": [
       "<div>\n",
       "<style scoped>\n",
       "    .dataframe tbody tr th:only-of-type {\n",
       "        vertical-align: middle;\n",
       "    }\n",
       "\n",
       "    .dataframe tbody tr th {\n",
       "        vertical-align: top;\n",
       "    }\n",
       "\n",
       "    .dataframe thead th {\n",
       "        text-align: right;\n",
       "    }\n",
       "</style>\n",
       "<table border=\"1\" class=\"dataframe\">\n",
       "  <thead>\n",
       "    <tr style=\"text-align: right;\">\n",
       "      <th></th>\n",
       "      <th>0</th>\n",
       "      <th>1</th>\n",
       "      <th>2</th>\n",
       "      <th>3</th>\n",
       "      <th>4</th>\n",
       "      <th>5</th>\n",
       "      <th>6</th>\n",
       "      <th>7</th>\n",
       "      <th>8</th>\n",
       "      <th>9</th>\n",
       "      <th>10</th>\n",
       "      <th>11</th>\n",
       "    </tr>\n",
       "  </thead>\n",
       "  <tbody>\n",
       "    <tr>\n",
       "      <th>0</th>\n",
       "      <td>1612137600000</td>\n",
       "      <td>33092.97</td>\n",
       "      <td>33106.33</td>\n",
       "      <td>32296.16</td>\n",
       "      <td>32546.27</td>\n",
       "      <td>4383.926122</td>\n",
       "      <td>1612141199999</td>\n",
       "      <td>1.427372e+08</td>\n",
       "      <td>98763</td>\n",
       "      <td>2074.600069</td>\n",
       "      <td>6.750233e+07</td>\n",
       "      <td>0</td>\n",
       "    </tr>\n",
       "    <tr>\n",
       "      <th>1</th>\n",
       "      <td>1612141200000</td>\n",
       "      <td>32546.32</td>\n",
       "      <td>33560.90</td>\n",
       "      <td>32476.34</td>\n",
       "      <td>33430.29</td>\n",
       "      <td>3713.649492</td>\n",
       "      <td>1612144799999</td>\n",
       "      <td>1.229016e+08</td>\n",
       "      <td>76863</td>\n",
       "      <td>1958.691774</td>\n",
       "      <td>6.482048e+07</td>\n",
       "      <td>0</td>\n",
       "    </tr>\n",
       "    <tr>\n",
       "      <th>2</th>\n",
       "      <td>1612144800000</td>\n",
       "      <td>33425.19</td>\n",
       "      <td>33830.00</td>\n",
       "      <td>33222.88</td>\n",
       "      <td>33649.73</td>\n",
       "      <td>3694.931629</td>\n",
       "      <td>1612148399999</td>\n",
       "      <td>1.241016e+08</td>\n",
       "      <td>70196</td>\n",
       "      <td>2026.270613</td>\n",
       "      <td>6.804863e+07</td>\n",
       "      <td>0</td>\n",
       "    </tr>\n",
       "    <tr>\n",
       "      <th>3</th>\n",
       "      <td>1612148400000</td>\n",
       "      <td>33646.37</td>\n",
       "      <td>33776.81</td>\n",
       "      <td>33470.00</td>\n",
       "      <td>33573.97</td>\n",
       "      <td>2882.141795</td>\n",
       "      <td>1612151999999</td>\n",
       "      <td>9.689886e+07</td>\n",
       "      <td>65467</td>\n",
       "      <td>1502.164716</td>\n",
       "      <td>5.050666e+07</td>\n",
       "      <td>0</td>\n",
       "    </tr>\n",
       "    <tr>\n",
       "      <th>4</th>\n",
       "      <td>1612152000000</td>\n",
       "      <td>33573.25</td>\n",
       "      <td>33943.55</td>\n",
       "      <td>33423.43</td>\n",
       "      <td>33558.25</td>\n",
       "      <td>3206.054328</td>\n",
       "      <td>1612155599999</td>\n",
       "      <td>1.079852e+08</td>\n",
       "      <td>82376</td>\n",
       "      <td>1739.632601</td>\n",
       "      <td>5.861244e+07</td>\n",
       "      <td>0</td>\n",
       "    </tr>\n",
       "  </tbody>\n",
       "</table>\n",
       "</div>"
      ],
      "text/plain": [
       "               0         1         2         3         4            5  \\\n",
       "0  1612137600000  33092.97  33106.33  32296.16  32546.27  4383.926122   \n",
       "1  1612141200000  32546.32  33560.90  32476.34  33430.29  3713.649492   \n",
       "2  1612144800000  33425.19  33830.00  33222.88  33649.73  3694.931629   \n",
       "3  1612148400000  33646.37  33776.81  33470.00  33573.97  2882.141795   \n",
       "4  1612152000000  33573.25  33943.55  33423.43  33558.25  3206.054328   \n",
       "\n",
       "               6             7      8            9            10  11  \n",
       "0  1612141199999  1.427372e+08  98763  2074.600069  6.750233e+07   0  \n",
       "1  1612144799999  1.229016e+08  76863  1958.691774  6.482048e+07   0  \n",
       "2  1612148399999  1.241016e+08  70196  2026.270613  6.804863e+07   0  \n",
       "3  1612151999999  9.689886e+07  65467  1502.164716  5.050666e+07   0  \n",
       "4  1612155599999  1.079852e+08  82376  1739.632601  5.861244e+07   0  "
      ]
     },
     "execution_count": 5,
     "metadata": {},
     "output_type": "execute_result"
    }
   ],
   "source": [
    "df.head()"
   ]
  },
  {
   "cell_type": "code",
   "execution_count": 6,
   "metadata": {},
   "outputs": [
    {
     "data": {
      "text/html": [
       "<div>\n",
       "<style scoped>\n",
       "    .dataframe tbody tr th:only-of-type {\n",
       "        vertical-align: middle;\n",
       "    }\n",
       "\n",
       "    .dataframe tbody tr th {\n",
       "        vertical-align: top;\n",
       "    }\n",
       "\n",
       "    .dataframe thead th {\n",
       "        text-align: right;\n",
       "    }\n",
       "</style>\n",
       "<table border=\"1\" class=\"dataframe\">\n",
       "  <thead>\n",
       "    <tr style=\"text-align: right;\">\n",
       "      <th></th>\n",
       "      <th>date</th>\n",
       "      <th>text</th>\n",
       "      <th>user_followers</th>\n",
       "      <th>user_verified</th>\n",
       "      <th>cleaned_text</th>\n",
       "      <th>vader</th>\n",
       "      <th>compound</th>\n",
       "      <th>polarity</th>\n",
       "      <th>impact_score_only</th>\n",
       "      <th>impact_score_var</th>\n",
       "      <th>impact_score_tb</th>\n",
       "      <th>impact_score_avg</th>\n",
       "      <th>impact_score_var_avg</th>\n",
       "      <th>impact_score_tb_avg</th>\n",
       "    </tr>\n",
       "  </thead>\n",
       "  <tbody>\n",
       "    <tr>\n",
       "      <th>0</th>\n",
       "      <td>2021-04-07 12:03:04</td>\n",
       "      <td>Bitcoin price crash: Cryptocurrency plunges in...</td>\n",
       "      <td>879107.0</td>\n",
       "      <td>True</td>\n",
       "      <td>bitcoin price crash cryptocurrency plunges in ...</td>\n",
       "      <td>{'neg': 0.338, 'neu': 0.493, 'pos': 0.169, 'co...</td>\n",
       "      <td>-0.3400</td>\n",
       "      <td>0.000000</td>\n",
       "      <td>13.888084</td>\n",
       "      <td>-4.721949</td>\n",
       "      <td>0.000000</td>\n",
       "      <td>5.8237</td>\n",
       "      <td>0.693484</td>\n",
       "      <td>0.556068</td>\n",
       "    </tr>\n",
       "    <tr>\n",
       "      <th>1</th>\n",
       "      <td>2021-04-07 10:03:34</td>\n",
       "      <td>The #BTC is stuck inside a large range between...</td>\n",
       "      <td>81172.0</td>\n",
       "      <td>True</td>\n",
       "      <td>the is stuck inside a large range between and ...</td>\n",
       "      <td>{'neg': 0.167, 'neu': 0.833, 'pos': 0.0, 'comp...</td>\n",
       "      <td>-0.2500</td>\n",
       "      <td>0.107143</td>\n",
       "      <td>11.818823</td>\n",
       "      <td>-2.954706</td>\n",
       "      <td>1.266302</td>\n",
       "      <td>5.8237</td>\n",
       "      <td>0.693484</td>\n",
       "      <td>0.556068</td>\n",
       "    </tr>\n",
       "    <tr>\n",
       "      <th>2</th>\n",
       "      <td>2021-04-07 09:42:48</td>\n",
       "      <td>Price data of #Bitcoin #BTC pairs on #btcturkp...</td>\n",
       "      <td>90749.0</td>\n",
       "      <td>True</td>\n",
       "      <td>price data of pairs on trade bitcoin and crypt...</td>\n",
       "      <td>{'neg': 0.0, 'neu': 1.0, 'pos': 0.0, 'compound...</td>\n",
       "      <td>0.0000</td>\n",
       "      <td>0.100000</td>\n",
       "      <td>11.915693</td>\n",
       "      <td>0.000000</td>\n",
       "      <td>1.191569</td>\n",
       "      <td>5.8237</td>\n",
       "      <td>0.693484</td>\n",
       "      <td>0.556068</td>\n",
       "    </tr>\n",
       "    <tr>\n",
       "      <th>3</th>\n",
       "      <td>2021-04-07 05:37:45</td>\n",
       "      <td>#WhatsApp rival #Signal reportedly testing pee...</td>\n",
       "      <td>69095.0</td>\n",
       "      <td>True</td>\n",
       "      <td>rival reportedly testing peer to peer payment...</td>\n",
       "      <td>{'neg': 0.0, 'neu': 1.0, 'pos': 0.0, 'compound...</td>\n",
       "      <td>0.0000</td>\n",
       "      <td>0.000000</td>\n",
       "      <td>11.678906</td>\n",
       "      <td>0.000000</td>\n",
       "      <td>0.000000</td>\n",
       "      <td>5.8237</td>\n",
       "      <td>0.693484</td>\n",
       "      <td>0.556068</td>\n",
       "    </tr>\n",
       "    <tr>\n",
       "      <th>4</th>\n",
       "      <td>2021-04-07 04:44:25</td>\n",
       "      <td>When supply is more than demand, what happens?...</td>\n",
       "      <td>147300.0</td>\n",
       "      <td>True</td>\n",
       "      <td>when supply is more than demand what happens i...</td>\n",
       "      <td>{'neg': 0.081, 'neu': 0.728, 'pos': 0.191, 'co...</td>\n",
       "      <td>0.5302</td>\n",
       "      <td>0.750000</td>\n",
       "      <td>12.336411</td>\n",
       "      <td>6.540765</td>\n",
       "      <td>9.252309</td>\n",
       "      <td>5.8237</td>\n",
       "      <td>0.693484</td>\n",
       "      <td>0.556068</td>\n",
       "    </tr>\n",
       "  </tbody>\n",
       "</table>\n",
       "</div>"
      ],
      "text/plain": [
       "                  date                                               text  \\\n",
       "0  2021-04-07 12:03:04  Bitcoin price crash: Cryptocurrency plunges in...   \n",
       "1  2021-04-07 10:03:34  The #BTC is stuck inside a large range between...   \n",
       "2  2021-04-07 09:42:48  Price data of #Bitcoin #BTC pairs on #btcturkp...   \n",
       "3  2021-04-07 05:37:45  #WhatsApp rival #Signal reportedly testing pee...   \n",
       "4  2021-04-07 04:44:25  When supply is more than demand, what happens?...   \n",
       "\n",
       "   user_followers  user_verified  \\\n",
       "0        879107.0           True   \n",
       "1         81172.0           True   \n",
       "2         90749.0           True   \n",
       "3         69095.0           True   \n",
       "4        147300.0           True   \n",
       "\n",
       "                                        cleaned_text  \\\n",
       "0  bitcoin price crash cryptocurrency plunges in ...   \n",
       "1  the is stuck inside a large range between and ...   \n",
       "2  price data of pairs on trade bitcoin and crypt...   \n",
       "3   rival reportedly testing peer to peer payment...   \n",
       "4  when supply is more than demand what happens i...   \n",
       "\n",
       "                                               vader  compound  polarity  \\\n",
       "0  {'neg': 0.338, 'neu': 0.493, 'pos': 0.169, 'co...   -0.3400  0.000000   \n",
       "1  {'neg': 0.167, 'neu': 0.833, 'pos': 0.0, 'comp...   -0.2500  0.107143   \n",
       "2  {'neg': 0.0, 'neu': 1.0, 'pos': 0.0, 'compound...    0.0000  0.100000   \n",
       "3  {'neg': 0.0, 'neu': 1.0, 'pos': 0.0, 'compound...    0.0000  0.000000   \n",
       "4  {'neg': 0.081, 'neu': 0.728, 'pos': 0.191, 'co...    0.5302  0.750000   \n",
       "\n",
       "   impact_score_only  impact_score_var  impact_score_tb  impact_score_avg  \\\n",
       "0          13.888084         -4.721949         0.000000            5.8237   \n",
       "1          11.818823         -2.954706         1.266302            5.8237   \n",
       "2          11.915693          0.000000         1.191569            5.8237   \n",
       "3          11.678906          0.000000         0.000000            5.8237   \n",
       "4          12.336411          6.540765         9.252309            5.8237   \n",
       "\n",
       "   impact_score_var_avg  impact_score_tb_avg  \n",
       "0              0.693484             0.556068  \n",
       "1              0.693484             0.556068  \n",
       "2              0.693484             0.556068  \n",
       "3              0.693484             0.556068  \n",
       "4              0.693484             0.556068  "
      ]
     },
     "execution_count": 6,
     "metadata": {},
     "output_type": "execute_result"
    }
   ],
   "source": [
    "df_sentiment.head()"
   ]
  },
  {
   "cell_type": "markdown",
   "metadata": {},
   "source": [
    "### 3.2. Rename Columns"
   ]
  },
  {
   "cell_type": "code",
   "execution_count": 7,
   "metadata": {},
   "outputs": [],
   "source": [
    "df= df.rename(columns={'0': 'open_time', '1':'open', '2':'high', '3':'low', '4':'close', '5':'volume', '6': 'close_time', '7': 'quote_asset_volume', '8': 'number_of_trades', '9': 'taker_buy_asset_volume', '10': 'taker_buy_quote_asset_volume', '11': 'ignore'})"
   ]
  },
  {
   "cell_type": "markdown",
   "metadata": {},
   "source": [
    "## **4. Exploratory Data Analysis**"
   ]
  },
  {
   "cell_type": "markdown",
   "metadata": {},
   "source": [
    "## **5. Data Preprocessing**"
   ]
  },
  {
   "cell_type": "code",
   "execution_count": 8,
   "metadata": {},
   "outputs": [],
   "source": [
    "df['MA5'] = df['close'].rolling(window=5).mean()"
   ]
  },
  {
   "cell_type": "code",
   "execution_count": 9,
   "metadata": {},
   "outputs": [],
   "source": [
    "# df = df.loc[:, ['close', 'MA5']]"
   ]
  },
  {
   "cell_type": "code",
   "execution_count": 10,
   "metadata": {},
   "outputs": [],
   "source": [
    "df['open_time_conv'] = pd.to_datetime(df['open_time'], unit='ms')"
   ]
  },
  {
   "cell_type": "code",
   "execution_count": 11,
   "metadata": {},
   "outputs": [
    {
     "name": "stdout",
     "output_type": "stream",
     "text": [
      "<class 'pandas.core.frame.DataFrame'>\n",
      "Int64Index: 30793 entries, 0 to 31256\n",
      "Data columns (total 14 columns):\n",
      " #   Column                Non-Null Count  Dtype  \n",
      "---  ------                --------------  -----  \n",
      " 0   date                  30793 non-null  object \n",
      " 1   text                  30793 non-null  object \n",
      " 2   user_followers        30793 non-null  float64\n",
      " 3   user_verified         30793 non-null  bool   \n",
      " 4   cleaned_text          30793 non-null  object \n",
      " 5   vader                 30793 non-null  object \n",
      " 6   compound              30793 non-null  float64\n",
      " 7   polarity              30793 non-null  float64\n",
      " 8   impact_score_only     30793 non-null  float64\n",
      " 9   impact_score_var      30793 non-null  float64\n",
      " 10  impact_score_tb       30793 non-null  float64\n",
      " 11  impact_score_avg      30793 non-null  float64\n",
      " 12  impact_score_var_avg  30793 non-null  float64\n",
      " 13  impact_score_tb_avg   30793 non-null  float64\n",
      "dtypes: bool(1), float64(9), object(4)\n",
      "memory usage: 3.3+ MB\n"
     ]
    }
   ],
   "source": [
    "df_sentiment.info()"
   ]
  },
  {
   "cell_type": "code",
   "execution_count": 12,
   "metadata": {},
   "outputs": [],
   "source": [
    "df_sentiment['date'] = pd.to_datetime(df_sentiment['date'])"
   ]
  },
  {
   "cell_type": "code",
   "execution_count": 13,
   "metadata": {},
   "outputs": [
    {
     "data": {
      "text/html": [
       "<div>\n",
       "<style scoped>\n",
       "    .dataframe tbody tr th:only-of-type {\n",
       "        vertical-align: middle;\n",
       "    }\n",
       "\n",
       "    .dataframe tbody tr th {\n",
       "        vertical-align: top;\n",
       "    }\n",
       "\n",
       "    .dataframe thead th {\n",
       "        text-align: right;\n",
       "    }\n",
       "</style>\n",
       "<table border=\"1\" class=\"dataframe\">\n",
       "  <thead>\n",
       "    <tr style=\"text-align: right;\">\n",
       "      <th></th>\n",
       "      <th>date</th>\n",
       "      <th>text</th>\n",
       "      <th>user_followers</th>\n",
       "      <th>user_verified</th>\n",
       "      <th>cleaned_text</th>\n",
       "      <th>vader</th>\n",
       "      <th>compound</th>\n",
       "      <th>polarity</th>\n",
       "      <th>impact_score_only</th>\n",
       "      <th>impact_score_var</th>\n",
       "      <th>impact_score_tb</th>\n",
       "      <th>impact_score_avg</th>\n",
       "      <th>impact_score_var_avg</th>\n",
       "      <th>impact_score_tb_avg</th>\n",
       "    </tr>\n",
       "    <tr>\n",
       "      <th>date</th>\n",
       "      <th></th>\n",
       "      <th></th>\n",
       "      <th></th>\n",
       "      <th></th>\n",
       "      <th></th>\n",
       "      <th></th>\n",
       "      <th></th>\n",
       "      <th></th>\n",
       "      <th></th>\n",
       "      <th></th>\n",
       "      <th></th>\n",
       "      <th></th>\n",
       "      <th></th>\n",
       "      <th></th>\n",
       "    </tr>\n",
       "  </thead>\n",
       "  <tbody>\n",
       "    <tr>\n",
       "      <th>2021-02-05</th>\n",
       "      <td>98</td>\n",
       "      <td>98</td>\n",
       "      <td>98</td>\n",
       "      <td>98</td>\n",
       "      <td>98</td>\n",
       "      <td>98</td>\n",
       "      <td>98</td>\n",
       "      <td>98</td>\n",
       "      <td>98</td>\n",
       "      <td>98</td>\n",
       "      <td>98</td>\n",
       "      <td>98</td>\n",
       "      <td>98</td>\n",
       "      <td>98</td>\n",
       "    </tr>\n",
       "    <tr>\n",
       "      <th>2021-02-06</th>\n",
       "      <td>105</td>\n",
       "      <td>105</td>\n",
       "      <td>105</td>\n",
       "      <td>105</td>\n",
       "      <td>105</td>\n",
       "      <td>105</td>\n",
       "      <td>105</td>\n",
       "      <td>105</td>\n",
       "      <td>105</td>\n",
       "      <td>105</td>\n",
       "      <td>105</td>\n",
       "      <td>105</td>\n",
       "      <td>105</td>\n",
       "      <td>105</td>\n",
       "    </tr>\n",
       "    <tr>\n",
       "      <th>2021-02-07</th>\n",
       "      <td>115</td>\n",
       "      <td>115</td>\n",
       "      <td>115</td>\n",
       "      <td>115</td>\n",
       "      <td>115</td>\n",
       "      <td>115</td>\n",
       "      <td>115</td>\n",
       "      <td>115</td>\n",
       "      <td>115</td>\n",
       "      <td>115</td>\n",
       "      <td>115</td>\n",
       "      <td>115</td>\n",
       "      <td>115</td>\n",
       "      <td>115</td>\n",
       "    </tr>\n",
       "    <tr>\n",
       "      <th>2021-02-08</th>\n",
       "      <td>116</td>\n",
       "      <td>116</td>\n",
       "      <td>116</td>\n",
       "      <td>116</td>\n",
       "      <td>116</td>\n",
       "      <td>116</td>\n",
       "      <td>116</td>\n",
       "      <td>116</td>\n",
       "      <td>116</td>\n",
       "      <td>116</td>\n",
       "      <td>116</td>\n",
       "      <td>116</td>\n",
       "      <td>116</td>\n",
       "      <td>116</td>\n",
       "    </tr>\n",
       "    <tr>\n",
       "      <th>2021-02-09</th>\n",
       "      <td>103</td>\n",
       "      <td>103</td>\n",
       "      <td>103</td>\n",
       "      <td>103</td>\n",
       "      <td>103</td>\n",
       "      <td>103</td>\n",
       "      <td>103</td>\n",
       "      <td>103</td>\n",
       "      <td>103</td>\n",
       "      <td>103</td>\n",
       "      <td>103</td>\n",
       "      <td>103</td>\n",
       "      <td>103</td>\n",
       "      <td>103</td>\n",
       "    </tr>\n",
       "    <tr>\n",
       "      <th>...</th>\n",
       "      <td>...</td>\n",
       "      <td>...</td>\n",
       "      <td>...</td>\n",
       "      <td>...</td>\n",
       "      <td>...</td>\n",
       "      <td>...</td>\n",
       "      <td>...</td>\n",
       "      <td>...</td>\n",
       "      <td>...</td>\n",
       "      <td>...</td>\n",
       "      <td>...</td>\n",
       "      <td>...</td>\n",
       "      <td>...</td>\n",
       "      <td>...</td>\n",
       "    </tr>\n",
       "    <tr>\n",
       "      <th>2022-03-15</th>\n",
       "      <td>180</td>\n",
       "      <td>180</td>\n",
       "      <td>180</td>\n",
       "      <td>180</td>\n",
       "      <td>180</td>\n",
       "      <td>180</td>\n",
       "      <td>180</td>\n",
       "      <td>180</td>\n",
       "      <td>180</td>\n",
       "      <td>180</td>\n",
       "      <td>180</td>\n",
       "      <td>180</td>\n",
       "      <td>180</td>\n",
       "      <td>180</td>\n",
       "    </tr>\n",
       "    <tr>\n",
       "      <th>2022-03-16</th>\n",
       "      <td>199</td>\n",
       "      <td>199</td>\n",
       "      <td>199</td>\n",
       "      <td>199</td>\n",
       "      <td>199</td>\n",
       "      <td>199</td>\n",
       "      <td>199</td>\n",
       "      <td>199</td>\n",
       "      <td>199</td>\n",
       "      <td>199</td>\n",
       "      <td>199</td>\n",
       "      <td>199</td>\n",
       "      <td>199</td>\n",
       "      <td>199</td>\n",
       "    </tr>\n",
       "    <tr>\n",
       "      <th>2022-03-17</th>\n",
       "      <td>164</td>\n",
       "      <td>164</td>\n",
       "      <td>164</td>\n",
       "      <td>164</td>\n",
       "      <td>164</td>\n",
       "      <td>164</td>\n",
       "      <td>164</td>\n",
       "      <td>164</td>\n",
       "      <td>164</td>\n",
       "      <td>164</td>\n",
       "      <td>164</td>\n",
       "      <td>164</td>\n",
       "      <td>164</td>\n",
       "      <td>164</td>\n",
       "    </tr>\n",
       "    <tr>\n",
       "      <th>2022-03-18</th>\n",
       "      <td>173</td>\n",
       "      <td>173</td>\n",
       "      <td>173</td>\n",
       "      <td>173</td>\n",
       "      <td>173</td>\n",
       "      <td>173</td>\n",
       "      <td>173</td>\n",
       "      <td>173</td>\n",
       "      <td>173</td>\n",
       "      <td>173</td>\n",
       "      <td>173</td>\n",
       "      <td>173</td>\n",
       "      <td>173</td>\n",
       "      <td>173</td>\n",
       "    </tr>\n",
       "    <tr>\n",
       "      <th>2022-03-19</th>\n",
       "      <td>125</td>\n",
       "      <td>125</td>\n",
       "      <td>125</td>\n",
       "      <td>125</td>\n",
       "      <td>125</td>\n",
       "      <td>125</td>\n",
       "      <td>125</td>\n",
       "      <td>125</td>\n",
       "      <td>125</td>\n",
       "      <td>125</td>\n",
       "      <td>125</td>\n",
       "      <td>125</td>\n",
       "      <td>125</td>\n",
       "      <td>125</td>\n",
       "    </tr>\n",
       "  </tbody>\n",
       "</table>\n",
       "<p>127 rows × 14 columns</p>\n",
       "</div>"
      ],
      "text/plain": [
       "            date  text  user_followers  user_verified  cleaned_text  vader  \\\n",
       "date                                                                         \n",
       "2021-02-05    98    98              98             98            98     98   \n",
       "2021-02-06   105   105             105            105           105    105   \n",
       "2021-02-07   115   115             115            115           115    115   \n",
       "2021-02-08   116   116             116            116           116    116   \n",
       "2021-02-09   103   103             103            103           103    103   \n",
       "...          ...   ...             ...            ...           ...    ...   \n",
       "2022-03-15   180   180             180            180           180    180   \n",
       "2022-03-16   199   199             199            199           199    199   \n",
       "2022-03-17   164   164             164            164           164    164   \n",
       "2022-03-18   173   173             173            173           173    173   \n",
       "2022-03-19   125   125             125            125           125    125   \n",
       "\n",
       "            compound  polarity  impact_score_only  impact_score_var  \\\n",
       "date                                                                  \n",
       "2021-02-05        98        98                 98                98   \n",
       "2021-02-06       105       105                105               105   \n",
       "2021-02-07       115       115                115               115   \n",
       "2021-02-08       116       116                116               116   \n",
       "2021-02-09       103       103                103               103   \n",
       "...              ...       ...                ...               ...   \n",
       "2022-03-15       180       180                180               180   \n",
       "2022-03-16       199       199                199               199   \n",
       "2022-03-17       164       164                164               164   \n",
       "2022-03-18       173       173                173               173   \n",
       "2022-03-19       125       125                125               125   \n",
       "\n",
       "            impact_score_tb  impact_score_avg  impact_score_var_avg  \\\n",
       "date                                                                  \n",
       "2021-02-05               98                98                    98   \n",
       "2021-02-06              105               105                   105   \n",
       "2021-02-07              115               115                   115   \n",
       "2021-02-08              116               116                   116   \n",
       "2021-02-09              103               103                   103   \n",
       "...                     ...               ...                   ...   \n",
       "2022-03-15              180               180                   180   \n",
       "2022-03-16              199               199                   199   \n",
       "2022-03-17              164               164                   164   \n",
       "2022-03-18              173               173                   173   \n",
       "2022-03-19              125               125                   125   \n",
       "\n",
       "            impact_score_tb_avg  \n",
       "date                             \n",
       "2021-02-05                   98  \n",
       "2021-02-06                  105  \n",
       "2021-02-07                  115  \n",
       "2021-02-08                  116  \n",
       "2021-02-09                  103  \n",
       "...                         ...  \n",
       "2022-03-15                  180  \n",
       "2022-03-16                  199  \n",
       "2022-03-17                  164  \n",
       "2022-03-18                  173  \n",
       "2022-03-19                  125  \n",
       "\n",
       "[127 rows x 14 columns]"
      ]
     },
     "execution_count": 13,
     "metadata": {},
     "output_type": "execute_result"
    }
   ],
   "source": [
    "df_sentiment.groupby(df_sentiment['date'].dt.date).count()"
   ]
  },
  {
   "cell_type": "code",
   "execution_count": 14,
   "metadata": {},
   "outputs": [],
   "source": [
    "df_sentiment['days'] = pd.to_datetime(df_sentiment['date']).dt.date"
   ]
  },
  {
   "cell_type": "code",
   "execution_count": 15,
   "metadata": {},
   "outputs": [],
   "source": [
    "df_sentiment_avg = df_sentiment.drop_duplicates(subset='days', keep='first')"
   ]
  },
  {
   "cell_type": "code",
   "execution_count": 16,
   "metadata": {},
   "outputs": [
    {
     "data": {
      "text/html": [
       "<div>\n",
       "<style scoped>\n",
       "    .dataframe tbody tr th:only-of-type {\n",
       "        vertical-align: middle;\n",
       "    }\n",
       "\n",
       "    .dataframe tbody tr th {\n",
       "        vertical-align: top;\n",
       "    }\n",
       "\n",
       "    .dataframe thead th {\n",
       "        text-align: right;\n",
       "    }\n",
       "</style>\n",
       "<table border=\"1\" class=\"dataframe\">\n",
       "  <thead>\n",
       "    <tr style=\"text-align: right;\">\n",
       "      <th></th>\n",
       "      <th>open_time</th>\n",
       "      <th>open</th>\n",
       "      <th>high</th>\n",
       "      <th>low</th>\n",
       "      <th>close</th>\n",
       "      <th>volume</th>\n",
       "      <th>close_time</th>\n",
       "      <th>quote_asset_volume</th>\n",
       "      <th>number_of_trades</th>\n",
       "      <th>taker_buy_asset_volume</th>\n",
       "      <th>taker_buy_quote_asset_volume</th>\n",
       "      <th>ignore</th>\n",
       "      <th>MA5</th>\n",
       "      <th>open_time_conv</th>\n",
       "    </tr>\n",
       "    <tr>\n",
       "      <th>open_time_conv</th>\n",
       "      <th></th>\n",
       "      <th></th>\n",
       "      <th></th>\n",
       "      <th></th>\n",
       "      <th></th>\n",
       "      <th></th>\n",
       "      <th></th>\n",
       "      <th></th>\n",
       "      <th></th>\n",
       "      <th></th>\n",
       "      <th></th>\n",
       "      <th></th>\n",
       "      <th></th>\n",
       "      <th></th>\n",
       "    </tr>\n",
       "  </thead>\n",
       "  <tbody>\n",
       "    <tr>\n",
       "      <th>2021-02-01</th>\n",
       "      <td>24</td>\n",
       "      <td>24</td>\n",
       "      <td>24</td>\n",
       "      <td>24</td>\n",
       "      <td>24</td>\n",
       "      <td>24</td>\n",
       "      <td>24</td>\n",
       "      <td>24</td>\n",
       "      <td>24</td>\n",
       "      <td>24</td>\n",
       "      <td>24</td>\n",
       "      <td>24</td>\n",
       "      <td>20</td>\n",
       "      <td>24</td>\n",
       "    </tr>\n",
       "    <tr>\n",
       "      <th>2021-02-02</th>\n",
       "      <td>24</td>\n",
       "      <td>24</td>\n",
       "      <td>24</td>\n",
       "      <td>24</td>\n",
       "      <td>24</td>\n",
       "      <td>24</td>\n",
       "      <td>24</td>\n",
       "      <td>24</td>\n",
       "      <td>24</td>\n",
       "      <td>24</td>\n",
       "      <td>24</td>\n",
       "      <td>24</td>\n",
       "      <td>24</td>\n",
       "      <td>24</td>\n",
       "    </tr>\n",
       "    <tr>\n",
       "      <th>2021-02-03</th>\n",
       "      <td>24</td>\n",
       "      <td>24</td>\n",
       "      <td>24</td>\n",
       "      <td>24</td>\n",
       "      <td>24</td>\n",
       "      <td>24</td>\n",
       "      <td>24</td>\n",
       "      <td>24</td>\n",
       "      <td>24</td>\n",
       "      <td>24</td>\n",
       "      <td>24</td>\n",
       "      <td>24</td>\n",
       "      <td>24</td>\n",
       "      <td>24</td>\n",
       "    </tr>\n",
       "    <tr>\n",
       "      <th>2021-02-04</th>\n",
       "      <td>24</td>\n",
       "      <td>24</td>\n",
       "      <td>24</td>\n",
       "      <td>24</td>\n",
       "      <td>24</td>\n",
       "      <td>24</td>\n",
       "      <td>24</td>\n",
       "      <td>24</td>\n",
       "      <td>24</td>\n",
       "      <td>24</td>\n",
       "      <td>24</td>\n",
       "      <td>24</td>\n",
       "      <td>24</td>\n",
       "      <td>24</td>\n",
       "    </tr>\n",
       "    <tr>\n",
       "      <th>2021-02-05</th>\n",
       "      <td>24</td>\n",
       "      <td>24</td>\n",
       "      <td>24</td>\n",
       "      <td>24</td>\n",
       "      <td>24</td>\n",
       "      <td>24</td>\n",
       "      <td>24</td>\n",
       "      <td>24</td>\n",
       "      <td>24</td>\n",
       "      <td>24</td>\n",
       "      <td>24</td>\n",
       "      <td>24</td>\n",
       "      <td>24</td>\n",
       "      <td>24</td>\n",
       "    </tr>\n",
       "    <tr>\n",
       "      <th>...</th>\n",
       "      <td>...</td>\n",
       "      <td>...</td>\n",
       "      <td>...</td>\n",
       "      <td>...</td>\n",
       "      <td>...</td>\n",
       "      <td>...</td>\n",
       "      <td>...</td>\n",
       "      <td>...</td>\n",
       "      <td>...</td>\n",
       "      <td>...</td>\n",
       "      <td>...</td>\n",
       "      <td>...</td>\n",
       "      <td>...</td>\n",
       "      <td>...</td>\n",
       "    </tr>\n",
       "    <tr>\n",
       "      <th>2022-03-28</th>\n",
       "      <td>24</td>\n",
       "      <td>24</td>\n",
       "      <td>24</td>\n",
       "      <td>24</td>\n",
       "      <td>24</td>\n",
       "      <td>24</td>\n",
       "      <td>24</td>\n",
       "      <td>24</td>\n",
       "      <td>24</td>\n",
       "      <td>24</td>\n",
       "      <td>24</td>\n",
       "      <td>24</td>\n",
       "      <td>24</td>\n",
       "      <td>24</td>\n",
       "    </tr>\n",
       "    <tr>\n",
       "      <th>2022-03-29</th>\n",
       "      <td>24</td>\n",
       "      <td>24</td>\n",
       "      <td>24</td>\n",
       "      <td>24</td>\n",
       "      <td>24</td>\n",
       "      <td>24</td>\n",
       "      <td>24</td>\n",
       "      <td>24</td>\n",
       "      <td>24</td>\n",
       "      <td>24</td>\n",
       "      <td>24</td>\n",
       "      <td>24</td>\n",
       "      <td>24</td>\n",
       "      <td>24</td>\n",
       "    </tr>\n",
       "    <tr>\n",
       "      <th>2022-03-30</th>\n",
       "      <td>24</td>\n",
       "      <td>24</td>\n",
       "      <td>24</td>\n",
       "      <td>24</td>\n",
       "      <td>24</td>\n",
       "      <td>24</td>\n",
       "      <td>24</td>\n",
       "      <td>24</td>\n",
       "      <td>24</td>\n",
       "      <td>24</td>\n",
       "      <td>24</td>\n",
       "      <td>24</td>\n",
       "      <td>24</td>\n",
       "      <td>24</td>\n",
       "    </tr>\n",
       "    <tr>\n",
       "      <th>2022-03-31</th>\n",
       "      <td>24</td>\n",
       "      <td>24</td>\n",
       "      <td>24</td>\n",
       "      <td>24</td>\n",
       "      <td>24</td>\n",
       "      <td>24</td>\n",
       "      <td>24</td>\n",
       "      <td>24</td>\n",
       "      <td>24</td>\n",
       "      <td>24</td>\n",
       "      <td>24</td>\n",
       "      <td>24</td>\n",
       "      <td>24</td>\n",
       "      <td>24</td>\n",
       "    </tr>\n",
       "    <tr>\n",
       "      <th>2022-04-01</th>\n",
       "      <td>6</td>\n",
       "      <td>6</td>\n",
       "      <td>6</td>\n",
       "      <td>6</td>\n",
       "      <td>6</td>\n",
       "      <td>6</td>\n",
       "      <td>6</td>\n",
       "      <td>6</td>\n",
       "      <td>6</td>\n",
       "      <td>6</td>\n",
       "      <td>6</td>\n",
       "      <td>6</td>\n",
       "      <td>6</td>\n",
       "      <td>6</td>\n",
       "    </tr>\n",
       "  </tbody>\n",
       "</table>\n",
       "<p>425 rows × 14 columns</p>\n",
       "</div>"
      ],
      "text/plain": [
       "                open_time  open  high  low  close  volume  close_time  \\\n",
       "open_time_conv                                                          \n",
       "2021-02-01             24    24    24   24     24      24          24   \n",
       "2021-02-02             24    24    24   24     24      24          24   \n",
       "2021-02-03             24    24    24   24     24      24          24   \n",
       "2021-02-04             24    24    24   24     24      24          24   \n",
       "2021-02-05             24    24    24   24     24      24          24   \n",
       "...                   ...   ...   ...  ...    ...     ...         ...   \n",
       "2022-03-28             24    24    24   24     24      24          24   \n",
       "2022-03-29             24    24    24   24     24      24          24   \n",
       "2022-03-30             24    24    24   24     24      24          24   \n",
       "2022-03-31             24    24    24   24     24      24          24   \n",
       "2022-04-01              6     6     6    6      6       6           6   \n",
       "\n",
       "                quote_asset_volume  number_of_trades  taker_buy_asset_volume  \\\n",
       "open_time_conv                                                                 \n",
       "2021-02-01                      24                24                      24   \n",
       "2021-02-02                      24                24                      24   \n",
       "2021-02-03                      24                24                      24   \n",
       "2021-02-04                      24                24                      24   \n",
       "2021-02-05                      24                24                      24   \n",
       "...                            ...               ...                     ...   \n",
       "2022-03-28                      24                24                      24   \n",
       "2022-03-29                      24                24                      24   \n",
       "2022-03-30                      24                24                      24   \n",
       "2022-03-31                      24                24                      24   \n",
       "2022-04-01                       6                 6                       6   \n",
       "\n",
       "                taker_buy_quote_asset_volume  ignore  MA5  open_time_conv  \n",
       "open_time_conv                                                             \n",
       "2021-02-01                                24      24   20              24  \n",
       "2021-02-02                                24      24   24              24  \n",
       "2021-02-03                                24      24   24              24  \n",
       "2021-02-04                                24      24   24              24  \n",
       "2021-02-05                                24      24   24              24  \n",
       "...                                      ...     ...  ...             ...  \n",
       "2022-03-28                                24      24   24              24  \n",
       "2022-03-29                                24      24   24              24  \n",
       "2022-03-30                                24      24   24              24  \n",
       "2022-03-31                                24      24   24              24  \n",
       "2022-04-01                                 6       6    6               6  \n",
       "\n",
       "[425 rows x 14 columns]"
      ]
     },
     "execution_count": 16,
     "metadata": {},
     "output_type": "execute_result"
    }
   ],
   "source": [
    "df.groupby(df['open_time_conv'].dt.date).count()"
   ]
  },
  {
   "cell_type": "code",
   "execution_count": 17,
   "metadata": {},
   "outputs": [],
   "source": [
    "daterange = pd.date_range(\"2021-02-05\", \"2022-03-19\")"
   ]
  },
  {
   "cell_type": "code",
   "execution_count": 18,
   "metadata": {},
   "outputs": [],
   "source": [
    "for date in daterange:\n",
    "    if date not in df_sentiment_avg['days'].values:\n",
    "        df_sentiment_avg = df_sentiment_avg.append({'days': date, 'impact_score_var_avg': 0, 'impact_score_tb_avg': 0}, ignore_index=True)"
   ]
  },
  {
   "cell_type": "code",
   "execution_count": 19,
   "metadata": {},
   "outputs": [],
   "source": [
    "df_sentiment_avg = df_sentiment_avg[['impact_score_var_avg', 'impact_score_tb_avg', 'days']]\n",
    "df_sentiment_avg['days'] = pd.to_datetime(df_sentiment_avg['days']).dt.date"
   ]
  },
  {
   "cell_type": "code",
   "execution_count": 20,
   "metadata": {},
   "outputs": [],
   "source": [
    "df_sentiment_avg.sort_values(by='days', inplace=True)\n",
    "df_sentiment_avg.reset_index(drop=True, inplace=True)"
   ]
  },
  {
   "cell_type": "code",
   "execution_count": 21,
   "metadata": {},
   "outputs": [],
   "source": [
    "df_sentiment_avg = df_sentiment_avg.sort_values(by='days')\n",
    "df_sentiment_avg.reset_index(drop=True, inplace=True)"
   ]
  },
  {
   "cell_type": "code",
   "execution_count": 22,
   "metadata": {},
   "outputs": [],
   "source": [
    "df_merge = df.copy()\n",
    "df_merge['days'] = pd.to_datetime(df_merge['open_time_conv']).dt.date"
   ]
  },
  {
   "cell_type": "code",
   "execution_count": 23,
   "metadata": {},
   "outputs": [],
   "source": [
    "df_merge = df_merge.merge(df_sentiment_avg, on='days', how='left')"
   ]
  },
  {
   "cell_type": "code",
   "execution_count": 24,
   "metadata": {},
   "outputs": [],
   "source": [
    "df_merge.dropna(inplace=True)"
   ]
  },
  {
   "cell_type": "code",
   "execution_count": 25,
   "metadata": {},
   "outputs": [
    {
     "data": {
      "text/html": [
       "<div>\n",
       "<style scoped>\n",
       "    .dataframe tbody tr th:only-of-type {\n",
       "        vertical-align: middle;\n",
       "    }\n",
       "\n",
       "    .dataframe tbody tr th {\n",
       "        vertical-align: top;\n",
       "    }\n",
       "\n",
       "    .dataframe thead th {\n",
       "        text-align: right;\n",
       "    }\n",
       "</style>\n",
       "<table border=\"1\" class=\"dataframe\">\n",
       "  <thead>\n",
       "    <tr style=\"text-align: right;\">\n",
       "      <th></th>\n",
       "      <th>open_time</th>\n",
       "      <th>open</th>\n",
       "      <th>high</th>\n",
       "      <th>low</th>\n",
       "      <th>close</th>\n",
       "      <th>volume</th>\n",
       "      <th>close_time</th>\n",
       "      <th>quote_asset_volume</th>\n",
       "      <th>number_of_trades</th>\n",
       "      <th>taker_buy_asset_volume</th>\n",
       "      <th>taker_buy_quote_asset_volume</th>\n",
       "      <th>ignore</th>\n",
       "      <th>MA5</th>\n",
       "      <th>open_time_conv</th>\n",
       "      <th>days</th>\n",
       "      <th>impact_score_var_avg</th>\n",
       "      <th>impact_score_tb_avg</th>\n",
       "    </tr>\n",
       "  </thead>\n",
       "  <tbody>\n",
       "    <tr>\n",
       "      <th>96</th>\n",
       "      <td>1612483200000</td>\n",
       "      <td>36936.65</td>\n",
       "      <td>37227.22</td>\n",
       "      <td>36795.72</td>\n",
       "      <td>36993.25</td>\n",
       "      <td>2538.982425</td>\n",
       "      <td>1612486799999</td>\n",
       "      <td>9.406054e+07</td>\n",
       "      <td>66150</td>\n",
       "      <td>1370.475025</td>\n",
       "      <td>5.078107e+07</td>\n",
       "      <td>0</td>\n",
       "      <td>37285.244</td>\n",
       "      <td>2021-02-05 00:00:00</td>\n",
       "      <td>2021-02-05</td>\n",
       "      <td>1.070502</td>\n",
       "      <td>0.758567</td>\n",
       "    </tr>\n",
       "    <tr>\n",
       "      <th>97</th>\n",
       "      <td>1612486800000</td>\n",
       "      <td>36993.25</td>\n",
       "      <td>37300.00</td>\n",
       "      <td>36570.00</td>\n",
       "      <td>36632.38</td>\n",
       "      <td>2618.349898</td>\n",
       "      <td>1612490399999</td>\n",
       "      <td>9.691924e+07</td>\n",
       "      <td>65505</td>\n",
       "      <td>1214.699360</td>\n",
       "      <td>4.498659e+07</td>\n",
       "      <td>0</td>\n",
       "      <td>37089.058</td>\n",
       "      <td>2021-02-05 01:00:00</td>\n",
       "      <td>2021-02-05</td>\n",
       "      <td>1.070502</td>\n",
       "      <td>0.758567</td>\n",
       "    </tr>\n",
       "    <tr>\n",
       "      <th>98</th>\n",
       "      <td>1612490400000</td>\n",
       "      <td>36632.38</td>\n",
       "      <td>36990.00</td>\n",
       "      <td>36570.00</td>\n",
       "      <td>36958.28</td>\n",
       "      <td>2861.360001</td>\n",
       "      <td>1612493999999</td>\n",
       "      <td>1.052216e+08</td>\n",
       "      <td>66191</td>\n",
       "      <td>1351.233826</td>\n",
       "      <td>4.968679e+07</td>\n",
       "      <td>0</td>\n",
       "      <td>36952.114</td>\n",
       "      <td>2021-02-05 02:00:00</td>\n",
       "      <td>2021-02-05</td>\n",
       "      <td>1.070502</td>\n",
       "      <td>0.758567</td>\n",
       "    </tr>\n",
       "    <tr>\n",
       "      <th>99</th>\n",
       "      <td>1612494000000</td>\n",
       "      <td>36958.33</td>\n",
       "      <td>37400.00</td>\n",
       "      <td>36909.71</td>\n",
       "      <td>37366.02</td>\n",
       "      <td>2614.237210</td>\n",
       "      <td>1612497599999</td>\n",
       "      <td>9.733176e+07</td>\n",
       "      <td>68270</td>\n",
       "      <td>1382.645039</td>\n",
       "      <td>5.148348e+07</td>\n",
       "      <td>0</td>\n",
       "      <td>36977.318</td>\n",
       "      <td>2021-02-05 03:00:00</td>\n",
       "      <td>2021-02-05</td>\n",
       "      <td>1.070502</td>\n",
       "      <td>0.758567</td>\n",
       "    </tr>\n",
       "    <tr>\n",
       "      <th>100</th>\n",
       "      <td>1612497600000</td>\n",
       "      <td>37366.01</td>\n",
       "      <td>37499.00</td>\n",
       "      <td>37187.81</td>\n",
       "      <td>37266.78</td>\n",
       "      <td>1902.890739</td>\n",
       "      <td>1612501199999</td>\n",
       "      <td>7.099173e+07</td>\n",
       "      <td>54835</td>\n",
       "      <td>998.866607</td>\n",
       "      <td>3.726447e+07</td>\n",
       "      <td>0</td>\n",
       "      <td>37043.342</td>\n",
       "      <td>2021-02-05 04:00:00</td>\n",
       "      <td>2021-02-05</td>\n",
       "      <td>1.070502</td>\n",
       "      <td>0.758567</td>\n",
       "    </tr>\n",
       "    <tr>\n",
       "      <th>...</th>\n",
       "      <td>...</td>\n",
       "      <td>...</td>\n",
       "      <td>...</td>\n",
       "      <td>...</td>\n",
       "      <td>...</td>\n",
       "      <td>...</td>\n",
       "      <td>...</td>\n",
       "      <td>...</td>\n",
       "      <td>...</td>\n",
       "      <td>...</td>\n",
       "      <td>...</td>\n",
       "      <td>...</td>\n",
       "      <td>...</td>\n",
       "      <td>...</td>\n",
       "      <td>...</td>\n",
       "      <td>...</td>\n",
       "      <td>...</td>\n",
       "    </tr>\n",
       "    <tr>\n",
       "      <th>9870</th>\n",
       "      <td>1647716400000</td>\n",
       "      <td>42010.00</td>\n",
       "      <td>42092.49</td>\n",
       "      <td>41912.00</td>\n",
       "      <td>42034.88</td>\n",
       "      <td>1120.037140</td>\n",
       "      <td>1647719999999</td>\n",
       "      <td>4.704134e+07</td>\n",
       "      <td>27940</td>\n",
       "      <td>594.264380</td>\n",
       "      <td>2.496002e+07</td>\n",
       "      <td>0</td>\n",
       "      <td>41969.768</td>\n",
       "      <td>2022-03-19 19:00:00</td>\n",
       "      <td>2022-03-19</td>\n",
       "      <td>1.902353</td>\n",
       "      <td>1.247385</td>\n",
       "    </tr>\n",
       "    <tr>\n",
       "      <th>9871</th>\n",
       "      <td>1647720000000</td>\n",
       "      <td>42034.87</td>\n",
       "      <td>42400.00</td>\n",
       "      <td>41895.98</td>\n",
       "      <td>42191.28</td>\n",
       "      <td>1678.807380</td>\n",
       "      <td>1647723599999</td>\n",
       "      <td>7.080695e+07</td>\n",
       "      <td>48331</td>\n",
       "      <td>951.341400</td>\n",
       "      <td>4.013007e+07</td>\n",
       "      <td>0</td>\n",
       "      <td>42020.488</td>\n",
       "      <td>2022-03-19 20:00:00</td>\n",
       "      <td>2022-03-19</td>\n",
       "      <td>1.902353</td>\n",
       "      <td>1.247385</td>\n",
       "    </tr>\n",
       "    <tr>\n",
       "      <th>9872</th>\n",
       "      <td>1647723600000</td>\n",
       "      <td>42191.28</td>\n",
       "      <td>42359.15</td>\n",
       "      <td>42096.09</td>\n",
       "      <td>42115.73</td>\n",
       "      <td>775.167240</td>\n",
       "      <td>1647727199999</td>\n",
       "      <td>3.275074e+07</td>\n",
       "      <td>28954</td>\n",
       "      <td>377.016880</td>\n",
       "      <td>1.592884e+07</td>\n",
       "      <td>0</td>\n",
       "      <td>42048.262</td>\n",
       "      <td>2022-03-19 21:00:00</td>\n",
       "      <td>2022-03-19</td>\n",
       "      <td>1.902353</td>\n",
       "      <td>1.247385</td>\n",
       "    </tr>\n",
       "    <tr>\n",
       "      <th>9873</th>\n",
       "      <td>1647727200000</td>\n",
       "      <td>42115.73</td>\n",
       "      <td>42145.31</td>\n",
       "      <td>41715.43</td>\n",
       "      <td>41954.53</td>\n",
       "      <td>1836.479140</td>\n",
       "      <td>1647730799999</td>\n",
       "      <td>7.689435e+07</td>\n",
       "      <td>48151</td>\n",
       "      <td>850.568720</td>\n",
       "      <td>3.561472e+07</td>\n",
       "      <td>0</td>\n",
       "      <td>42061.284</td>\n",
       "      <td>2022-03-19 22:00:00</td>\n",
       "      <td>2022-03-19</td>\n",
       "      <td>1.902353</td>\n",
       "      <td>1.247385</td>\n",
       "    </tr>\n",
       "    <tr>\n",
       "      <th>9874</th>\n",
       "      <td>1647730800000</td>\n",
       "      <td>41954.52</td>\n",
       "      <td>42296.38</td>\n",
       "      <td>41916.02</td>\n",
       "      <td>42201.13</td>\n",
       "      <td>951.142990</td>\n",
       "      <td>1647734399999</td>\n",
       "      <td>4.006657e+07</td>\n",
       "      <td>29534</td>\n",
       "      <td>500.429820</td>\n",
       "      <td>2.107486e+07</td>\n",
       "      <td>0</td>\n",
       "      <td>42099.510</td>\n",
       "      <td>2022-03-19 23:00:00</td>\n",
       "      <td>2022-03-19</td>\n",
       "      <td>1.902353</td>\n",
       "      <td>1.247385</td>\n",
       "    </tr>\n",
       "  </tbody>\n",
       "</table>\n",
       "<p>9779 rows × 17 columns</p>\n",
       "</div>"
      ],
      "text/plain": [
       "          open_time      open      high       low     close       volume  \\\n",
       "96    1612483200000  36936.65  37227.22  36795.72  36993.25  2538.982425   \n",
       "97    1612486800000  36993.25  37300.00  36570.00  36632.38  2618.349898   \n",
       "98    1612490400000  36632.38  36990.00  36570.00  36958.28  2861.360001   \n",
       "99    1612494000000  36958.33  37400.00  36909.71  37366.02  2614.237210   \n",
       "100   1612497600000  37366.01  37499.00  37187.81  37266.78  1902.890739   \n",
       "...             ...       ...       ...       ...       ...          ...   \n",
       "9870  1647716400000  42010.00  42092.49  41912.00  42034.88  1120.037140   \n",
       "9871  1647720000000  42034.87  42400.00  41895.98  42191.28  1678.807380   \n",
       "9872  1647723600000  42191.28  42359.15  42096.09  42115.73   775.167240   \n",
       "9873  1647727200000  42115.73  42145.31  41715.43  41954.53  1836.479140   \n",
       "9874  1647730800000  41954.52  42296.38  41916.02  42201.13   951.142990   \n",
       "\n",
       "         close_time  quote_asset_volume  number_of_trades  \\\n",
       "96    1612486799999        9.406054e+07             66150   \n",
       "97    1612490399999        9.691924e+07             65505   \n",
       "98    1612493999999        1.052216e+08             66191   \n",
       "99    1612497599999        9.733176e+07             68270   \n",
       "100   1612501199999        7.099173e+07             54835   \n",
       "...             ...                 ...               ...   \n",
       "9870  1647719999999        4.704134e+07             27940   \n",
       "9871  1647723599999        7.080695e+07             48331   \n",
       "9872  1647727199999        3.275074e+07             28954   \n",
       "9873  1647730799999        7.689435e+07             48151   \n",
       "9874  1647734399999        4.006657e+07             29534   \n",
       "\n",
       "      taker_buy_asset_volume  taker_buy_quote_asset_volume  ignore        MA5  \\\n",
       "96               1370.475025                  5.078107e+07       0  37285.244   \n",
       "97               1214.699360                  4.498659e+07       0  37089.058   \n",
       "98               1351.233826                  4.968679e+07       0  36952.114   \n",
       "99               1382.645039                  5.148348e+07       0  36977.318   \n",
       "100               998.866607                  3.726447e+07       0  37043.342   \n",
       "...                      ...                           ...     ...        ...   \n",
       "9870              594.264380                  2.496002e+07       0  41969.768   \n",
       "9871              951.341400                  4.013007e+07       0  42020.488   \n",
       "9872              377.016880                  1.592884e+07       0  42048.262   \n",
       "9873              850.568720                  3.561472e+07       0  42061.284   \n",
       "9874              500.429820                  2.107486e+07       0  42099.510   \n",
       "\n",
       "          open_time_conv        days  impact_score_var_avg  \\\n",
       "96   2021-02-05 00:00:00  2021-02-05              1.070502   \n",
       "97   2021-02-05 01:00:00  2021-02-05              1.070502   \n",
       "98   2021-02-05 02:00:00  2021-02-05              1.070502   \n",
       "99   2021-02-05 03:00:00  2021-02-05              1.070502   \n",
       "100  2021-02-05 04:00:00  2021-02-05              1.070502   \n",
       "...                  ...         ...                   ...   \n",
       "9870 2022-03-19 19:00:00  2022-03-19              1.902353   \n",
       "9871 2022-03-19 20:00:00  2022-03-19              1.902353   \n",
       "9872 2022-03-19 21:00:00  2022-03-19              1.902353   \n",
       "9873 2022-03-19 22:00:00  2022-03-19              1.902353   \n",
       "9874 2022-03-19 23:00:00  2022-03-19              1.902353   \n",
       "\n",
       "      impact_score_tb_avg  \n",
       "96               0.758567  \n",
       "97               0.758567  \n",
       "98               0.758567  \n",
       "99               0.758567  \n",
       "100              0.758567  \n",
       "...                   ...  \n",
       "9870             1.247385  \n",
       "9871             1.247385  \n",
       "9872             1.247385  \n",
       "9873             1.247385  \n",
       "9874             1.247385  \n",
       "\n",
       "[9779 rows x 17 columns]"
      ]
     },
     "execution_count": 25,
     "metadata": {},
     "output_type": "execute_result"
    }
   ],
   "source": [
    "df_merge"
   ]
  },
  {
   "cell_type": "markdown",
   "metadata": {},
   "source": [
    "### 5.1. Split Dataset"
   ]
  },
  {
   "cell_type": "code",
   "execution_count": 26,
   "metadata": {},
   "outputs": [],
   "source": [
    "# Split data into train and test\n",
    "\n",
    "train_data_length = len(df_merge) - 168\n",
    "\n",
    "data_train = df_merge.iloc[:train_data_length]\n",
    "X_test = df_merge.iloc[train_data_length:]"
   ]
  },
  {
   "cell_type": "code",
   "execution_count": 27,
   "metadata": {},
   "outputs": [],
   "source": [
    "# Split train set into train and validation\n",
    "\n",
    "train_data_length = math.ceil(data_train.shape[0] * 0.9)\n",
    "\n",
    "X_train = data_train.iloc[:train_data_length]\n",
    "X_val = data_train.iloc[train_data_length:]"
   ]
  },
  {
   "cell_type": "markdown",
   "metadata": {},
   "source": [
    "### 5.2. Drop First NaN"
   ]
  },
  {
   "cell_type": "code",
   "execution_count": 28,
   "metadata": {},
   "outputs": [],
   "source": [
    "X_train.dropna(inplace=True)"
   ]
  },
  {
   "cell_type": "markdown",
   "metadata": {},
   "source": [
    "### 5.3. Feature Selection"
   ]
  },
  {
   "cell_type": "code",
   "execution_count": 29,
   "metadata": {},
   "outputs": [],
   "source": [
    "X_train_selected = X_train.loc[:, ['close','open','low','high', 'MA5', 'impact_score_var_avg'] ]\n",
    "X_val_selected = X_val.loc[:, ['close','open','low','high', 'MA5', 'impact_score_var_avg'] ]\n",
    "X_test_selected = X_test.loc[:, ['close','open','low','high', 'MA5', 'impact_score_var_avg'] ]"
   ]
  },
  {
   "cell_type": "markdown",
   "metadata": {},
   "source": [
    "### 5.4. Feature Scaling"
   ]
  },
  {
   "cell_type": "code",
   "execution_count": 30,
   "metadata": {},
   "outputs": [],
   "source": [
    "scaler = RobustScaler()\n",
    "scaler.fit(X_train_selected)\n",
    "\n",
    "X_train_scaled = scaler.transform(X_train_selected)\n",
    "X_val_scaled = scaler.transform(X_val_selected)\n",
    "X_test_scaled = scaler.transform(X_test_selected)"
   ]
  },
  {
   "cell_type": "markdown",
   "metadata": {},
   "source": [
    "### 5.5. Feature Extraction"
   ]
  },
  {
   "cell_type": "markdown",
   "metadata": {},
   "source": [
    "#### 5.5.1. Add Time Steps Into Features"
   ]
  },
  {
   "cell_type": "code",
   "execution_count": 31,
   "metadata": {},
   "outputs": [],
   "source": [
    "sequence_length = 5\n",
    "\n",
    "def partition_dataset(sequence_length, data):\n",
    "    x, y = [], []\n",
    "    data_len = data.shape[0]\n",
    "\n",
    "    for i in range(sequence_length, data_len):\n",
    "        x.append(data[i-sequence_length:i, :]) \n",
    "        y.append(data[i, 0]) \n",
    "    \n",
    "    x = np.array(x)\n",
    "    y = np.array(y)\n",
    "    return x, y\n",
    "    "
   ]
  },
  {
   "cell_type": "code",
   "execution_count": 32,
   "metadata": {},
   "outputs": [],
   "source": [
    "X_train_final, y_train = partition_dataset(sequence_length, X_train_scaled)\n",
    "X_val_final, y_val = partition_dataset(sequence_length, X_val_scaled)\n",
    "X_test_final, y_test = partition_dataset(sequence_length, X_test_scaled)"
   ]
  },
  {
   "cell_type": "markdown",
   "metadata": {},
   "source": [
    "#### 5.5.2. Distribution Shape Check"
   ]
  },
  {
   "cell_type": "code",
   "execution_count": 33,
   "metadata": {},
   "outputs": [
    {
     "name": "stdout",
     "output_type": "stream",
     "text": [
      "(8645, 5, 6) (8645,) (163, 5, 6) (163,)\n"
     ]
    }
   ],
   "source": [
    "print(X_train_final.shape, y_train.shape, X_test_final.shape, y_test.shape)"
   ]
  },
  {
   "cell_type": "markdown",
   "metadata": {},
   "source": [
    "## **6. Build Model**"
   ]
  },
  {
   "cell_type": "code",
   "execution_count": 34,
   "metadata": {},
   "outputs": [
    {
     "name": "stdout",
     "output_type": "stream",
     "text": [
      "timesteps: 5, features: 6, neurons: 30\n",
      "Model: \"sequential\"\n",
      "_________________________________________________________________\n",
      " Layer (type)                Output Shape              Param #   \n",
      "=================================================================\n",
      " simple_rnn (SimpleRNN)      (None, 5, 15)             330       \n",
      "                                                                 \n",
      " simple_rnn_1 (SimpleRNN)    (None, 5, 2)              36        \n",
      "                                                                 \n",
      " simple_rnn_2 (SimpleRNN)    (None, 1)                 4         \n",
      "                                                                 \n",
      "=================================================================\n",
      "Total params: 370\n",
      "Trainable params: 370\n",
      "Non-trainable params: 0\n",
      "_________________________________________________________________\n"
     ]
    }
   ],
   "source": [
    "base_model = Sequential()\n",
    "\n",
    "n_neurons = X_train_final.shape[1] * X_train_final.shape[2]\n",
    "print('timesteps: ' + str(X_train_final.shape[1]) + ',' + ' features: ' + str(X_train_final.shape[2]) + ', neurons: ' + str(n_neurons))\n",
    "\n",
    "# Model\n",
    "\n",
    "base_model.add(layers.SimpleRNN(15, return_sequences=True, input_shape=(X_train_final.shape[1], X_train_final.shape[2])))\n",
    "base_model.add(layers.SimpleRNN(2, return_sequences=True))\n",
    "base_model.add(layers.SimpleRNN(1))\n",
    " \n",
    "# Hyperparameters\n",
    "optimizer='adam'; loss='mean_squared_error'; epochs = 30; batch_size = 128; patience = 6;\n",
    "\n",
    "base_model.compile(optimizer=optimizer, loss=loss, metrics=['mean_squared_error'])\n",
    "\n",
    "# early_stop = EarlyStopping(monitor='loss', \n",
    "#                            patience=patience, \n",
    "#                            verbose=0)\n",
    "\n",
    "base_model.summary()"
   ]
  },
  {
   "cell_type": "code",
   "execution_count": 35,
   "metadata": {},
   "outputs": [
    {
     "name": "stdout",
     "output_type": "stream",
     "text": [
      "Parameters: ['epochs: 30', 'batch_size: 128', 'patience: 6', 'optimizer: adam', 'loss: mean_squared_error']\n"
     ]
    }
   ],
   "source": [
    "parameter_list = ['epochs: ' + str(epochs), 'batch_size: ' + str(batch_size), 'patience: ' + str(patience), 'optimizer: ' + str(optimizer), 'loss: ' + str(loss)]\n",
    "print('Parameters: ' + str(parameter_list))"
   ]
  },
  {
   "cell_type": "code",
   "execution_count": 36,
   "metadata": {},
   "outputs": [
    {
     "name": "stdout",
     "output_type": "stream",
     "text": [
      "Epoch 1/30\n",
      "68/68 [==============================] - 2s 7ms/step - loss: 0.2659 - mean_squared_error: 0.2659 - val_loss: 0.0334 - val_mean_squared_error: 0.0334\n",
      "Epoch 2/30\n",
      "68/68 [==============================] - 0s 3ms/step - loss: 0.0392 - mean_squared_error: 0.0392 - val_loss: 0.0143 - val_mean_squared_error: 0.0143\n",
      "Epoch 3/30\n",
      "68/68 [==============================] - 0s 3ms/step - loss: 0.0252 - mean_squared_error: 0.0252 - val_loss: 0.0108 - val_mean_squared_error: 0.0108\n",
      "Epoch 4/30\n",
      "68/68 [==============================] - 0s 3ms/step - loss: 0.0192 - mean_squared_error: 0.0192 - val_loss: 0.0097 - val_mean_squared_error: 0.0097\n",
      "Epoch 5/30\n",
      "68/68 [==============================] - 0s 3ms/step - loss: 0.0159 - mean_squared_error: 0.0159 - val_loss: 0.0090 - val_mean_squared_error: 0.0090\n",
      "Epoch 6/30\n",
      "68/68 [==============================] - 0s 3ms/step - loss: 0.0138 - mean_squared_error: 0.0138 - val_loss: 0.0080 - val_mean_squared_error: 0.0080\n",
      "Epoch 7/30\n",
      "68/68 [==============================] - 0s 3ms/step - loss: 0.0124 - mean_squared_error: 0.0124 - val_loss: 0.0075 - val_mean_squared_error: 0.0075\n",
      "Epoch 8/30\n",
      "68/68 [==============================] - 0s 3ms/step - loss: 0.0114 - mean_squared_error: 0.0114 - val_loss: 0.0075 - val_mean_squared_error: 0.0075\n",
      "Epoch 9/30\n",
      "68/68 [==============================] - 0s 3ms/step - loss: 0.0105 - mean_squared_error: 0.0105 - val_loss: 0.0065 - val_mean_squared_error: 0.0065\n",
      "Epoch 10/30\n",
      "68/68 [==============================] - 0s 3ms/step - loss: 0.0096 - mean_squared_error: 0.0096 - val_loss: 0.0061 - val_mean_squared_error: 0.0061\n",
      "Epoch 11/30\n",
      "68/68 [==============================] - 0s 3ms/step - loss: 0.0089 - mean_squared_error: 0.0089 - val_loss: 0.0052 - val_mean_squared_error: 0.0052\n",
      "Epoch 12/30\n",
      "68/68 [==============================] - 0s 3ms/step - loss: 0.0082 - mean_squared_error: 0.0082 - val_loss: 0.0046 - val_mean_squared_error: 0.0046\n",
      "Epoch 13/30\n",
      "68/68 [==============================] - 0s 3ms/step - loss: 0.0077 - mean_squared_error: 0.0077 - val_loss: 0.0044 - val_mean_squared_error: 0.0044\n",
      "Epoch 14/30\n",
      "68/68 [==============================] - 0s 3ms/step - loss: 0.0073 - mean_squared_error: 0.0073 - val_loss: 0.0039 - val_mean_squared_error: 0.0039\n",
      "Epoch 15/30\n",
      "68/68 [==============================] - 0s 3ms/step - loss: 0.0069 - mean_squared_error: 0.0069 - val_loss: 0.0040 - val_mean_squared_error: 0.0040\n",
      "Epoch 16/30\n",
      "68/68 [==============================] - 0s 3ms/step - loss: 0.0066 - mean_squared_error: 0.0066 - val_loss: 0.0034 - val_mean_squared_error: 0.0034\n",
      "Epoch 17/30\n",
      "68/68 [==============================] - 0s 3ms/step - loss: 0.0064 - mean_squared_error: 0.0064 - val_loss: 0.0032 - val_mean_squared_error: 0.0032\n",
      "Epoch 18/30\n",
      "68/68 [==============================] - 0s 3ms/step - loss: 0.0061 - mean_squared_error: 0.0061 - val_loss: 0.0029 - val_mean_squared_error: 0.0029\n",
      "Epoch 19/30\n",
      "68/68 [==============================] - 0s 3ms/step - loss: 0.0060 - mean_squared_error: 0.0060 - val_loss: 0.0024 - val_mean_squared_error: 0.0024\n",
      "Epoch 20/30\n",
      "68/68 [==============================] - 0s 3ms/step - loss: 0.0057 - mean_squared_error: 0.0057 - val_loss: 0.0022 - val_mean_squared_error: 0.0022\n",
      "Epoch 21/30\n",
      "68/68 [==============================] - 0s 3ms/step - loss: 0.0054 - mean_squared_error: 0.0054 - val_loss: 0.0020 - val_mean_squared_error: 0.0020\n",
      "Epoch 22/30\n",
      "68/68 [==============================] - 0s 3ms/step - loss: 0.0053 - mean_squared_error: 0.0053 - val_loss: 0.0019 - val_mean_squared_error: 0.0019\n",
      "Epoch 23/30\n",
      "68/68 [==============================] - 0s 3ms/step - loss: 0.0051 - mean_squared_error: 0.0051 - val_loss: 0.0018 - val_mean_squared_error: 0.0018\n",
      "Epoch 24/30\n",
      "68/68 [==============================] - 0s 3ms/step - loss: 0.0049 - mean_squared_error: 0.0049 - val_loss: 0.0016 - val_mean_squared_error: 0.0016\n",
      "Epoch 25/30\n",
      "68/68 [==============================] - 0s 3ms/step - loss: 0.0047 - mean_squared_error: 0.0047 - val_loss: 0.0016 - val_mean_squared_error: 0.0016\n",
      "Epoch 26/30\n",
      "68/68 [==============================] - 0s 3ms/step - loss: 0.0045 - mean_squared_error: 0.0045 - val_loss: 0.0016 - val_mean_squared_error: 0.0016\n",
      "Epoch 27/30\n",
      "68/68 [==============================] - 0s 3ms/step - loss: 0.0044 - mean_squared_error: 0.0044 - val_loss: 0.0015 - val_mean_squared_error: 0.0015\n",
      "Epoch 28/30\n",
      "68/68 [==============================] - 0s 3ms/step - loss: 0.0043 - mean_squared_error: 0.0043 - val_loss: 0.0015 - val_mean_squared_error: 0.0015\n",
      "Epoch 29/30\n",
      "68/68 [==============================] - 0s 3ms/step - loss: 0.0042 - mean_squared_error: 0.0042 - val_loss: 0.0014 - val_mean_squared_error: 0.0014\n",
      "Epoch 30/30\n",
      "68/68 [==============================] - 0s 3ms/step - loss: 0.0041 - mean_squared_error: 0.0041 - val_loss: 0.0015 - val_mean_squared_error: 0.0015\n"
     ]
    }
   ],
   "source": [
    "base_model_hist = base_model.fit(\n",
    "                    X_train_final,\n",
    "                    y_train,\n",
    "                    epochs=epochs,\n",
    "                    batch_size=batch_size,\n",
    "                    validation_data=[X_val_final, y_val],\n",
    "                    verbose=1\n",
    "                )"
   ]
  },
  {
   "cell_type": "markdown",
   "metadata": {},
   "source": [
    "## **7. Base Model Evaluation**"
   ]
  },
  {
   "cell_type": "markdown",
   "metadata": {},
   "source": [
    "### 7.1. Create Baseline Evaluation"
   ]
  },
  {
   "cell_type": "code",
   "execution_count": 37,
   "metadata": {},
   "outputs": [],
   "source": [
    "evaluation_metrics = pd.DataFrame({'Model':[], 'Details' : [], 'MSE': [], 'RMSE': [], 'MAE(Test)': [], 'MAPE(Test)': [], 'Real MAE(Test)': []})\n",
    "# evaluation_metrics.style.format({'RMSE(Test)': '{:.2f} $'})"
   ]
  },
  {
   "cell_type": "code",
   "execution_count": 38,
   "metadata": {},
   "outputs": [],
   "source": [
    "y_pred_base = X_val_final[: -1, :, 0]\n",
    "y_pred_test = X_test_final[: -1, :, 0]\n",
    "# y_pred_test = scaler.inverse_transform(y_pred_test.reshape)\n",
    "y_pred_base = y_pred_base.reshape(y_pred_base.shape[0], y_pred_base.shape[1], 1)\n",
    "y_pred_test = y_pred_test.reshape(y_pred_test.shape[0], y_pred_test.shape[1], 1)\n",
    "# calculate mse and rmse\n",
    "mse_last_value = np.mean(tf.keras.losses.mean_squared_error(y_val, y_pred_base))\n",
    "rmse_last_value = np.sqrt(mse_last_value)\n",
    "mae_last_value_test = np.mean(tf.keras.metrics.mean_absolute_error(y_test, y_pred_test))\n",
    "\n",
    "# calculate MAE of real price\n",
    "y_test_reshape = y_test.reshape(-1, 1)\n",
    "y_test_real = np.concatenate([y_test_reshape, y_test_reshape, y_test_reshape,y_test_reshape, y_test_reshape, y_test_reshape], axis=1)\n",
    "y_test_real = scaler.inverse_transform(y_test_real)\n",
    "y_test_real = y_test_real[:, 0]\n",
    "\n",
    "y_pred_test_real = y_pred_test.reshape(-1, 1)\n",
    "y_pred_test_real = np.concatenate([y_pred_test_real, y_pred_test_real, y_pred_test_real,y_pred_test_real, y_pred_test_real, y_pred_test_real], axis=1)\n",
    "y_pred_test_real = scaler.inverse_transform(y_pred_test_real)\n",
    "y_pred_test_real = y_pred_test_real[:, 0]\n",
    "y_pred_test_real = y_pred_test_real.reshape(162, 5, 1)\n",
    "mape_last_value_test = np.mean(tf.keras.metrics.mean_absolute_percentage_error(y_test, y_pred_test))\n",
    "real_mae_last_value_test = np.mean(np.abs(y_test_real - y_pred_test_real))\n",
    "evaluation_metrics.loc[0] = ['Naive Forecasting', 'Difference of Last Value in X val with y val', mse_last_value, rmse_last_value, mae_last_value_test, mape_last_value_test, real_mae_last_value_test]"
   ]
  },
  {
   "cell_type": "code",
   "execution_count": 39,
   "metadata": {},
   "outputs": [
    {
     "data": {
      "text/html": [
       "<div>\n",
       "<style scoped>\n",
       "    .dataframe tbody tr th:only-of-type {\n",
       "        vertical-align: middle;\n",
       "    }\n",
       "\n",
       "    .dataframe tbody tr th {\n",
       "        vertical-align: top;\n",
       "    }\n",
       "\n",
       "    .dataframe thead th {\n",
       "        text-align: right;\n",
       "    }\n",
       "</style>\n",
       "<table border=\"1\" class=\"dataframe\">\n",
       "  <thead>\n",
       "    <tr style=\"text-align: right;\">\n",
       "      <th></th>\n",
       "      <th>Model</th>\n",
       "      <th>Details</th>\n",
       "      <th>MSE</th>\n",
       "      <th>RMSE</th>\n",
       "      <th>MAE(Test)</th>\n",
       "      <th>MAPE(Test)</th>\n",
       "      <th>Real MAE(Test)</th>\n",
       "    </tr>\n",
       "  </thead>\n",
       "  <tbody>\n",
       "    <tr>\n",
       "      <th>0</th>\n",
       "      <td>Naive Forecasting</td>\n",
       "      <td>Difference of Last Value in X val with y val</td>\n",
       "      <td>0.046962</td>\n",
       "      <td>0.216708</td>\n",
       "      <td>0.087265</td>\n",
       "      <td>18.134498</td>\n",
       "      <td>1375.458725</td>\n",
       "    </tr>\n",
       "  </tbody>\n",
       "</table>\n",
       "</div>"
      ],
      "text/plain": [
       "               Model                                       Details       MSE  \\\n",
       "0  Naive Forecasting  Difference of Last Value in X val with y val  0.046962   \n",
       "\n",
       "       RMSE  MAE(Test)  MAPE(Test)  Real MAE(Test)  \n",
       "0  0.216708   0.087265   18.134498     1375.458725  "
      ]
     },
     "execution_count": 39,
     "metadata": {},
     "output_type": "execute_result"
    }
   ],
   "source": [
    "evaluation_metrics"
   ]
  },
  {
   "cell_type": "markdown",
   "metadata": {},
   "source": [
    "### 7.2. Base Model Evaluation"
   ]
  },
  {
   "cell_type": "code",
   "execution_count": 40,
   "metadata": {},
   "outputs": [
    {
     "data": {
      "image/png": "[encoded data removed]",
      "text/plain": [
       "<Figure size 432x288 with 1 Axes>"
      ]
     },
     "metadata": {},
     "output_type": "display_data"
    }
   ],
   "source": [
    "# Visualization of Training Loss and Validation Loss\n",
    "\n",
    "def plot_learning_curves(loss, val_loss):\n",
    "    plt.plot(np.arange(len(loss)) + 0.5, loss, \"b.-\", label=\"Training loss\")\n",
    "    plt.plot(np.arange(len(val_loss)) + 1, val_loss, \"r.-\", label=\"Validation loss\")\n",
    "    plt.gca().xaxis.set_major_locator(mpl.ticker.MaxNLocator(integer=True))\n",
    "    plt.axis([1, epochs, 0, 0.1])\n",
    "    plt.legend(fontsize=14)\n",
    "    plt.xlabel(\"Epochs\")\n",
    "    plt.ylabel(\"Loss\")\n",
    "    plt.grid(True)\n",
    "\n",
    "plot_learning_curves(base_model_hist.history[\"loss\"], base_model_hist.history[\"val_loss\"])\n",
    "plt.show()"
   ]
  },
  {
   "cell_type": "code",
   "execution_count": 41,
   "metadata": {},
   "outputs": [
    {
     "name": "stdout",
     "output_type": "stream",
     "text": [
      "30/30 [==============================] - 0s 2ms/step - loss: 0.0015 - mean_squared_error: 0.0015    \n"
     ]
    }
   ],
   "source": [
    "mse_base_deep_rnn = base_model.evaluate(X_val_final, y_val)\n",
    "rmse_base_deep_rnn = np.sqrt(mse_base_deep_rnn)"
   ]
  },
  {
   "cell_type": "code",
   "execution_count": 42,
   "metadata": {},
   "outputs": [
    {
     "data": {
      "text/html": [
       "<div>\n",
       "<style scoped>\n",
       "    .dataframe tbody tr th:only-of-type {\n",
       "        vertical-align: middle;\n",
       "    }\n",
       "\n",
       "    .dataframe tbody tr th {\n",
       "        vertical-align: top;\n",
       "    }\n",
       "\n",
       "    .dataframe thead th {\n",
       "        text-align: right;\n",
       "    }\n",
       "</style>\n",
       "<table border=\"1\" class=\"dataframe\">\n",
       "  <thead>\n",
       "    <tr style=\"text-align: right;\">\n",
       "      <th></th>\n",
       "      <th>Model</th>\n",
       "      <th>Details</th>\n",
       "      <th>MSE</th>\n",
       "      <th>RMSE</th>\n",
       "      <th>MAE(Test)</th>\n",
       "      <th>MAPE(Test)</th>\n",
       "      <th>Real MAE(Test)</th>\n",
       "    </tr>\n",
       "  </thead>\n",
       "  <tbody>\n",
       "    <tr>\n",
       "      <th>0</th>\n",
       "      <td>Naive Forecasting</td>\n",
       "      <td>Difference of Last Value in X val with y val</td>\n",
       "      <td>0.046962</td>\n",
       "      <td>0.216708</td>\n",
       "      <td>0.087265</td>\n",
       "      <td>18.134498</td>\n",
       "      <td>1375.458725</td>\n",
       "    </tr>\n",
       "    <tr>\n",
       "      <th>1</th>\n",
       "      <td>Base Deep RNN</td>\n",
       "      <td>Neuron=5, Timestep=5, Epoch=35, Multi Layers</td>\n",
       "      <td>0.001466</td>\n",
       "      <td>0.038295</td>\n",
       "      <td>0.032338</td>\n",
       "      <td>1.269183</td>\n",
       "      <td>509.710114</td>\n",
       "    </tr>\n",
       "  </tbody>\n",
       "</table>\n",
       "</div>"
      ],
      "text/plain": [
       "               Model                                       Details       MSE  \\\n",
       "0  Naive Forecasting  Difference of Last Value in X val with y val  0.046962   \n",
       "1      Base Deep RNN  Neuron=5, Timestep=5, Epoch=35, Multi Layers  0.001466   \n",
       "\n",
       "       RMSE  MAE(Test)  MAPE(Test)  Real MAE(Test)  \n",
       "0  0.216708   0.087265   18.134498     1375.458725  \n",
       "1  0.038295   0.032338    1.269183      509.710114  "
      ]
     },
     "execution_count": 42,
     "metadata": {},
     "output_type": "execute_result"
    }
   ],
   "source": [
    "y_pred_test_base = base_model.predict(X_test_final)\n",
    "mae_base_deep_rnn_test = mean_absolute_error(y_test, y_pred_test_base)\n",
    "\n",
    "# MAE of real price\n",
    "y_pred_test_base_real = np.concatenate([y_pred_test_base, y_pred_test_base, y_pred_test_base,y_pred_test_base, y_pred_test_base, y_pred_test_base], axis=1)\n",
    "y_pred_test_base_real = scaler.inverse_transform(y_pred_test_base_real)\n",
    "y_pred_test_base_real = y_pred_test_base_real[:, 0]\n",
    "\n",
    "mape_base_deep_rnn_test = np.mean(np.mean(np.abs(y_test_real - y_pred_test_base_real)/y_test_real)*100)\n",
    "real_mae_base_deep_rnn_test = mean_absolute_error(y_test_real, y_pred_test_base_real)\n",
    "evaluation_metrics.loc[1] = ['Base Deep RNN', 'Neuron=5, Timestep=5, Epoch=35, Multi Layers', mse_base_deep_rnn[0], rmse_base_deep_rnn[0], mae_base_deep_rnn_test, mape_base_deep_rnn_test, real_mae_base_deep_rnn_test]\n",
    "evaluation_metrics"
   ]
  },
  {
   "cell_type": "code",
   "execution_count": 43,
   "metadata": {},
   "outputs": [
    {
     "data": {
      "image/png": "[encoded data removed]",
      "text/plain": [
       "<Figure size 1296x288 with 1 Axes>"
      ]
     },
     "metadata": {},
     "output_type": "display_data"
    }
   ],
   "source": [
    "fig, ax = plt.subplots(figsize=(18, 4), sharex=True)\n",
    "\n",
    "plt.title(\"Predictions vs. Real Price (Base Model RNN)\", fontsize=20)\n",
    "plt.ylabel('BTC', fontsize=18)\n",
    "plt.plot(y_pred_test_base_real, color=\"#E91D9E\", linewidth=1.0)\n",
    "plt.plot(y_test_real, color=\"black\", linewidth=1.0)\n",
    "plt.legend([\"Test Predictions\", \"Real Price\"], loc=\"upper right\")\n",
    "\n",
    "# valid.loc[valid[\"Difference\"] >= 0, 'diff_color'] = \"#2BC97A\"\n",
    "# valid.loc[valid[\"Difference\"] < 0, 'diff_color'] = \"#C92B2B\"\n",
    "# plt.bar(valid.index, valid[\"Difference\"], width=0.8, color=valid['diff_color'])\n",
    "\n",
    "plt.show()"
   ]
  },
  {
   "cell_type": "markdown",
   "metadata": {},
   "source": [
    "## **8. Model Improvement**"
   ]
  },
  {
   "cell_type": "markdown",
   "metadata": {},
   "source": [
    "### 8.1. LSTM "
   ]
  },
  {
   "cell_type": "code",
   "execution_count": 44,
   "metadata": {},
   "outputs": [
    {
     "name": "stdout",
     "output_type": "stream",
     "text": [
      "timesteps: 5, features: 6, neurons: 30\n",
      "Parameters: ['epochs 75', 'batch_size 128', 'patience 6', 'optimizer adam', 'loss mean_squared_error']\n",
      "Model: \"sequential_1\"\n",
      "_________________________________________________________________\n",
      " Layer (type)                Output Shape              Param #   \n",
      "=================================================================\n",
      " lstm (LSTM)                 (None, None, 12)          912       \n",
      "                                                                 \n",
      " lstm_1 (LSTM)               (None, 2)                 120       \n",
      "                                                                 \n",
      " dense (Dense)               (None, 1)                 3         \n",
      "                                                                 \n",
      "=================================================================\n",
      "Total params: 1,035\n",
      "Trainable params: 1,035\n",
      "Non-trainable params: 0\n",
      "_________________________________________________________________\n"
     ]
    }
   ],
   "source": [
    "lstm_imp_model_2 = Sequential()\n",
    "\n",
    "n_neurons = X_train_final.shape[1] * X_train_final.shape[2]\n",
    "print('timesteps: ' + str(X_train_final.shape[1]) + ',' + ' features: ' + str(X_train_final.shape[2]) + ', neurons: ' + str(n_neurons))\n",
    "\n",
    "# The lstm_imp_model_2\n",
    "lstm_imp_model_2.add(LSTM(12, return_sequences=True, input_shape=(None, X_train_final.shape[2]))) \n",
    "lstm_imp_model_2.add(LSTM(2))\n",
    "lstm_imp_model_2.add(Dense(1, activation='linear'))\n",
    "\n",
    "# Hyperparameters\n",
    "optimizer='adam'; loss='mean_squared_error'; epochs = 75; patience = 6;\n",
    "parameter_list = ['epochs ' + str(epochs), 'batch_size ' + str(batch_size), 'patience ' + str(patience), 'optimizer ' + str(optimizer), 'loss ' + str(loss)]\n",
    "print('Parameters: ' + str(parameter_list))\n",
    "\n",
    "lstm_imp_model_2.compile(optimizer=optimizer, loss=loss, metrics=['mean_squared_error'])\n",
    "\n",
    "lstm_imp_model_2.summary()"
   ]
  },
  {
   "cell_type": "code",
   "execution_count": 45,
   "metadata": {},
   "outputs": [],
   "source": [
    "lstm_imp_model_hist_2 = lstm_imp_model_2.fit(\n",
    "                    X_train_final,\n",
    "                    y_train,\n",
    "                    epochs=epochs,\n",
    "                    batch_size=batch_size,\n",
    "                    validation_data=(X_val_final, y_val),\n",
    "                    verbose=0\n",
    "                )"
   ]
  },
  {
   "cell_type": "code",
   "execution_count": 46,
   "metadata": {},
   "outputs": [
    {
     "data": {
      "image/png": "[encoded data removed]",
      "text/plain": [
       "<Figure size 432x288 with 1 Axes>"
      ]
     },
     "metadata": {},
     "output_type": "display_data"
    }
   ],
   "source": [
    "# Visualization of Training Loss and Validation Loss\n",
    "\n",
    "plot_learning_curves(lstm_imp_model_hist_2.history[\"loss\"], lstm_imp_model_hist_2.history[\"val_loss\"])\n",
    "plt.show()"
   ]
  },
  {
   "cell_type": "code",
   "execution_count": 47,
   "metadata": {},
   "outputs": [
    {
     "name": "stdout",
     "output_type": "stream",
     "text": [
      "30/30 [==============================] - 0s 1ms/step - loss: 4.8210e-04 - mean_squared_error: 4.8210e-04\n"
     ]
    }
   ],
   "source": [
    "mse_lstm_imp_rnn_2 = lstm_imp_model_2.evaluate(X_val_final, y_val)\n",
    "rmse_lstm_imp_rnn_2 = np.sqrt(mse_lstm_imp_rnn_2)"
   ]
  },
  {
   "cell_type": "code",
   "execution_count": 48,
   "metadata": {},
   "outputs": [
    {
     "data": {
      "text/html": [
       "<div>\n",
       "<style scoped>\n",
       "    .dataframe tbody tr th:only-of-type {\n",
       "        vertical-align: middle;\n",
       "    }\n",
       "\n",
       "    .dataframe tbody tr th {\n",
       "        vertical-align: top;\n",
       "    }\n",
       "\n",
       "    .dataframe thead th {\n",
       "        text-align: right;\n",
       "    }\n",
       "</style>\n",
       "<table border=\"1\" class=\"dataframe\">\n",
       "  <thead>\n",
       "    <tr style=\"text-align: right;\">\n",
       "      <th></th>\n",
       "      <th>Model</th>\n",
       "      <th>Details</th>\n",
       "      <th>MSE</th>\n",
       "      <th>RMSE</th>\n",
       "      <th>MAE(Test)</th>\n",
       "      <th>MAPE(Test)</th>\n",
       "      <th>Real MAE(Test)</th>\n",
       "    </tr>\n",
       "  </thead>\n",
       "  <tbody>\n",
       "    <tr>\n",
       "      <th>0</th>\n",
       "      <td>Naive Forecasting</td>\n",
       "      <td>Difference of Last Value in X val with y val</td>\n",
       "      <td>0.046962</td>\n",
       "      <td>0.216708</td>\n",
       "      <td>0.087265</td>\n",
       "      <td>18.134498</td>\n",
       "      <td>1375.458725</td>\n",
       "    </tr>\n",
       "    <tr>\n",
       "      <th>1</th>\n",
       "      <td>Base Deep RNN</td>\n",
       "      <td>Neuron=5, Timestep=5, Epoch=35, Multi Layers</td>\n",
       "      <td>0.001466</td>\n",
       "      <td>0.038295</td>\n",
       "      <td>0.032338</td>\n",
       "      <td>1.269183</td>\n",
       "      <td>509.710114</td>\n",
       "    </tr>\n",
       "    <tr>\n",
       "      <th>2</th>\n",
       "      <td>LSTM - Non-Pipeline Dataset</td>\n",
       "      <td>Without tensorflow pipeline dataset. The rest ...</td>\n",
       "      <td>0.000482</td>\n",
       "      <td>0.021957</td>\n",
       "      <td>0.015311</td>\n",
       "      <td>0.602825</td>\n",
       "      <td>241.323877</td>\n",
       "    </tr>\n",
       "  </tbody>\n",
       "</table>\n",
       "</div>"
      ],
      "text/plain": [
       "                         Model  \\\n",
       "0            Naive Forecasting   \n",
       "1                Base Deep RNN   \n",
       "2  LSTM - Non-Pipeline Dataset   \n",
       "\n",
       "                                             Details       MSE      RMSE  \\\n",
       "0       Difference of Last Value in X val with y val  0.046962  0.216708   \n",
       "1       Neuron=5, Timestep=5, Epoch=35, Multi Layers  0.001466  0.038295   \n",
       "2  Without tensorflow pipeline dataset. The rest ...  0.000482  0.021957   \n",
       "\n",
       "   MAE(Test)  MAPE(Test)  Real MAE(Test)  \n",
       "0   0.087265   18.134498     1375.458725  \n",
       "1   0.032338    1.269183      509.710114  \n",
       "2   0.015311    0.602825      241.323877  "
      ]
     },
     "execution_count": 48,
     "metadata": {},
     "output_type": "execute_result"
    }
   ],
   "source": [
    "y_pred_lstm_non = lstm_imp_model_2.predict(X_test_final)\n",
    "mae_lstm_imp_rnn_2_test = mean_absolute_error(y_test, y_pred_lstm_non)\n",
    "\n",
    "# MAE of real price\n",
    "y_pred_lstm_non_real = np.concatenate([y_pred_lstm_non, y_pred_lstm_non, y_pred_lstm_non,y_pred_lstm_non, y_pred_lstm_non, y_pred_lstm_non], axis=1)\n",
    "y_pred_lstm_non_real = scaler.inverse_transform(y_pred_lstm_non_real)\n",
    "y_pred_lstm_non_real = y_pred_lstm_non_real[:, 0]\n",
    "\n",
    "mape_pred_imp_rnn_2 = np.mean(np.mean(np.abs(y_test_real - y_pred_lstm_non_real)/y_test_real)*100)\n",
    "real_mae_pred_imp_rnn_2 = mean_absolute_error(y_test_real, y_pred_lstm_non_real)\n",
    "evaluation_metrics.loc[2] = ['LSTM - Non-Pipeline Dataset', 'Without tensorflow pipeline dataset. The rest is same', mse_lstm_imp_rnn_2[0], rmse_lstm_imp_rnn_2[0], mae_lstm_imp_rnn_2_test, mape_pred_imp_rnn_2, real_mae_pred_imp_rnn_2]\n",
    "evaluation_metrics"
   ]
  },
  {
   "cell_type": "code",
   "execution_count": 49,
   "metadata": {},
   "outputs": [
    {
     "data": {
      "image/png": "[encoded data removed]",
      "text/plain": [
       "<Figure size 1296x288 with 1 Axes>"
      ]
     },
     "metadata": {},
     "output_type": "display_data"
    }
   ],
   "source": [
    "fig, ax = plt.subplots(figsize=(18, 4), sharex=True)\n",
    "\n",
    "plt.title(\"Predictions vs. Real Price (LSTM)\", fontsize=20)\n",
    "plt.ylabel('BTC', fontsize=18)\n",
    "plt.plot(y_pred_lstm_non_real, color=\"#E91D9E\", linewidth=1.0)\n",
    "plt.plot(y_test_real, color=\"black\", linewidth=1.0)\n",
    "plt.legend([\"Test Predictions\", \"Real Price\"], loc=\"upper right\")\n",
    "\n",
    "# valid.loc[valid[\"Difference\"] >= 0, 'diff_color'] = \"#2BC97A\"\n",
    "# valid.loc[valid[\"Difference\"] < 0, 'diff_color'] = \"#C92B2B\"\n",
    "# plt.bar(valid.index, valid[\"Difference\"], width=0.8, color=valid['diff_color'])\n",
    "\n",
    "plt.show()"
   ]
  },
  {
   "cell_type": "markdown",
   "metadata": {},
   "source": [
    "### 8.2. GRU"
   ]
  },
  {
   "cell_type": "code",
   "execution_count": 50,
   "metadata": {},
   "outputs": [
    {
     "name": "stdout",
     "output_type": "stream",
     "text": [
      "timesteps: 5, features: 6, neurons: 30\n",
      "Parameters: ['epochs 75', 'batch_size 128', 'patience 6', 'optimizer adam', 'loss mean_squared_error']\n",
      "Model: \"sequential_2\"\n",
      "_________________________________________________________________\n",
      " Layer (type)                Output Shape              Param #   \n",
      "=================================================================\n",
      " gru (GRU)                   (None, None, 12)          720       \n",
      "                                                                 \n",
      " gru_1 (GRU)                 (None, 2)                 96        \n",
      "                                                                 \n",
      " dense_1 (Dense)             (None, 1)                 3         \n",
      "                                                                 \n",
      "=================================================================\n",
      "Total params: 819\n",
      "Trainable params: 819\n",
      "Non-trainable params: 0\n",
      "_________________________________________________________________\n"
     ]
    }
   ],
   "source": [
    "gru_imp_model = Sequential()\n",
    "\n",
    "n_neurons = X_train_final.shape[1] * X_train_final.shape[2]\n",
    "print('timesteps: ' + str(X_train_final.shape[1]) + ',' + ' features: ' + str(X_train_final.shape[2]) + ', neurons: ' + str(n_neurons))\n",
    "\n",
    "# The gru_imp_model\n",
    "gru_imp_model.add(GRU(12, return_sequences=True, input_shape=(None, X_train_final.shape[2]))) \n",
    "gru_imp_model.add(GRU(2))\n",
    "gru_imp_model.add(Dense(1, activation='linear'))\n",
    " \n",
    "# Hyperparameters\n",
    "optimizer='adam'; loss='mean_squared_error'; epochs = 75; patience = 6;\n",
    "parameter_list = ['epochs ' + str(epochs), 'batch_size ' + str(batch_size), 'patience ' + str(patience), 'optimizer ' + str(optimizer), 'loss ' + str(loss)]\n",
    "print('Parameters: ' + str(parameter_list))\n",
    "\n",
    "gru_imp_model.compile(optimizer=optimizer, loss=loss, metrics=['mean_squared_error'])\n",
    "\n",
    "early_stop = EarlyStopping(monitor='val_loss', \n",
    "                           patience=patience, \n",
    "                           verbose=0)\n",
    "\n",
    "gru_imp_model.summary()"
   ]
  },
  {
   "cell_type": "code",
   "execution_count": 51,
   "metadata": {},
   "outputs": [],
   "source": [
    "gru_imp_model_hist = gru_imp_model.fit(\n",
    "                    X_train_final,\n",
    "                    y_train,\n",
    "                    epochs=epochs,\n",
    "                    batch_size=batch_size,\n",
    "                    validation_data=(X_val_final, y_val),\n",
    "                    verbose=0\n",
    "                )"
   ]
  },
  {
   "cell_type": "code",
   "execution_count": 52,
   "metadata": {},
   "outputs": [
    {
     "data": {
      "image/png": "[encoded data removed]",
      "text/plain": [
       "<Figure size 432x288 with 1 Axes>"
      ]
     },
     "metadata": {},
     "output_type": "display_data"
    }
   ],
   "source": [
    "# Visualization of Training Loss and Validation Loss\n",
    "\n",
    "plot_learning_curves(gru_imp_model_hist.history[\"loss\"], gru_imp_model_hist.history[\"val_loss\"])\n",
    "plt.show()"
   ]
  },
  {
   "cell_type": "code",
   "execution_count": 53,
   "metadata": {},
   "outputs": [
    {
     "name": "stdout",
     "output_type": "stream",
     "text": [
      "30/30 [==============================] - 0s 1ms/step - loss: 4.0815e-04 - mean_squared_error: 4.0815e-04\n"
     ]
    }
   ],
   "source": [
    "mse_gru_imp_rnn = gru_imp_model.evaluate(X_val_final, y_val)\n",
    "rmse_gru_imp_rnn = np.sqrt(mse_gru_imp_rnn)"
   ]
  },
  {
   "cell_type": "code",
   "execution_count": 54,
   "metadata": {},
   "outputs": [
    {
     "data": {
      "text/html": [
       "<div>\n",
       "<style scoped>\n",
       "    .dataframe tbody tr th:only-of-type {\n",
       "        vertical-align: middle;\n",
       "    }\n",
       "\n",
       "    .dataframe tbody tr th {\n",
       "        vertical-align: top;\n",
       "    }\n",
       "\n",
       "    .dataframe thead th {\n",
       "        text-align: right;\n",
       "    }\n",
       "</style>\n",
       "<table border=\"1\" class=\"dataframe\">\n",
       "  <thead>\n",
       "    <tr style=\"text-align: right;\">\n",
       "      <th></th>\n",
       "      <th>Model</th>\n",
       "      <th>Details</th>\n",
       "      <th>MSE</th>\n",
       "      <th>RMSE</th>\n",
       "      <th>MAE(Test)</th>\n",
       "      <th>MAPE(Test)</th>\n",
       "      <th>Real MAE(Test)</th>\n",
       "    </tr>\n",
       "  </thead>\n",
       "  <tbody>\n",
       "    <tr>\n",
       "      <th>0</th>\n",
       "      <td>Naive Forecasting</td>\n",
       "      <td>Difference of Last Value in X val with y val</td>\n",
       "      <td>0.046962</td>\n",
       "      <td>0.216708</td>\n",
       "      <td>0.087265</td>\n",
       "      <td>18.134498</td>\n",
       "      <td>1375.458725</td>\n",
       "    </tr>\n",
       "    <tr>\n",
       "      <th>1</th>\n",
       "      <td>Base Deep RNN</td>\n",
       "      <td>Neuron=5, Timestep=5, Epoch=35, Multi Layers</td>\n",
       "      <td>0.001466</td>\n",
       "      <td>0.038295</td>\n",
       "      <td>0.032338</td>\n",
       "      <td>1.269183</td>\n",
       "      <td>509.710114</td>\n",
       "    </tr>\n",
       "    <tr>\n",
       "      <th>2</th>\n",
       "      <td>LSTM - Non-Pipeline Dataset</td>\n",
       "      <td>Without tensorflow pipeline dataset. The rest ...</td>\n",
       "      <td>0.000482</td>\n",
       "      <td>0.021957</td>\n",
       "      <td>0.015311</td>\n",
       "      <td>0.602825</td>\n",
       "      <td>241.323877</td>\n",
       "    </tr>\n",
       "    <tr>\n",
       "      <th>3</th>\n",
       "      <td>GRU - Non-Pipeline Dataset</td>\n",
       "      <td>Without tensorflow pipeline dataset. The rest ...</td>\n",
       "      <td>0.000408</td>\n",
       "      <td>0.020203</td>\n",
       "      <td>0.011499</td>\n",
       "      <td>0.453757</td>\n",
       "      <td>181.240939</td>\n",
       "    </tr>\n",
       "  </tbody>\n",
       "</table>\n",
       "</div>"
      ],
      "text/plain": [
       "                         Model  \\\n",
       "0            Naive Forecasting   \n",
       "1                Base Deep RNN   \n",
       "2  LSTM - Non-Pipeline Dataset   \n",
       "3   GRU - Non-Pipeline Dataset   \n",
       "\n",
       "                                             Details       MSE      RMSE  \\\n",
       "0       Difference of Last Value in X val with y val  0.046962  0.216708   \n",
       "1       Neuron=5, Timestep=5, Epoch=35, Multi Layers  0.001466  0.038295   \n",
       "2  Without tensorflow pipeline dataset. The rest ...  0.000482  0.021957   \n",
       "3  Without tensorflow pipeline dataset. The rest ...  0.000408  0.020203   \n",
       "\n",
       "   MAE(Test)  MAPE(Test)  Real MAE(Test)  \n",
       "0   0.087265   18.134498     1375.458725  \n",
       "1   0.032338    1.269183      509.710114  \n",
       "2   0.015311    0.602825      241.323877  \n",
       "3   0.011499    0.453757      181.240939  "
      ]
     },
     "execution_count": 54,
     "metadata": {},
     "output_type": "execute_result"
    }
   ],
   "source": [
    "y_pred_gru_non = gru_imp_model.predict(X_test_final)\n",
    "mae_gru_imp_test = mean_absolute_error(y_test, y_pred_gru_non)\n",
    "\n",
    "# MAE of real price\n",
    "y_pred_gru_non_real = np.concatenate([y_pred_gru_non, y_pred_gru_non, y_pred_gru_non,y_pred_gru_non, y_pred_gru_non, y_pred_gru_non], axis=1)\n",
    "y_pred_gru_non_real = scaler.inverse_transform(y_pred_gru_non_real)\n",
    "y_pred_gru_non_real = y_pred_gru_non_real[:, 0]\n",
    "\n",
    "mape_pred_gru_test = np.mean(np.mean(np.abs(y_test_real - y_pred_gru_non_real)/y_test_real)*100)\n",
    "real_mae_pred_gru_test = mean_absolute_error(y_test_real, y_pred_gru_non_real)\n",
    "evaluation_metrics.loc[3] = ['GRU - Non-Pipeline Dataset', 'Without tensorflow pipeline dataset. The rest is same', mse_gru_imp_rnn[0], rmse_gru_imp_rnn[0], mae_gru_imp_test, mape_pred_gru_test, real_mae_pred_gru_test]\n",
    "evaluation_metrics"
   ]
  },
  {
   "cell_type": "code",
   "execution_count": 55,
   "metadata": {},
   "outputs": [
    {
     "data": {
      "image/png": "[encoded data removed]",
      "text/plain": [
       "<Figure size 1296x288 with 1 Axes>"
      ]
     },
     "metadata": {},
     "output_type": "display_data"
    }
   ],
   "source": [
    "fig, ax = plt.subplots(figsize=(18, 4), sharex=True)\n",
    "\n",
    "plt.title(\"Predictions vs. Real Price (LSTM)\", fontsize=20)\n",
    "plt.ylabel('BTC', fontsize=18)\n",
    "plt.plot(y_pred_gru_non_real, color=\"#E91D9E\", linewidth=1.0)\n",
    "plt.plot(y_test_real, color=\"black\", linewidth=1.0)\n",
    "plt.legend([\"Test Predictions\", \"Real Price\"], loc=\"upper right\")\n",
    "\n",
    "plt.show()"
   ]
  },
  {
   "cell_type": "markdown",
   "metadata": {},
   "source": [
    "### 8.3. LSTM More Sequence Length"
   ]
  },
  {
   "cell_type": "code",
   "execution_count": 56,
   "metadata": {},
   "outputs": [],
   "source": [
    "sequence_length = 50\n",
    "\n",
    "def partition_dataset(sequence_length, data):\n",
    "    x, y = [], []\n",
    "    data_len = data.shape[0]\n",
    "\n",
    "    for i in range(sequence_length, data_len):\n",
    "        x.append(data[i-sequence_length:i, :]) \n",
    "        y.append(data[i, 0]) \n",
    "    \n",
    "    x = np.array(x)\n",
    "    y = np.array(y)\n",
    "    return x, y\n",
    "\n",
    "X_train_final_2, y_train_2 = partition_dataset(sequence_length, X_train_scaled)\n",
    "X_val_final_2, y_val_2 = partition_dataset(sequence_length, X_val_scaled)\n",
    "X_test_final_2, y_test_2 = partition_dataset(sequence_length, X_test_scaled)\n",
    "\n",
    "    "
   ]
  },
  {
   "cell_type": "code",
   "execution_count": 57,
   "metadata": {},
   "outputs": [
    {
     "name": "stdout",
     "output_type": "stream",
     "text": [
      "timesteps: 5, features: 6, neurons: 30\n",
      "Parameters: ['epochs 50', 'batch_size 128', 'patience 6', 'optimizer adam', 'loss mean_squared_error']\n",
      "Model: \"sequential_3\"\n",
      "_________________________________________________________________\n",
      " Layer (type)                Output Shape              Param #   \n",
      "=================================================================\n",
      " lstm_2 (LSTM)               (None, None, 12)          912       \n",
      "                                                                 \n",
      " lstm_3 (LSTM)               (None, 5)                 360       \n",
      "                                                                 \n",
      " dense_2 (Dense)             (None, 1)                 6         \n",
      "                                                                 \n",
      "=================================================================\n",
      "Total params: 1,278\n",
      "Trainable params: 1,278\n",
      "Non-trainable params: 0\n",
      "_________________________________________________________________\n"
     ]
    }
   ],
   "source": [
    "lstm_24_seq = Sequential()\n",
    "\n",
    "n_neurons = X_train_final.shape[1] * X_train_final.shape[2]\n",
    "print('timesteps: ' + str(X_train_final.shape[1]) + ',' + ' features: ' + str(X_train_final.shape[2]) + ', neurons: ' + str(n_neurons))\n",
    "\n",
    "# The lstm_24_seq\n",
    "lstm_24_seq.add(LSTM(12, return_sequences=True, input_shape=(None, X_train_final.shape[2]))) \n",
    "lstm_24_seq.add(LSTM(5))\n",
    "lstm_24_seq.add(Dense(1, activation='linear'))\n",
    " \n",
    "# Hyperparameters\n",
    "optimizer='adam'; loss='mean_squared_error'; epochs = 50; patience = 6;\n",
    "parameter_list = ['epochs ' + str(epochs), 'batch_size ' + str(batch_size), 'patience ' + str(patience), 'optimizer ' + str(optimizer), 'loss ' + str(loss)]\n",
    "print('Parameters: ' + str(parameter_list))\n",
    "\n",
    "lstm_24_seq.compile(optimizer=optimizer, loss=loss, metrics=['mean_squared_error'])\n",
    "\n",
    "lstm_24_seq.summary()"
   ]
  },
  {
   "cell_type": "code",
   "execution_count": 58,
   "metadata": {},
   "outputs": [],
   "source": [
    "lstm_24_seq_hist = lstm_24_seq.fit(\n",
    "                    X_train_final_2,\n",
    "                    y_train_2,\n",
    "                    epochs=epochs,\n",
    "                    batch_size=batch_size,\n",
    "                    validation_data=(X_val_final_2, y_val_2),\n",
    "                    verbose=0\n",
    "                )"
   ]
  },
  {
   "cell_type": "code",
   "execution_count": 59,
   "metadata": {},
   "outputs": [
    {
     "data": {
      "image/png": "[encoded data removed]",
      "text/plain": [
       "<Figure size 432x288 with 1 Axes>"
      ]
     },
     "metadata": {},
     "output_type": "display_data"
    }
   ],
   "source": [
    "# Visualization of Training Loss and Validation Loss\n",
    "\n",
    "plot_learning_curves(lstm_24_seq_hist.history[\"loss\"], lstm_24_seq_hist.history[\"val_loss\"])\n",
    "plt.show()"
   ]
  },
  {
   "cell_type": "code",
   "execution_count": 60,
   "metadata": {},
   "outputs": [
    {
     "name": "stdout",
     "output_type": "stream",
     "text": [
      "29/29 [==============================] - 0s 4ms/step - loss: 6.7336e-04 - mean_squared_error: 6.7336e-04\n"
     ]
    }
   ],
   "source": [
    "mse_lstm_24_seq = lstm_24_seq.evaluate(X_val_final_2, y_val_2)\n",
    "rmse_lstm_24_seq = np.sqrt(mse_lstm_24_seq)"
   ]
  },
  {
   "cell_type": "code",
   "execution_count": 61,
   "metadata": {},
   "outputs": [],
   "source": [
    "y_test_2_real = y_test_2.reshape(-1, 1)\n",
    "y_test_2_real = np.concatenate([y_test_2_real, y_test_2_real, y_test_2_real,y_test_2_real, y_test_2_real, y_test_2_real], axis=1)\n",
    "y_test_2_real = scaler.inverse_transform(y_test_2_real)\n",
    "y_test_2_real = y_test_2_real[:, 0]"
   ]
  },
  {
   "cell_type": "code",
   "execution_count": 62,
   "metadata": {},
   "outputs": [
    {
     "data": {
      "text/html": [
       "<div>\n",
       "<style scoped>\n",
       "    .dataframe tbody tr th:only-of-type {\n",
       "        vertical-align: middle;\n",
       "    }\n",
       "\n",
       "    .dataframe tbody tr th {\n",
       "        vertical-align: top;\n",
       "    }\n",
       "\n",
       "    .dataframe thead th {\n",
       "        text-align: right;\n",
       "    }\n",
       "</style>\n",
       "<table border=\"1\" class=\"dataframe\">\n",
       "  <thead>\n",
       "    <tr style=\"text-align: right;\">\n",
       "      <th></th>\n",
       "      <th>Model</th>\n",
       "      <th>Details</th>\n",
       "      <th>MSE</th>\n",
       "      <th>RMSE</th>\n",
       "      <th>MAE(Test)</th>\n",
       "      <th>MAPE(Test)</th>\n",
       "      <th>Real MAE(Test)</th>\n",
       "    </tr>\n",
       "  </thead>\n",
       "  <tbody>\n",
       "    <tr>\n",
       "      <th>0</th>\n",
       "      <td>Naive Forecasting</td>\n",
       "      <td>Difference of Last Value in X val with y val</td>\n",
       "      <td>0.046962</td>\n",
       "      <td>0.216708</td>\n",
       "      <td>0.087265</td>\n",
       "      <td>18.134498</td>\n",
       "      <td>1375.458725</td>\n",
       "    </tr>\n",
       "    <tr>\n",
       "      <th>1</th>\n",
       "      <td>Base Deep RNN</td>\n",
       "      <td>Neuron=5, Timestep=5, Epoch=35, Multi Layers</td>\n",
       "      <td>0.001466</td>\n",
       "      <td>0.038295</td>\n",
       "      <td>0.032338</td>\n",
       "      <td>1.269183</td>\n",
       "      <td>509.710114</td>\n",
       "    </tr>\n",
       "    <tr>\n",
       "      <th>2</th>\n",
       "      <td>LSTM - Non-Pipeline Dataset</td>\n",
       "      <td>Without tensorflow pipeline dataset. The rest ...</td>\n",
       "      <td>0.000482</td>\n",
       "      <td>0.021957</td>\n",
       "      <td>0.015311</td>\n",
       "      <td>0.602825</td>\n",
       "      <td>241.323877</td>\n",
       "    </tr>\n",
       "    <tr>\n",
       "      <th>3</th>\n",
       "      <td>GRU - Non-Pipeline Dataset</td>\n",
       "      <td>Without tensorflow pipeline dataset. The rest ...</td>\n",
       "      <td>0.000408</td>\n",
       "      <td>0.020203</td>\n",
       "      <td>0.011499</td>\n",
       "      <td>0.453757</td>\n",
       "      <td>181.240939</td>\n",
       "    </tr>\n",
       "    <tr>\n",
       "      <th>4</th>\n",
       "      <td>LSTM - 24 Sequence Length</td>\n",
       "      <td>Timestep=50, without tensorflow pipeline datas...</td>\n",
       "      <td>0.000673</td>\n",
       "      <td>0.025949</td>\n",
       "      <td>0.017066</td>\n",
       "      <td>0.666181</td>\n",
       "      <td>268.990697</td>\n",
       "    </tr>\n",
       "  </tbody>\n",
       "</table>\n",
       "</div>"
      ],
      "text/plain": [
       "                         Model  \\\n",
       "0            Naive Forecasting   \n",
       "1                Base Deep RNN   \n",
       "2  LSTM - Non-Pipeline Dataset   \n",
       "3   GRU - Non-Pipeline Dataset   \n",
       "4    LSTM - 24 Sequence Length   \n",
       "\n",
       "                                             Details       MSE      RMSE  \\\n",
       "0       Difference of Last Value in X val with y val  0.046962  0.216708   \n",
       "1       Neuron=5, Timestep=5, Epoch=35, Multi Layers  0.001466  0.038295   \n",
       "2  Without tensorflow pipeline dataset. The rest ...  0.000482  0.021957   \n",
       "3  Without tensorflow pipeline dataset. The rest ...  0.000408  0.020203   \n",
       "4  Timestep=50, without tensorflow pipeline datas...  0.000673  0.025949   \n",
       "\n",
       "   MAE(Test)  MAPE(Test)  Real MAE(Test)  \n",
       "0   0.087265   18.134498     1375.458725  \n",
       "1   0.032338    1.269183      509.710114  \n",
       "2   0.015311    0.602825      241.323877  \n",
       "3   0.011499    0.453757      181.240939  \n",
       "4   0.017066    0.666181      268.990697  "
      ]
     },
     "execution_count": 62,
     "metadata": {},
     "output_type": "execute_result"
    }
   ],
   "source": [
    "y_pred_lstm_24 = lstm_24_seq.predict(X_test_final_2)\n",
    "mae_lstm_24_seq = mean_absolute_error(y_test_2, y_pred_lstm_24)\n",
    "\n",
    "# MAE of real price\n",
    "y_pred_lstm_24_real = np.concatenate([y_pred_lstm_24, y_pred_lstm_24, y_pred_lstm_24,y_pred_lstm_24, y_pred_lstm_24, y_pred_lstm_24], axis=1)\n",
    "y_pred_lstm_24_real = scaler.inverse_transform(y_pred_lstm_24_real)\n",
    "y_pred_lstm_24_real = y_pred_lstm_24_real[:, 0]\n",
    "\n",
    "mape_pred_lstm_24 = np.mean(np.mean(np.abs(y_test_2_real - y_pred_lstm_24_real)/y_test_2_real)*100)\n",
    "real_mae_pred_lstm_24 = mean_absolute_error(y_test_2_real, y_pred_lstm_24_real)\n",
    "evaluation_metrics.loc[4] = ['LSTM - 24 Sequence Length', 'Timestep=50, without tensorflow pipeline dataset. The rest is same', mse_lstm_24_seq[0], rmse_lstm_24_seq[0], mae_lstm_24_seq, mape_pred_lstm_24, real_mae_pred_lstm_24]\n",
    "evaluation_metrics"
   ]
  },
  {
   "cell_type": "code",
   "execution_count": 63,
   "metadata": {},
   "outputs": [
    {
     "data": {
      "image/png": "[encoded data removed]",
      "text/plain": [
       "<Figure size 1296x288 with 1 Axes>"
      ]
     },
     "metadata": {},
     "output_type": "display_data"
    }
   ],
   "source": [
    "fig, ax = plt.subplots(figsize=(18, 4), sharex=True)\n",
    "\n",
    "plt.title(\"Predictions vs. Real Price (LSTM)\", fontsize=20)\n",
    "plt.ylabel('BTC', fontsize=18)\n",
    "plt.plot(y_pred_lstm_24_real, color=\"#E91D9E\", linewidth=1.0)\n",
    "plt.plot(y_test_2_real, color=\"black\", linewidth=1.0)\n",
    "plt.legend([\"Test Predictions\", \"Real Price\"], loc=\"upper right\")\n",
    "\n",
    "plt.show()"
   ]
  },
  {
   "cell_type": "markdown",
   "metadata": {},
   "source": [
    "## **10. Model Saving**"
   ]
  },
  {
   "cell_type": "markdown",
   "metadata": {},
   "source": [
    "### 10.1. Choose The Best Model"
   ]
  },
  {
   "cell_type": "code",
   "execution_count": 69,
   "metadata": {},
   "outputs": [],
   "source": [
    "y_dummy_price = []\n",
    "for i in range(0, 45):\n",
    "    y_dummy_price.append(43000)\n",
    "    \n",
    "y_pred_lstm_24_compare = y_pred_lstm_24_real.reshape(-1, 1)\n",
    "y_pred_lstm_24_compare = np.insert(y_pred_lstm_24_compare, 0, np.array(y_dummy_price).reshape(-1,1), axis=0)"
   ]
  },
  {
   "cell_type": "code",
   "execution_count": 70,
   "metadata": {},
   "outputs": [
    {
     "data": {
      "image/png": "[encoded data removed]",
      "text/plain": [
       "<Figure size 1296x288 with 1 Axes>"
      ]
     },
     "metadata": {},
     "output_type": "display_data"
    }
   ],
   "source": [
    "# plot prediction vs real price\n",
    "fig, ax = plt.subplots(figsize=(18, 4), sharex=True)\n",
    "\n",
    "plt.title(\"Predictions vs. Real Price )\", fontsize=20)\n",
    "plt.ylabel('BTC', fontsize=18)\n",
    "plt.plot(y_pred_lstm_24_compare, color=\"#E91D9E\", linewidth=1.0)\n",
    "plt.plot(y_pred_gru_non_real, color=\"blue\", linewidth=1.0)\n",
    "plt.plot(y_pred_lstm_non_real, color=\"green\", linewidth=1.0)\n",
    "plt.plot(y_test_real, color=\"black\", linewidth=2.0)\n",
    "plt.legend([\"LSTM - 50 Seq\", \"GRU\", \"LSTM - 5 Seq\", \"Real\"], loc=\"upper right\")\n",
    "plt.show()"
   ]
  },
  {
   "cell_type": "markdown",
   "metadata": {},
   "source": [
    "### 10.2. Scaling Pipeline"
   ]
  },
  {
   "cell_type": "code",
   "execution_count": 72,
   "metadata": {},
   "outputs": [],
   "source": [
    " with open(\"scale_pipe_6_features.pkl\", \"wb\") as f:\n",
    "     pickle.dump(scaler, f)"
   ]
  },
  {
   "cell_type": "markdown",
   "metadata": {},
   "source": [
    "### 10.3. Save Deep Learning Model"
   ]
  },
  {
   "cell_type": "code",
   "execution_count": 73,
   "metadata": {},
   "outputs": [
    {
     "name": "stdout",
     "output_type": "stream",
     "text": [
      "Model Saved!\n"
     ]
    }
   ],
   "source": [
    "# save model\n",
    "lstm_imp_model_2.save('save_models/lstm_5_6_features.h5')\n",
    "print('Model Saved!')"
   ]
  },
  {
   "cell_type": "code",
   "execution_count": 74,
   "metadata": {},
   "outputs": [
    {
     "name": "stdout",
     "output_type": "stream",
     "text": [
      "Model Saved!\n"
     ]
    }
   ],
   "source": [
    "# save model\n",
    "gru_imp_model.save('save_models/gru_5_6_features.h5')\n",
    "print('Model Saved!')"
   ]
  }
 ],
 "metadata": {
  "interpreter": {
   "hash": "73eb498eb90fcb4cd5ca2e11403bee4056c1d9ff3c8b65c8f5caf4c70f29fd6a"
  },
  "kernelspec": {
   "display_name": "Python 3.9.7 ('base')",
   "language": "python",
   "name": "python3"
  },
  "language_info": {
   "codemirror_mode": {
    "name": "ipython",
    "version": 3
   },
   "file_extension": ".py",
   "mimetype": "text/x-python",
   "name": "python",
   "nbconvert_exporter": "python",
   "pygments_lexer": "ipython3",
   "version": "3.10.1"
  },
  "orig_nbformat": 4
 },
 "nbformat": 4,
 "nbformat_minor": 2
}
