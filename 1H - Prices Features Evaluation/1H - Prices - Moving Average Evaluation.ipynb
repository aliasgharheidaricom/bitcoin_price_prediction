{
  "cells": [
    {
      "cell_type": "markdown",
      "metadata": {
        "id": "Ik6V9Yh3B_1Q"
      },
      "source": [
        "# **MILESTONE 2 - PHASE 2**\n",
        "\n",
        "Nama : Krisbiantoro Prabowo\n",
        "\n",
        "Batch : 008\n",
        "<hr>"
      ]
    },
    {
      "cell_type": "markdown",
      "metadata": {
        "id": "-Ib4RO6nB_1U"
      },
      "source": [
        "## **1. Description**\n",
        "### 1.1. Objective\n",
        "Milestones 2 ini bertujuan untuk:\n",
        "\n",
        "- Mengenal  dan menggali informasi mengenai pergerakan harga cryptocurrency khususnya pada bitcoin(BTC) terhadap usd(USDT)\n",
        "- Mampu membuat model Neural Network(NN) yang dapat memprediksi harga BTC/USDT\n",
        "- Model NN yang telah dibuat mampu memprediksi harga BTC/USDT dengan data yang baru saja masuk(inference)\n",
        "\n",
        "### 1.2. About Dataset\n",
        "Diberikan sebuah dataset berupa historical data dari pergerakan BTC terhadap USD. Kolom yang diberikan seperti pada umumnya memiliki informasi mengenai OHLC (Open, High, Low, Close) dan informasi lain yang berkaitan seperti tanggal dan jam terjadinya transaksi. Data Transaksi yang dicatat merupakan data tiap jam dan mulai direkam mulai dari 17 Agustus 2018\n",
        "\n",
        "### 1.3. Problem Statement\n",
        "Kita adalah seorang **day trader** dimana kita sering melakukan `Open Posisi/Trade` di hari yang sama. Oleh karena itu kita terbiasa menggunakan chart berbagai time frame salah satunya ialah 1 jam(perubahan harga tiap jamnya). Karena sering menggunakan time frame tersebut, kita ingin setidaknya mengetahui harga penutupan pada time frame 1 jam kedepannya. Dengan hal ini kita memiliki pandangan setidaknya dari prediksi yang dilakukan apakah harga bergerak naik, stagnan, atau justru turun. Diharapkan dengan mengetahui pergerakan ini, dapat membantu kita apakah kondisi harga pada saat itu nantinya ideal untuk dilakukan `Open Trade` dengan definisi rules atau aturan trading yang sudah kita tetapkan.\n",
        "\n",
        "### 1.4. Useful Links\n",
        "- Dataset: [here](https://www.kaggle.com/datasets/oscardavidperilla/historical-bitcoin-prices-btc)\n",
        "- Colab: [here]()\n",
        "- Heroku(deployment): [here](https://krisbiantoro-p2-m2.herokuapp.com/)\n",
        "<hr>"
      ]
    },
    {
      "cell_type": "markdown",
      "metadata": {
        "id": "dfrZTv-fB_1V"
      },
      "source": [
        "## **2. Import Libraries**"
      ]
    },
    {
      "cell_type": "code",
      "execution_count": 6,
      "metadata": {
        "id": "v-ncAfeRB_1V"
      },
      "outputs": [],
      "source": [
        "import pandas as pd\n",
        "import matplotlib as mpl\n",
        "import matplotlib.pyplot as plt\n",
        "import seaborn as sns\n",
        "import numpy as np\n",
        "from sklearn.preprocessing import MinMaxScaler,StandardScaler, RobustScaler\n",
        "from sklearn.decomposition import PCA\n",
        "from statsmodels.stats.outliers_influence import variance_inflation_factor\n",
        "from sklearn.pipeline import make_pipeline\n",
        "from sklearn.compose import ColumnTransformer\n",
        "import pickle\n",
        "import tensorflow as tf\n",
        "import math\n",
        "from tensorflow.keras.models import Sequential\n",
        "from tensorflow.keras import layers\n",
        "from keras.callbacks import EarlyStopping\n",
        "from keras.layers import LSTM, Dense, Dropout, Activation, Flatten, GRU\n",
        "from keras import optimizers\n",
        "from sklearn.metrics import mean_absolute_error, mean_squared_error, mean_absolute_percentage_error\n",
        "import mplfinance as fplt\n",
        "\n",
        "pd.options.mode.chained_assignment = None"
      ]
    },
    {
      "cell_type": "code",
      "execution_count": 7,
      "metadata": {
        "id": "HubMaSx9B_1X"
      },
      "outputs": [],
      "source": [
        "colors = sns.color_palette(\"Set2\")\n",
        "colors2 = sns.color_palette(\"Paired\")\n",
        "sns.set_style(\"whitegrid\")\n",
        "plt.style.use('seaborn-pastel')\n",
        "pd.set_option('display.max_columns', None)\n",
        "\n",
        "import warnings\n",
        "warnings.filterwarnings(\"ignore\")\n",
        "# import os\n",
        "# os.environ['TF_CPP_MIN_LOG_LEVEL'] = '3' "
      ]
    },
    {
      "cell_type": "markdown",
      "metadata": {
        "id": "BI-NuJIPB_1X"
      },
      "source": [
        "## **3. Data Loading**"
      ]
    },
    {
      "cell_type": "markdown",
      "metadata": {},
      "source": [
        "### 3.1. Data Loading"
      ]
    },
    {
      "cell_type": "code",
      "execution_count": 8,
      "metadata": {
        "id": "3u8CRETEB_1Y"
      },
      "outputs": [],
      "source": [
        "df = pd.read_csv('../historical_prices/BTCUSDT_1h_2021_2022.csv').set_index('Unnamed: 0')"
      ]
    },
    {
      "cell_type": "code",
      "execution_count": 9,
      "metadata": {},
      "outputs": [
        {
          "data": {
            "text/html": [
              "<div>\n",
              "<style scoped>\n",
              "    .dataframe tbody tr th:only-of-type {\n",
              "        vertical-align: middle;\n",
              "    }\n",
              "\n",
              "    .dataframe tbody tr th {\n",
              "        vertical-align: top;\n",
              "    }\n",
              "\n",
              "    .dataframe thead th {\n",
              "        text-align: right;\n",
              "    }\n",
              "</style>\n",
              "<table border=\"1\" class=\"dataframe\">\n",
              "  <thead>\n",
              "    <tr style=\"text-align: right;\">\n",
              "      <th></th>\n",
              "      <th>0</th>\n",
              "      <th>1</th>\n",
              "      <th>2</th>\n",
              "      <th>3</th>\n",
              "      <th>4</th>\n",
              "      <th>5</th>\n",
              "      <th>6</th>\n",
              "      <th>7</th>\n",
              "      <th>8</th>\n",
              "      <th>9</th>\n",
              "      <th>10</th>\n",
              "      <th>11</th>\n",
              "    </tr>\n",
              "    <tr>\n",
              "      <th>Unnamed: 0</th>\n",
              "      <th></th>\n",
              "      <th></th>\n",
              "      <th></th>\n",
              "      <th></th>\n",
              "      <th></th>\n",
              "      <th></th>\n",
              "      <th></th>\n",
              "      <th></th>\n",
              "      <th></th>\n",
              "      <th></th>\n",
              "      <th></th>\n",
              "      <th></th>\n",
              "    </tr>\n",
              "  </thead>\n",
              "  <tbody>\n",
              "    <tr>\n",
              "      <th>0</th>\n",
              "      <td>1612137600000</td>\n",
              "      <td>33092.97</td>\n",
              "      <td>33106.33</td>\n",
              "      <td>32296.16</td>\n",
              "      <td>32546.27</td>\n",
              "      <td>4383.926122</td>\n",
              "      <td>1612141199999</td>\n",
              "      <td>1.427372e+08</td>\n",
              "      <td>98763</td>\n",
              "      <td>2074.600069</td>\n",
              "      <td>6.750233e+07</td>\n",
              "      <td>0</td>\n",
              "    </tr>\n",
              "    <tr>\n",
              "      <th>1</th>\n",
              "      <td>1612141200000</td>\n",
              "      <td>32546.32</td>\n",
              "      <td>33560.90</td>\n",
              "      <td>32476.34</td>\n",
              "      <td>33430.29</td>\n",
              "      <td>3713.649492</td>\n",
              "      <td>1612144799999</td>\n",
              "      <td>1.229016e+08</td>\n",
              "      <td>76863</td>\n",
              "      <td>1958.691774</td>\n",
              "      <td>6.482048e+07</td>\n",
              "      <td>0</td>\n",
              "    </tr>\n",
              "    <tr>\n",
              "      <th>2</th>\n",
              "      <td>1612144800000</td>\n",
              "      <td>33425.19</td>\n",
              "      <td>33830.00</td>\n",
              "      <td>33222.88</td>\n",
              "      <td>33649.73</td>\n",
              "      <td>3694.931629</td>\n",
              "      <td>1612148399999</td>\n",
              "      <td>1.241016e+08</td>\n",
              "      <td>70196</td>\n",
              "      <td>2026.270613</td>\n",
              "      <td>6.804863e+07</td>\n",
              "      <td>0</td>\n",
              "    </tr>\n",
              "    <tr>\n",
              "      <th>3</th>\n",
              "      <td>1612148400000</td>\n",
              "      <td>33646.37</td>\n",
              "      <td>33776.81</td>\n",
              "      <td>33470.00</td>\n",
              "      <td>33573.97</td>\n",
              "      <td>2882.141795</td>\n",
              "      <td>1612151999999</td>\n",
              "      <td>9.689886e+07</td>\n",
              "      <td>65467</td>\n",
              "      <td>1502.164716</td>\n",
              "      <td>5.050666e+07</td>\n",
              "      <td>0</td>\n",
              "    </tr>\n",
              "    <tr>\n",
              "      <th>4</th>\n",
              "      <td>1612152000000</td>\n",
              "      <td>33573.25</td>\n",
              "      <td>33943.55</td>\n",
              "      <td>33423.43</td>\n",
              "      <td>33558.25</td>\n",
              "      <td>3206.054328</td>\n",
              "      <td>1612155599999</td>\n",
              "      <td>1.079852e+08</td>\n",
              "      <td>82376</td>\n",
              "      <td>1739.632601</td>\n",
              "      <td>5.861244e+07</td>\n",
              "      <td>0</td>\n",
              "    </tr>\n",
              "  </tbody>\n",
              "</table>\n",
              "</div>"
            ],
            "text/plain": [
              "                        0         1         2         3         4  \\\n",
              "Unnamed: 0                                                          \n",
              "0           1612137600000  33092.97  33106.33  32296.16  32546.27   \n",
              "1           1612141200000  32546.32  33560.90  32476.34  33430.29   \n",
              "2           1612144800000  33425.19  33830.00  33222.88  33649.73   \n",
              "3           1612148400000  33646.37  33776.81  33470.00  33573.97   \n",
              "4           1612152000000  33573.25  33943.55  33423.43  33558.25   \n",
              "\n",
              "                      5              6             7      8            9  \\\n",
              "Unnamed: 0                                                                 \n",
              "0           4383.926122  1612141199999  1.427372e+08  98763  2074.600069   \n",
              "1           3713.649492  1612144799999  1.229016e+08  76863  1958.691774   \n",
              "2           3694.931629  1612148399999  1.241016e+08  70196  2026.270613   \n",
              "3           2882.141795  1612151999999  9.689886e+07  65467  1502.164716   \n",
              "4           3206.054328  1612155599999  1.079852e+08  82376  1739.632601   \n",
              "\n",
              "                      10  11  \n",
              "Unnamed: 0                    \n",
              "0           6.750233e+07   0  \n",
              "1           6.482048e+07   0  \n",
              "2           6.804863e+07   0  \n",
              "3           5.050666e+07   0  \n",
              "4           5.861244e+07   0  "
            ]
          },
          "execution_count": 9,
          "metadata": {},
          "output_type": "execute_result"
        }
      ],
      "source": [
        "df.head()"
      ]
    },
    {
      "cell_type": "markdown",
      "metadata": {},
      "source": [
        "### 3.2. Rename Columns"
      ]
    },
    {
      "cell_type": "code",
      "execution_count": 10,
      "metadata": {},
      "outputs": [],
      "source": [
        "df= df.rename(columns={'0': 'open_time', '1':'open', '2':'high', '3':'low', '4':'close', '5':'volume', '6': 'close_time', '7': 'quote_asset_volume', '8': 'number_of_trades', '9': 'taker_buy_asset_volume', '10': 'taker_buy_quote_asset_volume', '11': 'ignore'})"
      ]
    },
    {
      "cell_type": "markdown",
      "metadata": {
        "id": "-9NFIWdaB_1Z"
      },
      "source": [
        "## **4. Exploratory Data Analysis**"
      ]
    },
    {
      "cell_type": "markdown",
      "metadata": {
        "id": "rnc9buMYB_1a"
      },
      "source": [
        "### 4.1. Brief Information"
      ]
    },
    {
      "cell_type": "code",
      "execution_count": 11,
      "metadata": {
        "colab": {
          "base_uri": "https://localhost:8080/"
        },
        "id": "IBVkrDi_B_1a",
        "outputId": "4b9f54fb-d9d7-4811-b9fc-8ad685989f08"
      },
      "outputs": [
        {
          "name": "stdout",
          "output_type": "stream",
          "text": [
            "<class 'pandas.core.frame.DataFrame'>\n",
            "Int64Index: 10169 entries, 0 to 10168\n",
            "Data columns (total 12 columns):\n",
            " #   Column                        Non-Null Count  Dtype  \n",
            "---  ------                        --------------  -----  \n",
            " 0   open_time                     10169 non-null  int64  \n",
            " 1   open                          10169 non-null  float64\n",
            " 2   high                          10169 non-null  float64\n",
            " 3   low                           10169 non-null  float64\n",
            " 4   close                         10169 non-null  float64\n",
            " 5   volume                        10169 non-null  float64\n",
            " 6   close_time                    10169 non-null  int64  \n",
            " 7   quote_asset_volume            10169 non-null  float64\n",
            " 8   number_of_trades              10169 non-null  int64  \n",
            " 9   taker_buy_asset_volume        10169 non-null  float64\n",
            " 10  taker_buy_quote_asset_volume  10169 non-null  float64\n",
            " 11  ignore                        10169 non-null  int64  \n",
            "dtypes: float64(8), int64(4)\n",
            "memory usage: 1.0 MB\n"
          ]
        }
      ],
      "source": [
        "df.info()"
      ]
    },
    {
      "cell_type": "markdown",
      "metadata": {},
      "source": [
        "- Tidak ditemukannya missing value pada keseluruhan kolom, khususnya kolom yang akan kita gunakan yaitu `close`. Ini dapat memudahkan kita untuk mengolah data dan mempersiapkan data sebelum masuk ke Neural Network, karena dapat langsung menggunakan data secara utuh"
      ]
    },
    {
      "cell_type": "code",
      "execution_count": 12,
      "metadata": {
        "colab": {
          "base_uri": "https://localhost:8080/"
        },
        "id": "puzMoLJ9B_1b",
        "outputId": "3435ddfd-330f-4b96-fab7-508c7c4255e7"
      },
      "outputs": [
        {
          "name": "stdout",
          "output_type": "stream",
          "text": [
            "Numeric Columns:  ['open_time', 'open', 'high', 'low', 'close', 'volume', 'close_time', 'quote_asset_volume', 'number_of_trades', 'taker_buy_asset_volume', 'taker_buy_quote_asset_volume', 'ignore']\n",
            "Categorical Columns:  []\n"
          ]
        }
      ],
      "source": [
        "num_columns = df.select_dtypes(include=np.number).columns.tolist()\n",
        "cat_columns = df.select_dtypes(include=['object']).columns.tolist()\n",
        "\n",
        "print('Numeric Columns: ', num_columns)\n",
        "print('Categorical Columns: ', cat_columns)"
      ]
    },
    {
      "cell_type": "markdown",
      "metadata": {},
      "source": [
        "- Karena data berisi informasi mengenai rekam transaksi BTC/USDT, wajar jika mayoritas kolom bertipe Numerik"
      ]
    },
    {
      "cell_type": "markdown",
      "metadata": {
        "id": "qUo8nQUKB_1b"
      },
      "source": [
        "### 4.2. Statistical Descriptive"
      ]
    },
    {
      "cell_type": "code",
      "execution_count": 13,
      "metadata": {
        "colab": {
          "base_uri": "https://localhost:8080/",
          "height": 300
        },
        "id": "2egV6DTXB_1b",
        "outputId": "3b89b32f-8a45-4e7b-8223-ce7f7a514319"
      },
      "outputs": [
        {
          "data": {
            "text/html": [
              "<div>\n",
              "<style scoped>\n",
              "    .dataframe tbody tr th:only-of-type {\n",
              "        vertical-align: middle;\n",
              "    }\n",
              "\n",
              "    .dataframe tbody tr th {\n",
              "        vertical-align: top;\n",
              "    }\n",
              "\n",
              "    .dataframe thead th {\n",
              "        text-align: right;\n",
              "    }\n",
              "</style>\n",
              "<table border=\"1\" class=\"dataframe\">\n",
              "  <thead>\n",
              "    <tr style=\"text-align: right;\">\n",
              "      <th></th>\n",
              "      <th>open_time</th>\n",
              "      <th>open</th>\n",
              "      <th>high</th>\n",
              "      <th>low</th>\n",
              "      <th>close</th>\n",
              "      <th>volume</th>\n",
              "      <th>close_time</th>\n",
              "      <th>quote_asset_volume</th>\n",
              "      <th>number_of_trades</th>\n",
              "      <th>taker_buy_asset_volume</th>\n",
              "      <th>taker_buy_quote_asset_volume</th>\n",
              "      <th>ignore</th>\n",
              "    </tr>\n",
              "  </thead>\n",
              "  <tbody>\n",
              "    <tr>\n",
              "      <th>count</th>\n",
              "      <td>1.016900e+04</td>\n",
              "      <td>10169.000000</td>\n",
              "      <td>10169.000000</td>\n",
              "      <td>10169.000000</td>\n",
              "      <td>10169.000000</td>\n",
              "      <td>10169.000000</td>\n",
              "      <td>1.016900e+04</td>\n",
              "      <td>1.016900e+04</td>\n",
              "      <td>10169.000000</td>\n",
              "      <td>10169.000000</td>\n",
              "      <td>1.016900e+04</td>\n",
              "      <td>10169.0</td>\n",
              "    </tr>\n",
              "    <tr>\n",
              "      <th>mean</th>\n",
              "      <td>1.630472e+12</td>\n",
              "      <td>46994.786758</td>\n",
              "      <td>47269.287659</td>\n",
              "      <td>46705.732727</td>\n",
              "      <td>46995.913827</td>\n",
              "      <td>2569.873315</td>\n",
              "      <td>1.630476e+12</td>\n",
              "      <td>1.181009e+08</td>\n",
              "      <td>68965.474875</td>\n",
              "      <td>1265.283757</td>\n",
              "      <td>5.817753e+07</td>\n",
              "      <td>0.0</td>\n",
              "    </tr>\n",
              "    <tr>\n",
              "      <th>std</th>\n",
              "      <td>1.058312e+10</td>\n",
              "      <td>8950.931672</td>\n",
              "      <td>8970.962023</td>\n",
              "      <td>8925.753846</td>\n",
              "      <td>8949.916235</td>\n",
              "      <td>2187.496579</td>\n",
              "      <td>1.058312e+10</td>\n",
              "      <td>9.463427e+07</td>\n",
              "      <td>45077.328052</td>\n",
              "      <td>1068.576295</td>\n",
              "      <td>4.650215e+07</td>\n",
              "      <td>0.0</td>\n",
              "    </tr>\n",
              "    <tr>\n",
              "      <th>min</th>\n",
              "      <td>1.612138e+12</td>\n",
              "      <td>29239.000000</td>\n",
              "      <td>29706.830000</td>\n",
              "      <td>28805.000000</td>\n",
              "      <td>29238.990000</td>\n",
              "      <td>0.000000</td>\n",
              "      <td>1.612141e+12</td>\n",
              "      <td>0.000000e+00</td>\n",
              "      <td>0.000000</td>\n",
              "      <td>0.000000</td>\n",
              "      <td>0.000000e+00</td>\n",
              "      <td>0.0</td>\n",
              "    </tr>\n",
              "    <tr>\n",
              "      <th>25%</th>\n",
              "      <td>1.621314e+12</td>\n",
              "      <td>39356.920000</td>\n",
              "      <td>39600.000000</td>\n",
              "      <td>39078.500000</td>\n",
              "      <td>39357.030000</td>\n",
              "      <td>1308.592197</td>\n",
              "      <td>1.621318e+12</td>\n",
              "      <td>6.066155e+07</td>\n",
              "      <td>39820.000000</td>\n",
              "      <td>642.922300</td>\n",
              "      <td>2.942543e+07</td>\n",
              "      <td>0.0</td>\n",
              "    </tr>\n",
              "    <tr>\n",
              "      <th>50%</th>\n",
              "      <td>1.630480e+12</td>\n",
              "      <td>46833.480000</td>\n",
              "      <td>47096.960000</td>\n",
              "      <td>46543.000000</td>\n",
              "      <td>46833.480000</td>\n",
              "      <td>1991.740782</td>\n",
              "      <td>1.630483e+12</td>\n",
              "      <td>9.395321e+07</td>\n",
              "      <td>57615.000000</td>\n",
              "      <td>981.935259</td>\n",
              "      <td>4.627915e+07</td>\n",
              "      <td>0.0</td>\n",
              "    </tr>\n",
              "    <tr>\n",
              "      <th>75%</th>\n",
              "      <td>1.639638e+12</td>\n",
              "      <td>54874.670000</td>\n",
              "      <td>55195.840000</td>\n",
              "      <td>54517.010000</td>\n",
              "      <td>54875.620000</td>\n",
              "      <td>3083.940840</td>\n",
              "      <td>1.639642e+12</td>\n",
              "      <td>1.453238e+08</td>\n",
              "      <td>84501.000000</td>\n",
              "      <td>1527.092198</td>\n",
              "      <td>7.145319e+07</td>\n",
              "      <td>0.0</td>\n",
              "    </tr>\n",
              "    <tr>\n",
              "      <th>max</th>\n",
              "      <td>1.648789e+12</td>\n",
              "      <td>68635.120000</td>\n",
              "      <td>69000.000000</td>\n",
              "      <td>68451.190000</td>\n",
              "      <td>68633.690000</td>\n",
              "      <td>44239.811778</td>\n",
              "      <td>1.648793e+12</td>\n",
              "      <td>1.514465e+09</td>\n",
              "      <td>799206.000000</td>\n",
              "      <td>19904.321262</td>\n",
              "      <td>6.849674e+08</td>\n",
              "      <td>0.0</td>\n",
              "    </tr>\n",
              "  </tbody>\n",
              "</table>\n",
              "</div>"
            ],
            "text/plain": [
              "          open_time          open          high           low         close  \\\n",
              "count  1.016900e+04  10169.000000  10169.000000  10169.000000  10169.000000   \n",
              "mean   1.630472e+12  46994.786758  47269.287659  46705.732727  46995.913827   \n",
              "std    1.058312e+10   8950.931672   8970.962023   8925.753846   8949.916235   \n",
              "min    1.612138e+12  29239.000000  29706.830000  28805.000000  29238.990000   \n",
              "25%    1.621314e+12  39356.920000  39600.000000  39078.500000  39357.030000   \n",
              "50%    1.630480e+12  46833.480000  47096.960000  46543.000000  46833.480000   \n",
              "75%    1.639638e+12  54874.670000  55195.840000  54517.010000  54875.620000   \n",
              "max    1.648789e+12  68635.120000  69000.000000  68451.190000  68633.690000   \n",
              "\n",
              "             volume    close_time  quote_asset_volume  number_of_trades  \\\n",
              "count  10169.000000  1.016900e+04        1.016900e+04      10169.000000   \n",
              "mean    2569.873315  1.630476e+12        1.181009e+08      68965.474875   \n",
              "std     2187.496579  1.058312e+10        9.463427e+07      45077.328052   \n",
              "min        0.000000  1.612141e+12        0.000000e+00          0.000000   \n",
              "25%     1308.592197  1.621318e+12        6.066155e+07      39820.000000   \n",
              "50%     1991.740782  1.630483e+12        9.395321e+07      57615.000000   \n",
              "75%     3083.940840  1.639642e+12        1.453238e+08      84501.000000   \n",
              "max    44239.811778  1.648793e+12        1.514465e+09     799206.000000   \n",
              "\n",
              "       taker_buy_asset_volume  taker_buy_quote_asset_volume   ignore  \n",
              "count            10169.000000                  1.016900e+04  10169.0  \n",
              "mean              1265.283757                  5.817753e+07      0.0  \n",
              "std               1068.576295                  4.650215e+07      0.0  \n",
              "min                  0.000000                  0.000000e+00      0.0  \n",
              "25%                642.922300                  2.942543e+07      0.0  \n",
              "50%                981.935259                  4.627915e+07      0.0  \n",
              "75%               1527.092198                  7.145319e+07      0.0  \n",
              "max              19904.321262                  6.849674e+08      0.0  "
            ]
          },
          "execution_count": 13,
          "metadata": {},
          "output_type": "execute_result"
        }
      ],
      "source": [
        "df.describe()"
      ]
    },
    {
      "cell_type": "markdown",
      "metadata": {},
      "source": [
        "- Keseluruhan kolom khususnya pada kolom close tampaknya memiliki `outlier` dan memiliki pendistribusian data bersifat `skewed` jika dilihat dari gap atau selisih yang dihasilkan dari posisi Quartile 3 ke Quartile 4(Max)\n",
        "- Dengan mengetahui bahwa harga cryptocurrency termasuk BTC sangatlah volatile (kenaikan ataupun turunnya harga memiliki rentang yang tinggi ), khususnya jika terdapat news yang memberikan dampak signifikan entah itu berita yang baik ataupun yang buruk pada interval waktu saat itu. Maka besar kemungkinan kolom akan memiliki outlier dan memiliki nilai varians/std yang juga tinggi. Namun outlier tersebut akan kita biarkan dan tidak ditangani sama sekali\n",
        "- Hal ini dikarenakan kita membutuhkan informasi rentang tersebut dan oleh karena itu, untuk setidaknya memudahkan komputasi pada deep learning. Kita akan menormalisasi data harga pada kolom close dengan teknik `MinMaxScaler` dengan mengubah nilainya menjadi rentang dari 0 hingga 1"
      ]
    },
    {
      "cell_type": "code",
      "execution_count": 14,
      "metadata": {
        "colab": {
          "base_uri": "https://localhost:8080/",
          "height": 300
        },
        "id": "vsyqbQWyB_1c",
        "outputId": "c0d8876d-ad81-4010-ded6-052f632eee8f"
      },
      "outputs": [
        {
          "data": {
            "text/html": [
              "<div>\n",
              "<style scoped>\n",
              "    .dataframe tbody tr th:only-of-type {\n",
              "        vertical-align: middle;\n",
              "    }\n",
              "\n",
              "    .dataframe tbody tr th {\n",
              "        vertical-align: top;\n",
              "    }\n",
              "\n",
              "    .dataframe thead th {\n",
              "        text-align: right;\n",
              "    }\n",
              "</style>\n",
              "<table border=\"1\" class=\"dataframe\">\n",
              "  <thead>\n",
              "    <tr style=\"text-align: right;\">\n",
              "      <th></th>\n",
              "      <th>columns</th>\n",
              "      <th>skew</th>\n",
              "      <th>status</th>\n",
              "    </tr>\n",
              "  </thead>\n",
              "  <tbody>\n",
              "    <tr>\n",
              "      <th>0</th>\n",
              "      <td>open_time</td>\n",
              "      <td>-0.001193</td>\n",
              "      <td>Normal</td>\n",
              "    </tr>\n",
              "    <tr>\n",
              "      <th>1</th>\n",
              "      <td>open</td>\n",
              "      <td>0.201053</td>\n",
              "      <td>Normal</td>\n",
              "    </tr>\n",
              "    <tr>\n",
              "      <th>2</th>\n",
              "      <td>high</td>\n",
              "      <td>0.199509</td>\n",
              "      <td>Normal</td>\n",
              "    </tr>\n",
              "    <tr>\n",
              "      <th>3</th>\n",
              "      <td>low</td>\n",
              "      <td>0.202436</td>\n",
              "      <td>Normal</td>\n",
              "    </tr>\n",
              "    <tr>\n",
              "      <th>4</th>\n",
              "      <td>close</td>\n",
              "      <td>0.201096</td>\n",
              "      <td>Normal</td>\n",
              "    </tr>\n",
              "    <tr>\n",
              "      <th>5</th>\n",
              "      <td>volume</td>\n",
              "      <td>4.627426</td>\n",
              "      <td>Skewed</td>\n",
              "    </tr>\n",
              "    <tr>\n",
              "      <th>6</th>\n",
              "      <td>close_time</td>\n",
              "      <td>-0.001193</td>\n",
              "      <td>Normal</td>\n",
              "    </tr>\n",
              "    <tr>\n",
              "      <th>7</th>\n",
              "      <td>quote_asset_volume</td>\n",
              "      <td>3.796731</td>\n",
              "      <td>Skewed</td>\n",
              "    </tr>\n",
              "    <tr>\n",
              "      <th>8</th>\n",
              "      <td>number_of_trades</td>\n",
              "      <td>3.512922</td>\n",
              "      <td>Skewed</td>\n",
              "    </tr>\n",
              "    <tr>\n",
              "      <th>9</th>\n",
              "      <td>taker_buy_asset_volume</td>\n",
              "      <td>4.231173</td>\n",
              "      <td>Skewed</td>\n",
              "    </tr>\n",
              "    <tr>\n",
              "      <th>10</th>\n",
              "      <td>taker_buy_quote_asset_volume</td>\n",
              "      <td>3.536994</td>\n",
              "      <td>Skewed</td>\n",
              "    </tr>\n",
              "    <tr>\n",
              "      <th>11</th>\n",
              "      <td>ignore</td>\n",
              "      <td>0.000000</td>\n",
              "      <td>Normal</td>\n",
              "    </tr>\n",
              "  </tbody>\n",
              "</table>\n",
              "</div>"
            ],
            "text/plain": [
              "                         columns      skew  status\n",
              "0                      open_time -0.001193  Normal\n",
              "1                           open  0.201053  Normal\n",
              "2                           high  0.199509  Normal\n",
              "3                            low  0.202436  Normal\n",
              "4                          close  0.201096  Normal\n",
              "5                         volume  4.627426  Skewed\n",
              "6                     close_time -0.001193  Normal\n",
              "7             quote_asset_volume  3.796731  Skewed\n",
              "8               number_of_trades  3.512922  Skewed\n",
              "9         taker_buy_asset_volume  4.231173  Skewed\n",
              "10  taker_buy_quote_asset_volume  3.536994  Skewed\n",
              "11                        ignore  0.000000  Normal"
            ]
          },
          "execution_count": 14,
          "metadata": {},
          "output_type": "execute_result"
        }
      ],
      "source": [
        "skewness = pd.DataFrame({'columns':df.describe().columns, 'skew' : df.skew(axis=0)})\n",
        "skewness.reset_index(drop=True, inplace=True)\n",
        "skewness['status'] = np.where(skewness['skew'].abs()>0.5, 'Skewed', 'Normal')\n",
        "skewness"
      ]
    },
    {
      "cell_type": "markdown",
      "metadata": {},
      "source": [
        "- Ternyata benar jika keseluruhan kolom memiliki status `skewed` khususnya pada kolom close"
      ]
    },
    {
      "cell_type": "markdown",
      "metadata": {
        "id": "miVjiZH8B_1c"
      },
      "source": [
        "### 4.3. Columns Analysis"
      ]
    },
    {
      "cell_type": "code",
      "execution_count": 15,
      "metadata": {
        "colab": {
          "base_uri": "https://localhost:8080/",
          "height": 0
        },
        "id": "z0up4YLcB_1c",
        "outputId": "e4142c3b-0cde-49f4-b257-b08393ecff98"
      },
      "outputs": [
        {
          "data": {
            "image/png": "[encoded data removed]",
            "text/plain": [
              "<Figure size 1152x432 with 2 Axes>"
            ]
          },
          "metadata": {},
          "output_type": "display_data"
        }
      ],
      "source": [
        "# Increase the size of the heatmap.\n",
        "plt.figure(figsize=(16, 6))\n",
        "\n",
        "heatmap = sns.heatmap(df.corr(), vmin=-1, vmax=1, annot=True)\n",
        "heatmap.set_title('Correlation Heatmap', fontdict={'fontsize':12}, pad=12);"
      ]
    },
    {
      "cell_type": "markdown",
      "metadata": {},
      "source": [
        "- Kolom OHLC, memiliki relasi yang sama sama kuat (bernilai 1). Hal ini wajar karena memang pada kolom-kolom ini mencatat rekam informasi harga tiap jamnya dan saling berhubungan dengan data-data sebelumnya"
      ]
    },
    {
      "cell_type": "code",
      "execution_count": 16,
      "metadata": {
        "id": "0VLKGdyxB_1c"
      },
      "outputs": [],
      "source": [
        "df_cor=df.corr()\n",
        "for i in df_cor:\n",
        "    j=0\n",
        "    df_cor[i] = np.where(df_cor[i].abs()>0.1, df_cor[i], 'low')"
      ]
    },
    {
      "cell_type": "code",
      "execution_count": 17,
      "metadata": {
        "colab": {
          "base_uri": "https://localhost:8080/"
        },
        "id": "rVDDYj7pB_1d",
        "outputId": "bab3405e-fc9c-4903-8114-38b287110dff"
      },
      "outputs": [
        {
          "name": "stdout",
          "output_type": "stream",
          "text": [
            "Column: open_time\n",
            "low: [1]\n",
            "====================\n",
            "Column: open\n",
            "low: [2]\n",
            "====================\n",
            "Column: high\n",
            "low: [1]\n",
            "====================\n",
            "Column: low\n",
            "low: [4]\n",
            "====================\n",
            "Column: close\n",
            "low: [2]\n",
            "====================\n",
            "Column: volume\n",
            "low: [1]\n",
            "====================\n",
            "Column: close_time\n",
            "low: [1]\n",
            "====================\n",
            "Column: quote_asset_volume\n",
            "low: [2]\n",
            "====================\n",
            "Column: number_of_trades\n",
            "low: [4]\n",
            "====================\n",
            "Column: taker_buy_asset_volume\n",
            "low: [1]\n",
            "====================\n",
            "Column: taker_buy_quote_asset_volume\n",
            "low: [2]\n",
            "====================\n",
            "Column: ignore\n",
            "low: [12]\n",
            "====================\n"
          ]
        }
      ],
      "source": [
        "for i in df_cor:\n",
        "    print(f'Column: {i}')\n",
        "    low_corr = df_cor[i][(df_cor[i] == \"low\")].value_counts().tolist()\n",
        "    if low_corr:\n",
        "        print('low:',low_corr)\n",
        "    else:\n",
        "        print('low:',0)\n",
        "    print(\"=\"*20)"
      ]
    },
    {
      "cell_type": "markdown",
      "metadata": {},
      "source": [
        "- Tidak ditemukannya korelasi yang bernilai rendah (dibawah 0.1) antar tia-tiap kolom"
      ]
    },
    {
      "cell_type": "markdown",
      "metadata": {
        "id": "GVj8Hrz_B_1d"
      },
      "source": [
        "### 4.4. Gather Some Information"
      ]
    },
    {
      "cell_type": "markdown",
      "metadata": {},
      "source": [
        "### 4.4.1. Historical Bitcoin Prices"
      ]
    },
    {
      "cell_type": "code",
      "execution_count": 18,
      "metadata": {},
      "outputs": [
        {
          "name": "stdout",
          "output_type": "stream",
          "text": [
            "<class 'pandas.core.frame.DataFrame'>\n",
            "Int64Index: 10169 entries, 0 to 10168\n",
            "Data columns (total 12 columns):\n",
            " #   Column                        Non-Null Count  Dtype  \n",
            "---  ------                        --------------  -----  \n",
            " 0   open_time                     10169 non-null  int64  \n",
            " 1   open                          10169 non-null  float64\n",
            " 2   high                          10169 non-null  float64\n",
            " 3   low                           10169 non-null  float64\n",
            " 4   close                         10169 non-null  float64\n",
            " 5   volume                        10169 non-null  float64\n",
            " 6   close_time                    10169 non-null  int64  \n",
            " 7   quote_asset_volume            10169 non-null  float64\n",
            " 8   number_of_trades              10169 non-null  int64  \n",
            " 9   taker_buy_asset_volume        10169 non-null  float64\n",
            " 10  taker_buy_quote_asset_volume  10169 non-null  float64\n",
            " 11  ignore                        10169 non-null  int64  \n",
            "dtypes: float64(8), int64(4)\n",
            "memory usage: 1.0 MB\n"
          ]
        }
      ],
      "source": [
        "df.info()"
      ]
    },
    {
      "cell_type": "markdown",
      "metadata": {},
      "source": [
        "- Banyak hal yang terjadi pada fase ini. Project-project cryptocurrency yang sebelumnya dikembangkan, sudah banyak pada tahap `live` dan siap untuk digunakan oleh khalayak umum. Cara trading baru seperti Liquid Swap mulai populer dan banyak dilakukan, Pengenalan dan pengimplementasian Decentralized Finance atau biasa disingkat dengan `DeFi` juga terlaksana dalam kurun waktu interval ini. Dan salah satu berita yang terkenal ialah perusahaan milik `Elon Musk` yaitu tesla menerbitkan laporan keuangan dimana mereka menginvestasikan sebagian dana mereka kedalam bitcoin (berita dapat dilihat [disini](https://www.cnbc.com/2021/02/08/tesla-buys-1point5-billion-in-bitcoin.html))"
      ]
    },
    {
      "cell_type": "markdown",
      "metadata": {},
      "source": [
        "### 4.4.3. Finding The Best Time Step/Sequence Length"
      ]
    },
    {
      "cell_type": "markdown",
      "metadata": {},
      "source": [
        "- Karena kita seorang day trader dan sering melihat pergerakan harga berdasarkan time frame per 1 jam, maka hendaknya kita mencari informasi terlebih dahulu salah satu teknikal analisis yang umum digunakan dan berapa panjang interval yang ideal untuk teknikal analisis tersebut.\n",
        "- Salah satu yang kita gunakan ialah `Moving Average(MA)`, dan didapat informasi (dari [artikel ini](https://www.investopedia.com/articles/active-trading/010116/perfect-moving-averages-day-trading.asp#:~:text=Moving%20averages%20add%20reliability%20to,the%20long%20and%20short%20sides.))bahwa timeframe yang umum digunakan ialah 5, 8, dan 13.\n",
        "- Selain interval yang cenderung pendek tersebut, Moving Average sebesar 50 juga cocok khususnya pada trading berjangka menengah ([artikel terkait](https://tradeciety.com/how-to-use-moving-averages/)). Maka kita akan coba membandingkan Moving Average ini khususnya 50 dengan interval yang lebih pendek\n",
        "- Dari sini, kita menetapkan bahwa `Time Step` yang digunakan mayoritas model **adalah** `5` dan membandingkan salah satunya dengan time step yang lebih panjangan yaitu `505"
      ]
    },
    {
      "cell_type": "markdown",
      "metadata": {
        "id": "y5nj6qlPB_1d"
      },
      "source": [
        "## **5. Data Preprocessing**"
      ]
    },
    {
      "cell_type": "code",
      "execution_count": 19,
      "metadata": {},
      "outputs": [],
      "source": [
        "# df = pd.to_datetime(df,unit='ms')"
      ]
    },
    {
      "cell_type": "code",
      "execution_count": 20,
      "metadata": {},
      "outputs": [],
      "source": [
        "df['MA5'] = df['close'].rolling(window=5).mean()"
      ]
    },
    {
      "cell_type": "code",
      "execution_count": 21,
      "metadata": {},
      "outputs": [],
      "source": [
        "df= df.dropna()\n",
        "df.reset_index(drop=True, inplace=True)"
      ]
    },
    {
      "cell_type": "markdown",
      "metadata": {
        "id": "e2u0RDVbB_1e"
      },
      "source": [
        "### 5.1. Split Dataset"
      ]
    },
    {
      "cell_type": "code",
      "execution_count": 22,
      "metadata": {
        "id": "jn3x_YrvB_1e"
      },
      "outputs": [],
      "source": [
        "# Split data into train and test\n",
        "\n",
        "train_data_length = len(df) - 168\n",
        "\n",
        "data_train = df.iloc[:train_data_length]\n",
        "X_test = df.iloc[train_data_length:]"
      ]
    },
    {
      "cell_type": "code",
      "execution_count": 23,
      "metadata": {
        "id": "-7KvamGIB_1e"
      },
      "outputs": [],
      "source": [
        "# Split train set into train and validation\n",
        "\n",
        "train_data_length = math.ceil(data_train.shape[0] * 0.9)\n",
        "\n",
        "X_train = data_train.iloc[:train_data_length]\n",
        "X_val = data_train.iloc[train_data_length:]"
      ]
    },
    {
      "cell_type": "markdown",
      "metadata": {
        "id": "U6H5MdGZB_1e"
      },
      "source": [
        "### 5.2. Feature Selection"
      ]
    },
    {
      "cell_type": "markdown",
      "metadata": {},
      "source": [
        "- Karena kita hanya memprediksi harga penutupan tiap data `time series`-nya, maka kita hanya akan memilih kolom close"
      ]
    },
    {
      "cell_type": "code",
      "execution_count": 24,
      "metadata": {
        "id": "6tCxzRa2B_1e"
      },
      "outputs": [],
      "source": [
        "X_train_selected = X_train.loc[:, ['close', 'MA5']]\n",
        "X_val_selected = X_val.loc[:, ['close', 'MA5']]\n",
        "X_test_selected = X_test.loc[:, ['close', 'MA5']]"
      ]
    },
    {
      "cell_type": "markdown",
      "metadata": {
        "id": "1UqmbaHOB_1e"
      },
      "source": [
        "### 5.3. Checking Outliers"
      ]
    },
    {
      "cell_type": "markdown",
      "metadata": {},
      "source": [
        "- Meskipun kita tidak akan menghapus outlier yang ditemukan, karena kita membutuhkan informasi rentang yang dihasilkan dari tiap-tiap pergerakan harga. It's a good habit untuk sekedar check batas maksimum data sebelum dianggap outlier dan berapa persentasenya"
      ]
    },
    {
      "cell_type": "code",
      "execution_count": 25,
      "metadata": {
        "id": "BAgvEisfB_1e"
      },
      "outputs": [],
      "source": [
        "# preprocess_handling = pd.DataFrame({'columns' : [], 'skew' :[]})\n",
        "# preprocess_handling.loc[0] = ['close', X_train_selected.skew(axis=0)]\n",
        "# preprocess_handling.reset_index(drop=True, inplace=True)\n",
        "\n",
        "# preprocess_handling['status'] = np.where(preprocess_handling['skew'].abs()>0.5, 'Skewed', 'Normal')\n",
        "\n",
        "preprocess_handling = pd.DataFrame({'columns':X_train_selected.describe().columns, 'skew' : X_train_selected.skew(axis=0)})\n",
        "preprocess_handling.reset_index(drop=True, inplace=True)\n",
        "\n",
        "preprocess_handling['status'] = np.where(preprocess_handling['skew'].abs()>0.5, 'Skewed', 'Normal')\n"
      ]
    },
    {
      "cell_type": "code",
      "execution_count": 26,
      "metadata": {
        "id": "9G5_OjDrB_1f"
      },
      "outputs": [],
      "source": [
        "# Function to find upper and lower boundaries for normally distributed variables\n",
        "# Calculate the boundaries outside which sit the outliers for a Gaussian distribution\n",
        "\n",
        "def find_normal_boundaries(df, variable):\n",
        "    upper_boundary = df[variable].mean() + 3 * df[variable].std()\n",
        "    lower_boundary = df[variable].mean() - 3 * df[variable].std()\n",
        "\n",
        "    return upper_boundary, lower_boundary\n",
        "    \n",
        "# Since it's skewed, we are using IQR to handle outliers\n",
        "\n",
        "def find_skewed_boundaries(df, variable, distance):\n",
        "    IQR = df[variable].quantile(0.75) - df[variable].quantile(0.25)\n",
        "\n",
        "    lower = df[variable].quantile(0.25) - distance * IQR\n",
        "    upper = df[variable].quantile(0.75) + distance * IQR\n",
        "\n",
        "    return upper, lower"
      ]
    },
    {
      "cell_type": "code",
      "execution_count": 27,
      "metadata": {
        "colab": {
          "base_uri": "https://localhost:8080/"
        },
        "id": "pEs3G35sB_1f",
        "outputId": "0b163754-89c6-4dc9-9bab-89ade578c1d8"
      },
      "outputs": [
        {
          "name": "stdout",
          "output_type": "stream",
          "text": [
            "Batas lower dan upper untuk close:(20122.902523045996, 75349.71909509138)\n",
            "==============================\n",
            "Batas lower dan upper untuk MA5:(20133.592815071446, 75334.52996110103)\n",
            "==============================\n"
          ]
        }
      ],
      "source": [
        "j = 0\n",
        "outliers={}\n",
        "for i in X_train_selected.describe().columns:\n",
        "    if preprocess_handling['status'].loc[(preprocess_handling['columns']==i)].values[0]== 'Normal':\n",
        "        upper_boundary, lower_boundary = find_normal_boundaries(X_train_selected, i)\n",
        "        print(f\"Batas lower dan upper untuk {i}:{lower_boundary, upper_boundary}\")\n",
        "        outliers[f\"outliers{j}\"] = np.where(X_train_selected[i] > upper_boundary, True, np.where(X_train_selected[i] < lower_boundary, True, False))\n",
        "    else:\n",
        "        upper_boundary, lower_boundary = find_skewed_boundaries(X_train_selected, i, 1.5)\n",
        "        print(f\"Batas lower dan upper untuk {i}:{lower_boundary, upper_boundary}\")\n",
        "        outliers[f\"outliers{j}\"] = np.where(X_train_selected[i] > upper_boundary, True, np.where(X_train_selected[i] < lower_boundary, True, False))\n",
        "    print(\"=\"*30)\n",
        "    j+=1"
      ]
    },
    {
      "cell_type": "code",
      "execution_count": 28,
      "metadata": {
        "colab": {
          "base_uri": "https://localhost:8080/",
          "height": 80
        },
        "id": "OPeedlWqB_1f",
        "outputId": "0e061bcd-86cc-43fb-dbd0-3473e66159dd"
      },
      "outputs": [
        {
          "data": {
            "text/html": [
              "<div>\n",
              "<style scoped>\n",
              "    .dataframe tbody tr th:only-of-type {\n",
              "        vertical-align: middle;\n",
              "    }\n",
              "\n",
              "    .dataframe tbody tr th {\n",
              "        vertical-align: top;\n",
              "    }\n",
              "\n",
              "    .dataframe thead th {\n",
              "        text-align: right;\n",
              "    }\n",
              "</style>\n",
              "<table border=\"1\" class=\"dataframe\">\n",
              "  <thead>\n",
              "    <tr style=\"text-align: right;\">\n",
              "      <th></th>\n",
              "      <th>columns</th>\n",
              "      <th>skew</th>\n",
              "      <th>status</th>\n",
              "      <th>trimmed_row</th>\n",
              "      <th>percentage</th>\n",
              "      <th>action</th>\n",
              "    </tr>\n",
              "  </thead>\n",
              "  <tbody>\n",
              "    <tr>\n",
              "      <th>0</th>\n",
              "      <td>close</td>\n",
              "      <td>0.019101</td>\n",
              "      <td>Normal</td>\n",
              "      <td>0.0</td>\n",
              "      <td>0.0</td>\n",
              "      <td>None</td>\n",
              "    </tr>\n",
              "    <tr>\n",
              "      <th>1</th>\n",
              "      <td>MA5</td>\n",
              "      <td>0.018687</td>\n",
              "      <td>Normal</td>\n",
              "      <td>0.0</td>\n",
              "      <td>0.0</td>\n",
              "      <td>None</td>\n",
              "    </tr>\n",
              "  </tbody>\n",
              "</table>\n",
              "</div>"
            ],
            "text/plain": [
              "  columns      skew  status  trimmed_row  percentage action\n",
              "0   close  0.019101  Normal          0.0         0.0   None\n",
              "1     MA5  0.018687  Normal          0.0         0.0   None"
            ]
          },
          "execution_count": 28,
          "metadata": {},
          "output_type": "execute_result"
        }
      ],
      "source": [
        "for i, (k, v) in enumerate(outliers.items()):\n",
        "    X_train_trimmed_sim = X_train.loc[~outliers[k]]\n",
        "    preprocess_handling.loc[i,'trimmed_row'] = X_train.shape[0] - X_train_trimmed_sim.shape[0]\n",
        "    preprocess_handling.loc[i,'percentage'] = np.round(100-(X_train_trimmed_sim.shape[0]/X_train.shape[0]*100), 2)\n",
        "    preprocess_handling.loc[i,'action'] = np.where(preprocess_handling.loc[i,'percentage']>15, 'Keep', \n",
        "                                        np.where(preprocess_handling.loc[i,'percentage']>5, 'Capping', np.where(preprocess_handling.loc[i,'percentage']>0, 'Trim', 'None')))\n",
        "\n",
        "preprocess_handling\n"
      ]
    },
    {
      "cell_type": "markdown",
      "metadata": {},
      "source": [
        "- Terlihat persentase outlier pada kolom close, kurang lebih berkisat 14.66%"
      ]
    },
    {
      "cell_type": "markdown",
      "metadata": {
        "id": "fdfk5RsGB_1f"
      },
      "source": [
        "### 5.4. Feature Scaling"
      ]
    },
    {
      "cell_type": "markdown",
      "metadata": {},
      "source": [
        "- Seperti yang telah dijelaskan sebelumnya pada tahap EDA, kita akan menggunakan teknik MinMaxScaler"
      ]
    },
    {
      "cell_type": "code",
      "execution_count": 29,
      "metadata": {},
      "outputs": [
        {
          "data": {
            "text/html": [
              "<div>\n",
              "<style scoped>\n",
              "    .dataframe tbody tr th:only-of-type {\n",
              "        vertical-align: middle;\n",
              "    }\n",
              "\n",
              "    .dataframe tbody tr th {\n",
              "        vertical-align: top;\n",
              "    }\n",
              "\n",
              "    .dataframe thead th {\n",
              "        text-align: right;\n",
              "    }\n",
              "</style>\n",
              "<table border=\"1\" class=\"dataframe\">\n",
              "  <thead>\n",
              "    <tr style=\"text-align: right;\">\n",
              "      <th></th>\n",
              "      <th>close</th>\n",
              "      <th>MA5</th>\n",
              "    </tr>\n",
              "  </thead>\n",
              "  <tbody>\n",
              "    <tr>\n",
              "      <th>0</th>\n",
              "      <td>33558.25</td>\n",
              "      <td>33351.702</td>\n",
              "    </tr>\n",
              "    <tr>\n",
              "      <th>1</th>\n",
              "      <td>33755.40</td>\n",
              "      <td>33593.528</td>\n",
              "    </tr>\n",
              "    <tr>\n",
              "      <th>2</th>\n",
              "      <td>33518.89</td>\n",
              "      <td>33611.248</td>\n",
              "    </tr>\n",
              "    <tr>\n",
              "      <th>3</th>\n",
              "      <td>33803.97</td>\n",
              "      <td>33642.096</td>\n",
              "    </tr>\n",
              "    <tr>\n",
              "      <th>4</th>\n",
              "      <td>34477.31</td>\n",
              "      <td>33822.764</td>\n",
              "    </tr>\n",
              "    <tr>\n",
              "      <th>...</th>\n",
              "      <td>...</td>\n",
              "      <td>...</td>\n",
              "    </tr>\n",
              "    <tr>\n",
              "      <th>8993</th>\n",
              "      <td>43443.77</td>\n",
              "      <td>43308.942</td>\n",
              "    </tr>\n",
              "    <tr>\n",
              "      <th>8994</th>\n",
              "      <td>43357.53</td>\n",
              "      <td>43330.702</td>\n",
              "    </tr>\n",
              "    <tr>\n",
              "      <th>8995</th>\n",
              "      <td>43570.77</td>\n",
              "      <td>43373.006</td>\n",
              "    </tr>\n",
              "    <tr>\n",
              "      <th>8996</th>\n",
              "      <td>43765.14</td>\n",
              "      <td>43525.970</td>\n",
              "    </tr>\n",
              "    <tr>\n",
              "      <th>8997</th>\n",
              "      <td>43514.72</td>\n",
              "      <td>43530.386</td>\n",
              "    </tr>\n",
              "  </tbody>\n",
              "</table>\n",
              "<p>8998 rows × 2 columns</p>\n",
              "</div>"
            ],
            "text/plain": [
              "         close        MA5\n",
              "0     33558.25  33351.702\n",
              "1     33755.40  33593.528\n",
              "2     33518.89  33611.248\n",
              "3     33803.97  33642.096\n",
              "4     34477.31  33822.764\n",
              "...        ...        ...\n",
              "8993  43443.77  43308.942\n",
              "8994  43357.53  43330.702\n",
              "8995  43570.77  43373.006\n",
              "8996  43765.14  43525.970\n",
              "8997  43514.72  43530.386\n",
              "\n",
              "[8998 rows x 2 columns]"
            ]
          },
          "execution_count": 29,
          "metadata": {},
          "output_type": "execute_result"
        }
      ],
      "source": [
        "X_train_selected"
      ]
    },
    {
      "cell_type": "code",
      "execution_count": 30,
      "metadata": {
        "id": "xryhDjuzB_1g"
      },
      "outputs": [],
      "source": [
        "scaler_feat = MinMaxScaler()\n",
        "scaler_feat.fit(X_train_selected['MA5'].values.reshape(-1, 1))\n",
        "\n",
        "X_train_scaled = scaler_feat.transform(X_train_selected['MA5'].values.reshape(-1, 1))\n",
        "X_val_scaled = scaler_feat.transform(X_val_selected['MA5'].values.reshape(-1, 1))\n",
        "X_test_scaled = scaler_feat.transform(X_test_selected['MA5'].values.reshape(-1, 1))\n",
        "\n",
        "# scaler y target\n",
        "scaler = MinMaxScaler()\n",
        "scaler.fit(X_train_selected['close'].values.reshape(-1, 1))\n",
        "\n",
        "y_train_base = scaler.transform(X_train_selected['close'].values.reshape(-1, 1))\n",
        "y_val_base = scaler.transform(X_val_selected['close'].values.reshape(-1, 1))\n",
        "y_test_base = scaler.transform(X_test_selected['close'].values.reshape(-1, 1))\n"
      ]
    },
    {
      "cell_type": "markdown",
      "metadata": {
        "id": "jJjd3HwTB_1g"
      },
      "source": [
        "### 5.5. Feature Extraction"
      ]
    },
    {
      "cell_type": "markdown",
      "metadata": {},
      "source": [
        "- Karena data yang akan kita olah bersifat sequence, dimana antara satu informasi memiliki keterkaitan dengan informasi selanjutnya. Maka kita akan mengubah bentuk data, yang pada awalnya tersimpan tiap baris secara independent. Akan dihubungkan satu sama lain hingga mencapai 5 kolom dan kolom selanjutnya(ke 6 pada kasus ini) dijadikan sebagai label atau target yang akan diprediksi"
      ]
    },
    {
      "cell_type": "code",
      "execution_count": 31,
      "metadata": {
        "id": "biGdRuCoB_1g"
      },
      "outputs": [],
      "source": [
        "sequence_length = 5\n",
        "\n",
        "def partition_dataset(sequence_length, data, pred):\n",
        "    x, y = [], []\n",
        "    data_len = data.shape[0]\n",
        "\n",
        "    for i in range(sequence_length, data_len):\n",
        "        x.append(data[i-sequence_length:i, 0]) \n",
        "        y.append(pred[i, 0]) \n",
        "    \n",
        "    x = np.array(x)\n",
        "    y = np.array(y)\n",
        "    return x, y\n",
        "    "
      ]
    },
    {
      "cell_type": "code",
      "execution_count": 32,
      "metadata": {
        "id": "9cPiAy2DB_1g"
      },
      "outputs": [],
      "source": [
        "X_train_final, y_train = partition_dataset(sequence_length, X_train_scaled, y_train_base)\n",
        "X_val_final, y_val = partition_dataset(sequence_length, X_val_scaled, y_val_base)\n",
        "X_test_final, y_test = partition_dataset(sequence_length, X_test_scaled, y_test_base)\n"
      ]
    },
    {
      "cell_type": "code",
      "execution_count": 33,
      "metadata": {},
      "outputs": [],
      "source": [
        "X_train_final = X_train_final.reshape(X_train_final.shape[0], X_train_final.shape[1], 1)\n",
        "X_val_final = X_val_final.reshape(X_val_final.shape[0], X_val_final.shape[1], 1)\n",
        "X_test_final = X_test_final.reshape(X_test_final.shape[0], X_test_final.shape[1], 1)"
      ]
    },
    {
      "cell_type": "code",
      "execution_count": 34,
      "metadata": {
        "colab": {
          "base_uri": "https://localhost:8080/"
        },
        "id": "aEtXHLD3B_1g",
        "outputId": "77c88f0b-fc48-4bdd-eac5-6dc64bee880b"
      },
      "outputs": [
        {
          "name": "stdout",
          "output_type": "stream",
          "text": [
            "Nilai X train pada index ke 5 sebelum ekstraksi :[0.1128703]\n",
            "Nilai X Train index ke 1 setelah ekstraksi:0.11287030327204928\n",
            "Nilai y Train pada index ke 0 :0.12985198516551721\n"
          ]
        }
      ],
      "source": [
        "print(f\"Nilai X train pada index ke 5 sebelum ekstraksi :{X_train_scaled[5]}\")\n",
        "print(f\"Nilai X Train index ke 1 setelah ekstraksi:{X_train_final[1][sequence_length-1][0]}\")\n",
        "print(f\"Nilai y Train pada index ke 0 :{y_train[0]}\")"
      ]
    },
    {
      "cell_type": "markdown",
      "metadata": {
        "id": "_64fegCdB_1g"
      },
      "source": [
        "### 5.6 Preprocessing Input Layer\n",
        "\n",
        "- Untuk menggunakan pipeline pada dataset, akan dibentuk menjadi data tensor, oleh karena itu kita menggunakan preprocessing input layer pada tensorflow, dimana data-data kita akan dipecah dan dikelompokkan satu sama lain sebelum masuk tahap training model Neural Network"
      ]
    },
    {
      "cell_type": "code",
      "execution_count": 35,
      "metadata": {
        "id": "Bb3JapAoB_1g"
      },
      "outputs": [
        {
          "name": "stdout",
          "output_type": "stream",
          "text": [
            "Metal device set to: Apple M1\n",
            "\n",
            "systemMemory: 8.00 GB\n",
            "maxCacheSize: 2.67 GB\n",
            "\n"
          ]
        },
        {
          "name": "stderr",
          "output_type": "stream",
          "text": [
            "2022-04-04 12:01:41.291965: I tensorflow/core/common_runtime/pluggable_device/pluggable_device_factory.cc:305] Could not identify NUMA node of platform GPU ID 0, defaulting to 0. Your kernel may not have been built with NUMA support.\n",
            "2022-04-04 12:01:41.292194: I tensorflow/core/common_runtime/pluggable_device/pluggable_device_factory.cc:271] Created TensorFlow device (/job:localhost/replica:0/task:0/device:GPU:0 with 0 MB memory) -> physical PluggableDevice (device: 0, name: METAL, pci bus id: <undefined>)\n"
          ]
        }
      ],
      "source": [
        "import tensorflow as tf\n",
        "\n",
        "#Train Dataset\n",
        "train_dataset = tf.data.Dataset.from_tensor_slices((X_train_final, y_train)).batch(128)\n",
        "\n",
        "#Validation Dataset\n",
        "val_dataset = tf.data.Dataset.from_tensor_slices((X_val_final, y_val)).batch(128)\n",
        "\n",
        "#Test Dataset\n",
        "# test_dataset = tf.data.Dataset.from_tensor_slices((X_test_final, y_test)).batch(64)"
      ]
    },
    {
      "cell_type": "markdown",
      "metadata": {
        "id": "CPirxtJTB_1g"
      },
      "source": [
        "## **6. Model Definition**"
      ]
    },
    {
      "cell_type": "code",
      "execution_count": 36,
      "metadata": {
        "colab": {
          "base_uri": "https://localhost:8080/"
        },
        "id": "_pQznzpAB_1h",
        "outputId": "84a3dce0-02a5-4a0f-e55e-66c91c436dd1"
      },
      "outputs": [
        {
          "name": "stdout",
          "output_type": "stream",
          "text": [
            "timesteps: 5, features: 1, neurons: 5\n",
            "Model: \"sequential\"\n",
            "_________________________________________________________________\n",
            " Layer (type)                Output Shape              Param #   \n",
            "=================================================================\n",
            " simple_rnn (SimpleRNN)      (None, 5, 5)              35        \n",
            "                                                                 \n",
            " simple_rnn_1 (SimpleRNN)    (None, 5, 2)              16        \n",
            "                                                                 \n",
            " simple_rnn_2 (SimpleRNN)    (None, 1)                 4         \n",
            "                                                                 \n",
            "=================================================================\n",
            "Total params: 55\n",
            "Trainable params: 55\n",
            "Non-trainable params: 0\n",
            "_________________________________________________________________\n"
          ]
        }
      ],
      "source": [
        "base_model = Sequential()\n",
        "\n",
        "n_neurons = X_train_final.shape[1] * X_train_final.shape[2]\n",
        "print('timesteps: ' + str(X_train_final.shape[1]) + ',' + ' features: ' + str(X_train_final.shape[2]) + ', neurons: ' + str(n_neurons))\n",
        "\n",
        "# Model\n",
        "\n",
        "base_model.add(layers.SimpleRNN(5, return_sequences=True, input_shape=(X_train_final.shape[1], X_train_final.shape[2])))\n",
        "base_model.add(layers.SimpleRNN(2, return_sequences=True))\n",
        "base_model.add(layers.SimpleRNN(1))\n",
        " \n",
        "# Hyperparameters\n",
        "optimizer='adam'; loss='mean_squared_error'; epochs = 30; batch_size = 128; patience = 6;\n",
        "\n",
        "base_model.compile(optimizer=optimizer, loss=loss, metrics=['mean_squared_error'])\n",
        "\n",
        "# early_stop = EarlyStopping(monitor='loss', \n",
        "#                            patience=patience, \n",
        "#                            verbose=0)\n",
        "\n",
        "base_model.summary()"
      ]
    },
    {
      "cell_type": "markdown",
      "metadata": {
        "id": "eBGV0QtIB_1h"
      },
      "source": [
        "## **7. Model Training**"
      ]
    },
    {
      "cell_type": "code",
      "execution_count": 37,
      "metadata": {
        "colab": {
          "base_uri": "https://localhost:8080/"
        },
        "id": "B1DVYPzFB_1h",
        "outputId": "f233a14e-6aff-42fc-8a4b-216ee3a23f1b"
      },
      "outputs": [
        {
          "name": "stdout",
          "output_type": "stream",
          "text": [
            "Parameters: ['epochs: 30', 'batch_size: 128', 'patience: 6', 'optimizer: adam', 'loss: mean_squared_error']\n"
          ]
        }
      ],
      "source": [
        "parameter_list = ['epochs: ' + str(epochs), 'batch_size: ' + str(batch_size), 'patience: ' + str(patience), 'optimizer: ' + str(optimizer), 'loss: ' + str(loss)]\n",
        "print('Parameters: ' + str(parameter_list))"
      ]
    },
    {
      "cell_type": "code",
      "execution_count": 38,
      "metadata": {
        "id": "iS0wyh17B_1h"
      },
      "outputs": [
        {
          "name": "stderr",
          "output_type": "stream",
          "text": [
            "2022-04-04 12:01:42.507464: W tensorflow/core/platform/profile_utils/cpu_utils.cc:128] Failed to get CPU frequency: 0 Hz\n",
            "2022-04-04 12:01:42.513481: I tensorflow/core/grappler/optimizers/custom_graph_optimizer_registry.cc:113] Plugin optimizer for device_type GPU is enabled.\n",
            "2022-04-04 12:01:47.040983: I tensorflow/core/grappler/optimizers/custom_graph_optimizer_registry.cc:113] Plugin optimizer for device_type GPU is enabled.\n"
          ]
        }
      ],
      "source": [
        "base_model_hist = base_model.fit(\n",
        "                    train_dataset,\n",
        "                    epochs=epochs,\n",
        "                    batch_size=batch_size,\n",
        "                    validation_data=val_dataset,\n",
        "                    verbose=0\n",
        "                )"
      ]
    },
    {
      "cell_type": "markdown",
      "metadata": {
        "id": "T-xQyOVFB_1h"
      },
      "source": [
        "## **8. Model Evaluation**"
      ]
    },
    {
      "cell_type": "markdown",
      "metadata": {
        "id": "irUE5LqyB_1h"
      },
      "source": [
        "### 8.1. Create Baseline Evaluation"
      ]
    },
    {
      "cell_type": "markdown",
      "metadata": {},
      "source": [
        "- Sebagai benchmark awal, kita akan menggunakan metode bernama `naive forecasting` untuk melihat performa prediksi jika dilihat hanya semata-mata dari selisih data harga yang akan diprediksi dengan data terakhir pada tiap baris. Ini berguna agar nantinya kita dapat mengtahui apakah model kita ini memiliki performa lebih baik dibandingkan dengan metode yang ala kadarnya ini.\n",
        "\n",
        "- Evaluasi yang akan kita gunakan ialah `MSE dan RMSE` pada validation set. Karena informasi rentang yang kita gunakan memiliki pengaruh pada evaluasi ini. Dan diharapkan jika mendapatkan loss yang kecil dari evaluasi ini, akan memiliki pengaruh juga dengan pengujian test set\n",
        " \n",
        "- Sedangkan pada tahap pengujian Test set kita akan menggunakan `MAE`, kita menggunakan `MAE` karena selisih yang dihasilkan entah selisih positif ataupun negatif tidak akan memberikan dampak yang berlipat ganda, dalam artian jika selisih negatif -1000 maka kerugian yang kita terima juga 1000. Tidak menjadi 1100 ataupun lebih dari itu"
      ]
    },
    {
      "cell_type": "code",
      "execution_count": 39,
      "metadata": {
        "id": "PDo8l9NxB_1h"
      },
      "outputs": [],
      "source": [
        "evaluation_metrics = pd.DataFrame({'Model':[], 'Details' : [], 'MSE': [], 'RMSE': [], 'MAE(Test)': []})\n",
        "# evaluation_metrics.style.format({'RMSE(Test)': '{:.2f} $'})"
      ]
    },
    {
      "cell_type": "code",
      "execution_count": 40,
      "metadata": {
        "id": "hnHLS0-zB_1h"
      },
      "outputs": [],
      "source": [
        "# rmse = tf.keras.metrics.RootMeanSquaredError()\n",
        "# rmse.update_state(y_test, y_pred_test)\n",
        "# test_result = rmse.result().numpy()\n",
        "# test_result = scaler.inverse_transform(test_result.reshape(-1, 1))\n",
        "# test_result"
      ]
    },
    {
      "cell_type": "code",
      "execution_count": 43,
      "metadata": {},
      "outputs": [
        {
          "data": {
            "text/plain": [
              "(993, 5, 1)"
            ]
          },
          "execution_count": 43,
          "metadata": {},
          "output_type": "execute_result"
        }
      ],
      "source": [
        "y_pred_base.shape"
      ]
    },
    {
      "cell_type": "code",
      "execution_count": 45,
      "metadata": {},
      "outputs": [
        {
          "data": {
            "text/plain": [
              "(994,)"
            ]
          },
          "execution_count": 45,
          "metadata": {},
          "output_type": "execute_result"
        }
      ],
      "source": [
        "y_val.shape"
      ]
    },
    {
      "cell_type": "code",
      "execution_count": 41,
      "metadata": {
        "id": "bJ8MaAxbB_1h"
      },
      "outputs": [],
      "source": [
        "y_pred_base = X_val_final[: -1]\n",
        "y_pred_test = X_test_final[: -1]\n",
        "# y_pred_test = scaler.inverse_transform(y_pred_test.reshape)\n",
        "\n",
        "# calculate mse and rmse\n",
        "mse_last_value = np.mean(tf.keras.losses.mean_squared_error(y_val, y_pred_base))\n",
        "rmse_last_value = np.sqrt(mse_last_value)\n",
        "mae_last_value_test = np.mean(tf.keras.metrics.mean_absolute_error(y_test, y_pred_test))\n",
        "evaluation_metrics.loc[0] = ['Naive Forecasting', 'Difference of Last Value in X val with y val', mse_last_value, rmse_last_value, mae_last_value_test]"
      ]
    },
    {
      "cell_type": "code",
      "execution_count": 91,
      "metadata": {
        "colab": {
          "base_uri": "https://localhost:8080/",
          "height": 80
        },
        "id": "dyvvRkuKB_1h",
        "outputId": "40b52d80-e469-4f52-8051-4b1b41b2278b"
      },
      "outputs": [
        {
          "data": {
            "text/html": [
              "<div>\n",
              "<style scoped>\n",
              "    .dataframe tbody tr th:only-of-type {\n",
              "        vertical-align: middle;\n",
              "    }\n",
              "\n",
              "    .dataframe tbody tr th {\n",
              "        vertical-align: top;\n",
              "    }\n",
              "\n",
              "    .dataframe thead th {\n",
              "        text-align: right;\n",
              "    }\n",
              "</style>\n",
              "<table border=\"1\" class=\"dataframe\">\n",
              "  <thead>\n",
              "    <tr style=\"text-align: right;\">\n",
              "      <th></th>\n",
              "      <th>Model</th>\n",
              "      <th>Details</th>\n",
              "      <th>MSE</th>\n",
              "      <th>RMSE</th>\n",
              "      <th>MAE(Test)</th>\n",
              "    </tr>\n",
              "  </thead>\n",
              "  <tbody>\n",
              "    <tr>\n",
              "      <th>0</th>\n",
              "      <td>Naive Forecasting</td>\n",
              "      <td>Difference of Last Value in X val with y val</td>\n",
              "      <td>0.005681</td>\n",
              "      <td>0.075372</td>\n",
              "      <td>0.038119</td>\n",
              "    </tr>\n",
              "  </tbody>\n",
              "</table>\n",
              "</div>"
            ],
            "text/plain": [
              "               Model                                       Details       MSE  \\\n",
              "0  Naive Forecasting  Difference of Last Value in X val with y val  0.005681   \n",
              "\n",
              "       RMSE  MAE(Test)  \n",
              "0  0.075372   0.038119  "
            ]
          },
          "execution_count": 91,
          "metadata": {},
          "output_type": "execute_result"
        }
      ],
      "source": [
        "evaluation_metrics"
      ]
    },
    {
      "cell_type": "markdown",
      "metadata": {
        "id": "C9SHQAU5B_1h"
      },
      "source": [
        "### 8.2. Base Recurrent Neural Network Evaluation"
      ]
    },
    {
      "cell_type": "code",
      "execution_count": 92,
      "metadata": {
        "colab": {
          "base_uri": "https://localhost:8080/",
          "height": 283
        },
        "id": "wyQPyQ4pB_1i",
        "outputId": "7fcef95f-766d-4a67-feea-a1dcabdbcebd"
      },
      "outputs": [
        {
          "data": {
            "image/png": "[encoded data removed]",
            "text/plain": [
              "<Figure size 432x288 with 1 Axes>"
            ]
          },
          "metadata": {},
          "output_type": "display_data"
        }
      ],
      "source": [
        "# Visualization of Training Loss and Validation Loss\n",
        "\n",
        "def plot_learning_curves(loss, val_loss):\n",
        "    plt.plot(np.arange(len(loss)) + 0.5, loss, \"b.-\", label=\"Training loss\")\n",
        "    plt.plot(np.arange(len(val_loss)) + 1, val_loss, \"r.-\", label=\"Validation loss\")\n",
        "    plt.gca().xaxis.set_major_locator(mpl.ticker.MaxNLocator(integer=True))\n",
        "    plt.axis([1, epochs, 0, 0.1])\n",
        "    plt.legend(fontsize=14)\n",
        "    plt.xlabel(\"Epochs\")\n",
        "    plt.ylabel(\"Loss\")\n",
        "    plt.grid(True)\n",
        "\n",
        "plot_learning_curves(base_model_hist.history[\"loss\"], base_model_hist.history[\"val_loss\"])\n",
        "plt.show()"
      ]
    },
    {
      "cell_type": "code",
      "execution_count": 93,
      "metadata": {
        "colab": {
          "base_uri": "https://localhost:8080/"
        },
        "id": "MNVbr4QLB_1i",
        "outputId": "f1f00806-699f-4433-ac4f-0519e67792c0"
      },
      "outputs": [
        {
          "name": "stdout",
          "output_type": "stream",
          "text": [
            " 6/32 [====>.........................] - ETA: 0s - loss: 5.4510e-04 - mean_squared_error: 5.4510e-04"
          ]
        },
        {
          "name": "stderr",
          "output_type": "stream",
          "text": [
            "2022-04-04 01:07:19.972816: I tensorflow/core/grappler/optimizers/custom_graph_optimizer_registry.cc:113] Plugin optimizer for device_type GPU is enabled.\n"
          ]
        },
        {
          "name": "stdout",
          "output_type": "stream",
          "text": [
            "32/32 [==============================] - 1s 22ms/step - loss: 6.7170e-04 - mean_squared_error: 6.7170e-04\n"
          ]
        }
      ],
      "source": [
        "mse_base_deep_rnn = base_model.evaluate(X_val_final, y_val)\n",
        "rmse_base_deep_rnn = np.sqrt(mse_base_deep_rnn)"
      ]
    },
    {
      "cell_type": "code",
      "execution_count": 94,
      "metadata": {
        "colab": {
          "base_uri": "https://localhost:8080/",
          "height": 112
        },
        "id": "0aDjxhYxB_1i",
        "outputId": "417a14b6-2ed0-4d9c-f789-658019af811a"
      },
      "outputs": [
        {
          "name": "stderr",
          "output_type": "stream",
          "text": [
            "2022-04-04 01:07:22.011032: I tensorflow/core/grappler/optimizers/custom_graph_optimizer_registry.cc:113] Plugin optimizer for device_type GPU is enabled.\n"
          ]
        },
        {
          "data": {
            "text/html": [
              "<div>\n",
              "<style scoped>\n",
              "    .dataframe tbody tr th:only-of-type {\n",
              "        vertical-align: middle;\n",
              "    }\n",
              "\n",
              "    .dataframe tbody tr th {\n",
              "        vertical-align: top;\n",
              "    }\n",
              "\n",
              "    .dataframe thead th {\n",
              "        text-align: right;\n",
              "    }\n",
              "</style>\n",
              "<table border=\"1\" class=\"dataframe\">\n",
              "  <thead>\n",
              "    <tr style=\"text-align: right;\">\n",
              "      <th></th>\n",
              "      <th>Model</th>\n",
              "      <th>Details</th>\n",
              "      <th>MSE</th>\n",
              "      <th>RMSE</th>\n",
              "      <th>MAE(Test)</th>\n",
              "    </tr>\n",
              "  </thead>\n",
              "  <tbody>\n",
              "    <tr>\n",
              "      <th>0</th>\n",
              "      <td>Naive Forecasting</td>\n",
              "      <td>Difference of Last Value in X val with y val</td>\n",
              "      <td>0.005681</td>\n",
              "      <td>0.075372</td>\n",
              "      <td>0.038119</td>\n",
              "    </tr>\n",
              "    <tr>\n",
              "      <th>1</th>\n",
              "      <td>Base Deep RNN</td>\n",
              "      <td>Neuron=5, Timestep=5, Epoch=35, Multi Layers</td>\n",
              "      <td>0.000672</td>\n",
              "      <td>0.025917</td>\n",
              "      <td>0.031051</td>\n",
              "    </tr>\n",
              "  </tbody>\n",
              "</table>\n",
              "</div>"
            ],
            "text/plain": [
              "               Model                                       Details       MSE  \\\n",
              "0  Naive Forecasting  Difference of Last Value in X val with y val  0.005681   \n",
              "1      Base Deep RNN  Neuron=5, Timestep=5, Epoch=35, Multi Layers  0.000672   \n",
              "\n",
              "       RMSE  MAE(Test)  \n",
              "0  0.075372   0.038119  \n",
              "1  0.025917   0.031051  "
            ]
          },
          "execution_count": 94,
          "metadata": {},
          "output_type": "execute_result"
        }
      ],
      "source": [
        "y_pred_test_base = base_model.predict(X_test_final)\n",
        "mae_base_deep_rnn_test = mean_absolute_error(y_test, y_pred_test_base)\n",
        "evaluation_metrics.loc[1] = ['Base Deep RNN', 'Neuron=5, Timestep=5, Epoch=35, Multi Layers', mse_base_deep_rnn[0], rmse_base_deep_rnn[0], mae_base_deep_rnn_test]\n",
        "evaluation_metrics"
      ]
    },
    {
      "cell_type": "code",
      "execution_count": 95,
      "metadata": {
        "colab": {
          "base_uri": "https://localhost:8080/",
          "height": 270
        },
        "id": "Y16I0WmIB_1i",
        "outputId": "84c6efd6-42ff-4cf6-8bf5-486bef52c6ae"
      },
      "outputs": [
        {
          "data": {
            "image/png": "[encoded data removed]",
            "text/plain": [
              "<Figure size 1296x288 with 1 Axes>"
            ]
          },
          "metadata": {},
          "output_type": "display_data"
        }
      ],
      "source": [
        "y_test_real = scaler.inverse_transform(y_test.reshape(-1, 1))\n",
        "y_pred_test_base = scaler.inverse_transform(y_pred_test_base)\n",
        "fig, ax = plt.subplots(figsize=(18, 4), sharex=True)\n",
        "\n",
        "plt.title(\"Predictions vs. Real Price (Base Model RNN)\", fontsize=20)\n",
        "plt.ylabel('BTC', fontsize=18)\n",
        "plt.plot(y_pred_test_base, color=\"#E91D9E\", linewidth=1.0)\n",
        "plt.plot(y_test_real, color=\"black\", linewidth=1.0)\n",
        "plt.legend([\"Test Predictions\", \"Real Price\"], loc=\"upper right\")\n",
        "\n",
        "# valid.loc[valid[\"Difference\"] >= 0, 'diff_color'] = \"#2BC97A\"\n",
        "# valid.loc[valid[\"Difference\"] < 0, 'diff_color'] = \"#C92B2B\"\n",
        "# plt.bar(valid.index, valid[\"Difference\"], width=0.8, color=valid['diff_color'])\n",
        "\n",
        "plt.show()"
      ]
    },
    {
      "cell_type": "markdown",
      "metadata": {
        "id": "jPe-i_gvB_1i"
      },
      "source": [
        "## **9. Model Improvement**"
      ]
    },
    {
      "cell_type": "markdown",
      "metadata": {
        "id": "iuRJHL4sB_1i"
      },
      "source": [
        "### 9.1. Improved Recurrent Neural Network"
      ]
    },
    {
      "cell_type": "code",
      "execution_count": 96,
      "metadata": {
        "colab": {
          "base_uri": "https://localhost:8080/"
        },
        "id": "-QPQ_dwRB_1i",
        "outputId": "cd205aba-e51d-4afd-e518-1157d47b79f0"
      },
      "outputs": [
        {
          "name": "stdout",
          "output_type": "stream",
          "text": [
            "timesteps: 5, features: 1, neurons: 5\n",
            "Model: \"sequential_4\"\n",
            "_________________________________________________________________\n",
            " Layer (type)                Output Shape              Param #   \n",
            "=================================================================\n",
            " simple_rnn_9 (SimpleRNN)    (None, None, 5)           35        \n",
            "                                                                 \n",
            " simple_rnn_10 (SimpleRNN)   (None, None, 5)           55        \n",
            "                                                                 \n",
            " simple_rnn_11 (SimpleRNN)   (None, 2)                 16        \n",
            "                                                                 \n",
            " dense_2 (Dense)             (None, 1)                 3         \n",
            "                                                                 \n",
            "=================================================================\n",
            "Total params: 109\n",
            "Trainable params: 109\n",
            "Non-trainable params: 0\n",
            "_________________________________________________________________\n"
          ]
        }
      ],
      "source": [
        "deep_base = Sequential()\n",
        "\n",
        "n_neurons = X_train_final.shape[1] * X_train_final.shape[2]\n",
        "print('timesteps: ' + str(X_train_final.shape[1]) + ',' + ' features: ' + str(X_train_final.shape[2]) + ', neurons: ' + str(n_neurons))\n",
        "\n",
        "# Model\n",
        "\n",
        "deep_base.add(layers.SimpleRNN(5, return_sequences=True, input_shape=(None, X_train_final.shape[2])))\n",
        "deep_base.add(layers.SimpleRNN(5, return_sequences=True))\n",
        "deep_base.add(layers.SimpleRNN(2))\n",
        "deep_base.add(layers.Dense(1, activation='linear'))\n",
        " \n",
        "# Hyperparameters\n",
        "optimizer='adam'; loss='mean_squared_error'; epochs = 40; batch_size = 128; patience = 6;\n",
        "\n",
        "deep_base.compile(optimizer=optimizer, loss=loss, metrics=['mean_squared_error'])\n",
        "\n",
        "deep_base.summary()"
      ]
    },
    {
      "cell_type": "code",
      "execution_count": 97,
      "metadata": {
        "id": "kfDnGErZB_1i"
      },
      "outputs": [
        {
          "name": "stderr",
          "output_type": "stream",
          "text": [
            "2022-04-04 01:07:23.153096: I tensorflow/core/grappler/optimizers/custom_graph_optimizer_registry.cc:113] Plugin optimizer for device_type GPU is enabled.\n",
            "2022-04-04 01:07:27.230240: I tensorflow/core/grappler/optimizers/custom_graph_optimizer_registry.cc:113] Plugin optimizer for device_type GPU is enabled.\n"
          ]
        }
      ],
      "source": [
        "deep_model_hist = deep_base.fit(\n",
        "                    train_dataset,\n",
        "                    epochs=epochs,\n",
        "                    batch_size=batch_size,\n",
        "                    validation_data=val_dataset,\n",
        "                    verbose=0\n",
        "                )"
      ]
    },
    {
      "cell_type": "code",
      "execution_count": 98,
      "metadata": {
        "colab": {
          "base_uri": "https://localhost:8080/",
          "height": 283
        },
        "id": "X6UDlz7dB_1j",
        "outputId": "62457867-eada-4c7a-d20c-9b4b21865daa"
      },
      "outputs": [
        {
          "data": {
            "image/png": "[encoded data removed]",
            "text/plain": [
              "<Figure size 432x288 with 1 Axes>"
            ]
          },
          "metadata": {},
          "output_type": "display_data"
        }
      ],
      "source": [
        "# Visualization of Training Loss and Validation Loss\n",
        "\n",
        "plot_learning_curves(deep_model_hist.history[\"loss\"], deep_model_hist.history[\"val_loss\"])\n",
        "plt.show()"
      ]
    },
    {
      "cell_type": "code",
      "execution_count": 99,
      "metadata": {
        "colab": {
          "base_uri": "https://localhost:8080/"
        },
        "id": "8oyFyryKB_1j",
        "outputId": "19314349-ee93-44b9-85ea-931bfc760d25"
      },
      "outputs": [
        {
          "name": "stdout",
          "output_type": "stream",
          "text": [
            " 3/32 [=>............................] - ETA: 0s - loss: 0.0019 - mean_squared_error: 0.0019"
          ]
        },
        {
          "name": "stderr",
          "output_type": "stream",
          "text": [
            "2022-04-04 01:09:59.942561: I tensorflow/core/grappler/optimizers/custom_graph_optimizer_registry.cc:113] Plugin optimizer for device_type GPU is enabled.\n"
          ]
        },
        {
          "name": "stdout",
          "output_type": "stream",
          "text": [
            "32/32 [==============================] - 1s 15ms/step - loss: 0.0015 - mean_squared_error: 0.0015\n"
          ]
        }
      ],
      "source": [
        "mse_imp_deep_rnn = deep_base.evaluate(X_val_final, y_val)\n",
        "rmse_imp_deep_rnn = np.sqrt(mse_imp_deep_rnn)"
      ]
    },
    {
      "cell_type": "code",
      "execution_count": 100,
      "metadata": {
        "colab": {
          "base_uri": "https://localhost:8080/",
          "height": 143
        },
        "id": "ODuwfwogB_1j",
        "outputId": "f03af9fb-47cc-4934-ad22-a54e5f53c8d8"
      },
      "outputs": [
        {
          "name": "stderr",
          "output_type": "stream",
          "text": [
            "2022-04-04 01:10:00.643579: I tensorflow/core/grappler/optimizers/custom_graph_optimizer_registry.cc:113] Plugin optimizer for device_type GPU is enabled.\n"
          ]
        },
        {
          "data": {
            "text/html": [
              "<div>\n",
              "<style scoped>\n",
              "    .dataframe tbody tr th:only-of-type {\n",
              "        vertical-align: middle;\n",
              "    }\n",
              "\n",
              "    .dataframe tbody tr th {\n",
              "        vertical-align: top;\n",
              "    }\n",
              "\n",
              "    .dataframe thead th {\n",
              "        text-align: right;\n",
              "    }\n",
              "</style>\n",
              "<table border=\"1\" class=\"dataframe\">\n",
              "  <thead>\n",
              "    <tr style=\"text-align: right;\">\n",
              "      <th></th>\n",
              "      <th>Model</th>\n",
              "      <th>Details</th>\n",
              "      <th>MSE</th>\n",
              "      <th>RMSE</th>\n",
              "      <th>MAE(Test)</th>\n",
              "    </tr>\n",
              "  </thead>\n",
              "  <tbody>\n",
              "    <tr>\n",
              "      <th>0</th>\n",
              "      <td>Naive Forecasting</td>\n",
              "      <td>Difference of Last Value in X val with y val</td>\n",
              "      <td>0.005681</td>\n",
              "      <td>0.075372</td>\n",
              "      <td>0.038119</td>\n",
              "    </tr>\n",
              "    <tr>\n",
              "      <th>1</th>\n",
              "      <td>Base Deep RNN</td>\n",
              "      <td>Neuron=5, Timestep=5, Epoch=35, Multi Layers</td>\n",
              "      <td>0.000672</td>\n",
              "      <td>0.025917</td>\n",
              "      <td>0.031051</td>\n",
              "    </tr>\n",
              "    <tr>\n",
              "      <th>2</th>\n",
              "      <td>Improved Deep RNN - Dense Output</td>\n",
              "      <td>Neuron=5, Timestep=5, Epoch=50, Batch_size=128...</td>\n",
              "      <td>0.001506</td>\n",
              "      <td>0.038801</td>\n",
              "      <td>0.046645</td>\n",
              "    </tr>\n",
              "  </tbody>\n",
              "</table>\n",
              "</div>"
            ],
            "text/plain": [
              "                              Model  \\\n",
              "0                 Naive Forecasting   \n",
              "1                     Base Deep RNN   \n",
              "2  Improved Deep RNN - Dense Output   \n",
              "\n",
              "                                             Details       MSE      RMSE  \\\n",
              "0       Difference of Last Value in X val with y val  0.005681  0.075372   \n",
              "1       Neuron=5, Timestep=5, Epoch=35, Multi Layers  0.000672  0.025917   \n",
              "2  Neuron=5, Timestep=5, Epoch=50, Batch_size=128...  0.001506  0.038801   \n",
              "\n",
              "   MAE(Test)  \n",
              "0   0.038119  \n",
              "1   0.031051  \n",
              "2   0.046645  "
            ]
          },
          "execution_count": 100,
          "metadata": {},
          "output_type": "execute_result"
        }
      ],
      "source": [
        "y_pred_imp_deep = deep_base.predict(X_test_final)\n",
        "mae_imp_deep_rnn_test = mean_absolute_error(y_test, y_pred_imp_deep)\n",
        "evaluation_metrics.loc[2] = ['Improved Deep RNN - Dense Output', 'Neuron=5, Timestep=5, Epoch=50, Batch_size=128, Multi Layers', mse_imp_deep_rnn[0], rmse_imp_deep_rnn[0], mae_imp_deep_rnn_test]\n",
        "evaluation_metrics"
      ]
    },
    {
      "cell_type": "code",
      "execution_count": 101,
      "metadata": {
        "colab": {
          "base_uri": "https://localhost:8080/",
          "height": 270
        },
        "id": "HvaaITK0B_1j",
        "outputId": "956c320a-a11a-46f2-927d-9cccd7da0be9"
      },
      "outputs": [
        {
          "data": {
            "image/png": "[encoded data removed]",
            "text/plain": [
              "<Figure size 1296x288 with 1 Axes>"
            ]
          },
          "metadata": {},
          "output_type": "display_data"
        }
      ],
      "source": [
        "y_pred_imp_deep = scaler.inverse_transform(y_pred_imp_deep)\n",
        "\n",
        "# plot prediction vs real price\n",
        "fig, ax = plt.subplots(figsize=(18, 4), sharex=True)\n",
        "\n",
        "plt.title(\"Predictions vs. Real Price (Imp. Deep RNN - Dense Output)\", fontsize=20)\n",
        "plt.ylabel('BTC', fontsize=18)\n",
        "plt.plot(y_pred_imp_deep, color=\"#E91D9E\", linewidth=1.0)\n",
        "plt.plot(y_test_real, color=\"black\", linewidth=1.0)\n",
        "plt.legend([\"Test Predictions\", \"Real Price\"], loc=\"upper right\")\n",
        "plt.show()"
      ]
    },
    {
      "cell_type": "markdown",
      "metadata": {
        "id": "XFYBNPaCB_1j"
      },
      "source": [
        "### 9.2. LSTM Recurrent Neural Network"
      ]
    },
    {
      "cell_type": "markdown",
      "metadata": {
        "id": "swGDuQQjB_1j"
      },
      "source": [
        "#### 9.2.1. With Tensor Pipeline"
      ]
    },
    {
      "cell_type": "code",
      "execution_count": 102,
      "metadata": {
        "colab": {
          "base_uri": "https://localhost:8080/"
        },
        "id": "rjDzWEBVB_1j",
        "outputId": "58e56a8b-297f-458f-a158-58010b571e9e"
      },
      "outputs": [
        {
          "name": "stdout",
          "output_type": "stream",
          "text": [
            "timesteps: 5, features: 1, neurons: 5\n",
            "Parameters: ['epochs 75', 'batch_size 128', 'patience 6', 'optimizer adam', 'loss mean_squared_error']\n",
            "Model: \"sequential_5\"\n",
            "_________________________________________________________________\n",
            " Layer (type)                Output Shape              Param #   \n",
            "=================================================================\n",
            " lstm_2 (LSTM)               (None, None, 5)           140       \n",
            "                                                                 \n",
            " lstm_3 (LSTM)               (None, 2)                 64        \n",
            "                                                                 \n",
            " dense_3 (Dense)             (None, 1)                 3         \n",
            "                                                                 \n",
            "=================================================================\n",
            "Total params: 207\n",
            "Trainable params: 207\n",
            "Non-trainable params: 0\n",
            "_________________________________________________________________\n"
          ]
        }
      ],
      "source": [
        "lstm_imp_model = Sequential()\n",
        "\n",
        "n_neurons = X_train_final.shape[1] * X_train_final.shape[2]\n",
        "print('timesteps: ' + str(X_train_final.shape[1]) + ',' + ' features: ' + str(X_train_final.shape[2]) + ', neurons: ' + str(n_neurons))\n",
        "\n",
        "# The lstm_imp_model\n",
        "lstm_imp_model.add(LSTM(5, return_sequences=True, input_shape=(None, X_train_final.shape[2]))) \n",
        "lstm_imp_model.add(LSTM(2))\n",
        "lstm_imp_model.add(Dense(1, activation='linear'))\n",
        " \n",
        "# Hyperparameters\n",
        "optimizer='adam'; loss='mean_squared_error'; epochs = 75; patience = 6;\n",
        "parameter_list = ['epochs ' + str(epochs), 'batch_size ' + str(batch_size), 'patience ' + str(patience), 'optimizer ' + str(optimizer), 'loss ' + str(loss)]\n",
        "print('Parameters: ' + str(parameter_list))\n",
        "\n",
        "lstm_imp_model.compile(optimizer=optimizer, loss=loss, metrics=['mean_squared_error'])\n",
        "\n",
        "lstm_imp_model.summary()"
      ]
    },
    {
      "cell_type": "code",
      "execution_count": 103,
      "metadata": {
        "id": "k2lWrhykB_1j"
      },
      "outputs": [
        {
          "name": "stdout",
          "output_type": "stream",
          "text": [
            "Epoch 1/75\n"
          ]
        },
        {
          "name": "stderr",
          "output_type": "stream",
          "text": [
            "2022-04-04 01:10:03.513859: I tensorflow/core/grappler/optimizers/custom_graph_optimizer_registry.cc:113] Plugin optimizer for device_type GPU is enabled.\n",
            "2022-04-04 01:10:03.732897: I tensorflow/core/grappler/optimizers/custom_graph_optimizer_registry.cc:113] Plugin optimizer for device_type GPU is enabled.\n",
            "2022-04-04 01:10:03.784847: I tensorflow/core/grappler/optimizers/custom_graph_optimizer_registry.cc:113] Plugin optimizer for device_type GPU is enabled.\n",
            "2022-04-04 01:10:03.858002: I tensorflow/core/grappler/optimizers/custom_graph_optimizer_registry.cc:113] Plugin optimizer for device_type GPU is enabled.\n",
            "2022-04-04 01:10:03.930178: I tensorflow/core/grappler/optimizers/custom_graph_optimizer_registry.cc:113] Plugin optimizer for device_type GPU is enabled.\n"
          ]
        },
        {
          "name": "stdout",
          "output_type": "stream",
          "text": [
            "71/71 [==============================] - 4s 17ms/step - loss: 0.1678 - mean_squared_error: 0.1678 - val_loss: 0.0018 - val_mean_squared_error: 0.0018\n",
            "Epoch 2/75\n"
          ]
        },
        {
          "name": "stderr",
          "output_type": "stream",
          "text": [
            "2022-04-04 01:10:05.036249: I tensorflow/core/grappler/optimizers/custom_graph_optimizer_registry.cc:113] Plugin optimizer for device_type GPU is enabled.\n",
            "2022-04-04 01:10:05.108033: I tensorflow/core/grappler/optimizers/custom_graph_optimizer_registry.cc:113] Plugin optimizer for device_type GPU is enabled.\n",
            "2022-04-04 01:10:05.133475: I tensorflow/core/grappler/optimizers/custom_graph_optimizer_registry.cc:113] Plugin optimizer for device_type GPU is enabled.\n"
          ]
        },
        {
          "name": "stdout",
          "output_type": "stream",
          "text": [
            "71/71 [==============================] - 1s 10ms/step - loss: 0.0369 - mean_squared_error: 0.0369 - val_loss: 0.0249 - val_mean_squared_error: 0.0249\n",
            "Epoch 3/75\n",
            "71/71 [==============================] - 1s 10ms/step - loss: 0.0235 - mean_squared_error: 0.0235 - val_loss: 0.0197 - val_mean_squared_error: 0.0197\n",
            "Epoch 4/75\n",
            "71/71 [==============================] - 1s 10ms/step - loss: 0.0169 - mean_squared_error: 0.0169 - val_loss: 0.0144 - val_mean_squared_error: 0.0144\n",
            "Epoch 5/75\n",
            "71/71 [==============================] - 1s 10ms/step - loss: 0.0109 - mean_squared_error: 0.0109 - val_loss: 0.0092 - val_mean_squared_error: 0.0092\n",
            "Epoch 6/75\n",
            "71/71 [==============================] - 1s 10ms/step - loss: 0.0061 - mean_squared_error: 0.0061 - val_loss: 0.0048 - val_mean_squared_error: 0.0048\n",
            "Epoch 7/75\n",
            "71/71 [==============================] - 1s 10ms/step - loss: 0.0029 - mean_squared_error: 0.0029 - val_loss: 0.0019 - val_mean_squared_error: 0.0019\n",
            "Epoch 8/75\n",
            "71/71 [==============================] - 1s 10ms/step - loss: 0.0014 - mean_squared_error: 0.0014 - val_loss: 6.8218e-04 - val_mean_squared_error: 6.8218e-04\n",
            "Epoch 9/75\n",
            "71/71 [==============================] - 1s 10ms/step - loss: 8.2845e-04 - mean_squared_error: 8.2845e-04 - val_loss: 3.1461e-04 - val_mean_squared_error: 3.1461e-04\n",
            "Epoch 10/75\n",
            "71/71 [==============================] - 1s 10ms/step - loss: 6.7251e-04 - mean_squared_error: 6.7251e-04 - val_loss: 2.5475e-04 - val_mean_squared_error: 2.5475e-04\n",
            "Epoch 11/75\n",
            "71/71 [==============================] - 1s 10ms/step - loss: 6.3323e-04 - mean_squared_error: 6.3323e-04 - val_loss: 2.5579e-04 - val_mean_squared_error: 2.5579e-04\n",
            "Epoch 12/75\n",
            "71/71 [==============================] - 1s 10ms/step - loss: 6.2007e-04 - mean_squared_error: 6.2007e-04 - val_loss: 2.6098e-04 - val_mean_squared_error: 2.6098e-04\n",
            "Epoch 13/75\n",
            "71/71 [==============================] - 1s 11ms/step - loss: 6.1230e-04 - mean_squared_error: 6.1230e-04 - val_loss: 2.6444e-04 - val_mean_squared_error: 2.6444e-04\n",
            "Epoch 14/75\n",
            "71/71 [==============================] - 1s 10ms/step - loss: 6.0583e-04 - mean_squared_error: 6.0583e-04 - val_loss: 2.6724e-04 - val_mean_squared_error: 2.6724e-04\n",
            "Epoch 15/75\n",
            "71/71 [==============================] - 1s 10ms/step - loss: 5.9986e-04 - mean_squared_error: 5.9986e-04 - val_loss: 2.7013e-04 - val_mean_squared_error: 2.7013e-04\n",
            "Epoch 16/75\n",
            "71/71 [==============================] - 1s 10ms/step - loss: 5.9427e-04 - mean_squared_error: 5.9427e-04 - val_loss: 2.7340e-04 - val_mean_squared_error: 2.7340e-04\n",
            "Epoch 17/75\n",
            "71/71 [==============================] - 1s 10ms/step - loss: 5.8910e-04 - mean_squared_error: 5.8910e-04 - val_loss: 2.7711e-04 - val_mean_squared_error: 2.7711e-04\n",
            "Epoch 18/75\n",
            "71/71 [==============================] - 1s 10ms/step - loss: 5.8439e-04 - mean_squared_error: 5.8439e-04 - val_loss: 2.8127e-04 - val_mean_squared_error: 2.8127e-04\n",
            "Epoch 19/75\n",
            "71/71 [==============================] - 1s 10ms/step - loss: 5.8023e-04 - mean_squared_error: 5.8023e-04 - val_loss: 2.8591e-04 - val_mean_squared_error: 2.8591e-04\n",
            "Epoch 20/75\n",
            "71/71 [==============================] - 1s 11ms/step - loss: 5.7669e-04 - mean_squared_error: 5.7669e-04 - val_loss: 2.9105e-04 - val_mean_squared_error: 2.9105e-04\n",
            "Epoch 21/75\n",
            "71/71 [==============================] - 1s 10ms/step - loss: 5.7385e-04 - mean_squared_error: 5.7385e-04 - val_loss: 2.9671e-04 - val_mean_squared_error: 2.9671e-04\n",
            "Epoch 22/75\n",
            "71/71 [==============================] - 1s 10ms/step - loss: 5.7180e-04 - mean_squared_error: 5.7180e-04 - val_loss: 3.0295e-04 - val_mean_squared_error: 3.0295e-04\n",
            "Epoch 23/75\n",
            "71/71 [==============================] - 1s 10ms/step - loss: 5.7065e-04 - mean_squared_error: 5.7065e-04 - val_loss: 3.0983e-04 - val_mean_squared_error: 3.0983e-04\n",
            "Epoch 24/75\n",
            "71/71 [==============================] - 1s 10ms/step - loss: 5.7051e-04 - mean_squared_error: 5.7051e-04 - val_loss: 3.1740e-04 - val_mean_squared_error: 3.1740e-04\n",
            "Epoch 25/75\n",
            "71/71 [==============================] - 1s 10ms/step - loss: 5.7152e-04 - mean_squared_error: 5.7152e-04 - val_loss: 3.2576e-04 - val_mean_squared_error: 3.2576e-04\n",
            "Epoch 26/75\n",
            "71/71 [==============================] - 1s 10ms/step - loss: 5.7383e-04 - mean_squared_error: 5.7383e-04 - val_loss: 3.3500e-04 - val_mean_squared_error: 3.3500e-04\n",
            "Epoch 27/75\n",
            "71/71 [==============================] - 1s 10ms/step - loss: 5.7761e-04 - mean_squared_error: 5.7761e-04 - val_loss: 3.4524e-04 - val_mean_squared_error: 3.4524e-04\n",
            "Epoch 28/75\n",
            "71/71 [==============================] - 1s 10ms/step - loss: 5.8309e-04 - mean_squared_error: 5.8309e-04 - val_loss: 3.5661e-04 - val_mean_squared_error: 3.5661e-04\n",
            "Epoch 29/75\n",
            "71/71 [==============================] - 1s 10ms/step - loss: 5.9050e-04 - mean_squared_error: 5.9050e-04 - val_loss: 3.6925e-04 - val_mean_squared_error: 3.6925e-04\n",
            "Epoch 30/75\n",
            "71/71 [==============================] - 1s 10ms/step - loss: 6.0015e-04 - mean_squared_error: 6.0015e-04 - val_loss: 3.8334e-04 - val_mean_squared_error: 3.8334e-04\n",
            "Epoch 31/75\n",
            "71/71 [==============================] - 1s 10ms/step - loss: 6.1236e-04 - mean_squared_error: 6.1236e-04 - val_loss: 3.9904e-04 - val_mean_squared_error: 3.9904e-04\n",
            "Epoch 32/75\n",
            "71/71 [==============================] - 1s 10ms/step - loss: 6.2751e-04 - mean_squared_error: 6.2751e-04 - val_loss: 4.1653e-04 - val_mean_squared_error: 4.1653e-04\n",
            "Epoch 33/75\n",
            "71/71 [==============================] - 1s 10ms/step - loss: 6.4597e-04 - mean_squared_error: 6.4597e-04 - val_loss: 4.3596e-04 - val_mean_squared_error: 4.3596e-04\n",
            "Epoch 34/75\n",
            "71/71 [==============================] - 1s 10ms/step - loss: 6.6809e-04 - mean_squared_error: 6.6809e-04 - val_loss: 4.5746e-04 - val_mean_squared_error: 4.5746e-04\n",
            "Epoch 35/75\n",
            "71/71 [==============================] - 1s 10ms/step - loss: 6.9408e-04 - mean_squared_error: 6.9408e-04 - val_loss: 4.8102e-04 - val_mean_squared_error: 4.8102e-04\n",
            "Epoch 36/75\n",
            "71/71 [==============================] - 1s 10ms/step - loss: 7.2395e-04 - mean_squared_error: 7.2395e-04 - val_loss: 5.0650e-04 - val_mean_squared_error: 5.0650e-04\n",
            "Epoch 37/75\n",
            "71/71 [==============================] - 1s 10ms/step - loss: 7.5729e-04 - mean_squared_error: 7.5729e-04 - val_loss: 5.3355e-04 - val_mean_squared_error: 5.3355e-04\n",
            "Epoch 38/75\n",
            "71/71 [==============================] - 1s 10ms/step - loss: 7.9315e-04 - mean_squared_error: 7.9315e-04 - val_loss: 5.6152e-04 - val_mean_squared_error: 5.6152e-04\n",
            "Epoch 39/75\n",
            "71/71 [==============================] - 1s 10ms/step - loss: 8.2993e-04 - mean_squared_error: 8.2993e-04 - val_loss: 5.8949e-04 - val_mean_squared_error: 5.8949e-04\n",
            "Epoch 40/75\n",
            "71/71 [==============================] - 1s 10ms/step - loss: 8.6542e-04 - mean_squared_error: 8.6542e-04 - val_loss: 6.1633e-04 - val_mean_squared_error: 6.1633e-04\n",
            "Epoch 41/75\n",
            "71/71 [==============================] - 1s 10ms/step - loss: 8.9709e-04 - mean_squared_error: 8.9709e-04 - val_loss: 6.4090e-04 - val_mean_squared_error: 6.4090e-04\n",
            "Epoch 42/75\n",
            "71/71 [==============================] - 1s 10ms/step - loss: 9.2262e-04 - mean_squared_error: 9.2262e-04 - val_loss: 6.6226e-04 - val_mean_squared_error: 6.6226e-04\n",
            "Epoch 43/75\n",
            "71/71 [==============================] - 1s 10ms/step - loss: 9.4051e-04 - mean_squared_error: 9.4051e-04 - val_loss: 6.7985e-04 - val_mean_squared_error: 6.7985e-04\n",
            "Epoch 44/75\n",
            "71/71 [==============================] - 1s 10ms/step - loss: 9.5050e-04 - mean_squared_error: 9.5050e-04 - val_loss: 6.9364e-04 - val_mean_squared_error: 6.9364e-04\n",
            "Epoch 45/75\n",
            "71/71 [==============================] - 1s 10ms/step - loss: 9.5356e-04 - mean_squared_error: 9.5356e-04 - val_loss: 7.0402e-04 - val_mean_squared_error: 7.0402e-04\n",
            "Epoch 46/75\n",
            "71/71 [==============================] - 1s 10ms/step - loss: 9.5153e-04 - mean_squared_error: 9.5153e-04 - val_loss: 7.1164e-04 - val_mean_squared_error: 7.1164e-04\n",
            "Epoch 47/75\n",
            "71/71 [==============================] - 1s 10ms/step - loss: 9.4650e-04 - mean_squared_error: 9.4650e-04 - val_loss: 7.1721e-04 - val_mean_squared_error: 7.1721e-04\n",
            "Epoch 48/75\n",
            "71/71 [==============================] - 1s 10ms/step - loss: 9.4028e-04 - mean_squared_error: 9.4028e-04 - val_loss: 7.2137e-04 - val_mean_squared_error: 7.2137e-04\n",
            "Epoch 49/75\n",
            "71/71 [==============================] - 1s 10ms/step - loss: 9.3420e-04 - mean_squared_error: 9.3420e-04 - val_loss: 7.2462e-04 - val_mean_squared_error: 7.2462e-04\n",
            "Epoch 50/75\n",
            "71/71 [==============================] - 1s 10ms/step - loss: 9.2903e-04 - mean_squared_error: 9.2903e-04 - val_loss: 7.2731e-04 - val_mean_squared_error: 7.2731e-04\n",
            "Epoch 51/75\n",
            "71/71 [==============================] - 1s 10ms/step - loss: 9.2509e-04 - mean_squared_error: 9.2509e-04 - val_loss: 7.2964e-04 - val_mean_squared_error: 7.2964e-04\n",
            "Epoch 52/75\n",
            "71/71 [==============================] - 1s 10ms/step - loss: 9.2239e-04 - mean_squared_error: 9.2239e-04 - val_loss: 7.3174e-04 - val_mean_squared_error: 7.3174e-04\n",
            "Epoch 53/75\n",
            "71/71 [==============================] - 1s 10ms/step - loss: 9.2078e-04 - mean_squared_error: 9.2078e-04 - val_loss: 7.3363e-04 - val_mean_squared_error: 7.3363e-04\n",
            "Epoch 54/75\n",
            "71/71 [==============================] - 1s 10ms/step - loss: 9.1998e-04 - mean_squared_error: 9.1998e-04 - val_loss: 7.3531e-04 - val_mean_squared_error: 7.3531e-04\n",
            "Epoch 55/75\n",
            "71/71 [==============================] - 1s 10ms/step - loss: 9.1973e-04 - mean_squared_error: 9.1973e-04 - val_loss: 7.3677e-04 - val_mean_squared_error: 7.3677e-04\n",
            "Epoch 56/75\n",
            "71/71 [==============================] - 1s 11ms/step - loss: 9.1977e-04 - mean_squared_error: 9.1977e-04 - val_loss: 7.3799e-04 - val_mean_squared_error: 7.3799e-04\n",
            "Epoch 57/75\n",
            "71/71 [==============================] - 1s 10ms/step - loss: 9.1991e-04 - mean_squared_error: 9.1991e-04 - val_loss: 7.3894e-04 - val_mean_squared_error: 7.3894e-04\n",
            "Epoch 58/75\n",
            "71/71 [==============================] - 1s 11ms/step - loss: 9.1999e-04 - mean_squared_error: 9.1999e-04 - val_loss: 7.3962e-04 - val_mean_squared_error: 7.3962e-04\n",
            "Epoch 59/75\n",
            "71/71 [==============================] - 1s 10ms/step - loss: 9.1992e-04 - mean_squared_error: 9.1992e-04 - val_loss: 7.4003e-04 - val_mean_squared_error: 7.4003e-04\n",
            "Epoch 60/75\n",
            "71/71 [==============================] - 1s 10ms/step - loss: 9.1965e-04 - mean_squared_error: 9.1965e-04 - val_loss: 7.4019e-04 - val_mean_squared_error: 7.4019e-04\n",
            "Epoch 61/75\n",
            "71/71 [==============================] - 1s 15ms/step - loss: 9.1917e-04 - mean_squared_error: 9.1917e-04 - val_loss: 7.4010e-04 - val_mean_squared_error: 7.4010e-04\n",
            "Epoch 62/75\n",
            "71/71 [==============================] - 1s 11ms/step - loss: 9.1848e-04 - mean_squared_error: 9.1848e-04 - val_loss: 7.3981e-04 - val_mean_squared_error: 7.3981e-04\n",
            "Epoch 63/75\n",
            "71/71 [==============================] - 1s 10ms/step - loss: 9.1762e-04 - mean_squared_error: 9.1762e-04 - val_loss: 7.3934e-04 - val_mean_squared_error: 7.3934e-04\n",
            "Epoch 64/75\n",
            "71/71 [==============================] - 1s 10ms/step - loss: 9.1663e-04 - mean_squared_error: 9.1663e-04 - val_loss: 7.3870e-04 - val_mean_squared_error: 7.3870e-04\n",
            "Epoch 65/75\n",
            "71/71 [==============================] - 1s 10ms/step - loss: 9.1552e-04 - mean_squared_error: 9.1552e-04 - val_loss: 7.3794e-04 - val_mean_squared_error: 7.3794e-04\n",
            "Epoch 66/75\n",
            "71/71 [==============================] - 1s 10ms/step - loss: 9.1433e-04 - mean_squared_error: 9.1433e-04 - val_loss: 7.3706e-04 - val_mean_squared_error: 7.3706e-04\n",
            "Epoch 67/75\n",
            "71/71 [==============================] - 1s 10ms/step - loss: 9.1308e-04 - mean_squared_error: 9.1308e-04 - val_loss: 7.3608e-04 - val_mean_squared_error: 7.3608e-04\n",
            "Epoch 68/75\n",
            "71/71 [==============================] - 1s 10ms/step - loss: 9.1179e-04 - mean_squared_error: 9.1179e-04 - val_loss: 7.3501e-04 - val_mean_squared_error: 7.3501e-04\n",
            "Epoch 69/75\n",
            "71/71 [==============================] - 1s 10ms/step - loss: 9.1045e-04 - mean_squared_error: 9.1045e-04 - val_loss: 7.3388e-04 - val_mean_squared_error: 7.3388e-04\n",
            "Epoch 70/75\n",
            "71/71 [==============================] - 1s 10ms/step - loss: 9.0909e-04 - mean_squared_error: 9.0909e-04 - val_loss: 7.3269e-04 - val_mean_squared_error: 7.3269e-04\n",
            "Epoch 71/75\n",
            "71/71 [==============================] - 1s 10ms/step - loss: 9.0768e-04 - mean_squared_error: 9.0768e-04 - val_loss: 7.3143e-04 - val_mean_squared_error: 7.3143e-04\n",
            "Epoch 72/75\n",
            "71/71 [==============================] - 1s 10ms/step - loss: 9.0625e-04 - mean_squared_error: 9.0625e-04 - val_loss: 7.3013e-04 - val_mean_squared_error: 7.3013e-04\n",
            "Epoch 73/75\n",
            "71/71 [==============================] - 1s 11ms/step - loss: 9.0478e-04 - mean_squared_error: 9.0478e-04 - val_loss: 7.2878e-04 - val_mean_squared_error: 7.2878e-04\n",
            "Epoch 74/75\n",
            "71/71 [==============================] - 1s 10ms/step - loss: 9.0327e-04 - mean_squared_error: 9.0327e-04 - val_loss: 7.2738e-04 - val_mean_squared_error: 7.2738e-04\n",
            "Epoch 75/75\n",
            "71/71 [==============================] - 1s 10ms/step - loss: 9.0173e-04 - mean_squared_error: 9.0173e-04 - val_loss: 7.2595e-04 - val_mean_squared_error: 7.2595e-04\n"
          ]
        }
      ],
      "source": [
        "lstm_imp_model_hist = lstm_imp_model.fit(\n",
        "                    train_dataset,\n",
        "                    epochs=epochs,\n",
        "                    batch_size=batch_size,\n",
        "                    validation_data=val_dataset,\n",
        "                    verbose=1\n",
        "                )"
      ]
    },
    {
      "cell_type": "code",
      "execution_count": 104,
      "metadata": {
        "colab": {
          "base_uri": "https://localhost:8080/",
          "height": 283
        },
        "id": "z2Pbb57HB_1j",
        "outputId": "cf2e27a0-048c-415d-e6f5-970e04750bc8"
      },
      "outputs": [
        {
          "data": {
            "image/png": "[encoded data removed]",
            "text/plain": [
              "<Figure size 432x288 with 1 Axes>"
            ]
          },
          "metadata": {},
          "output_type": "display_data"
        }
      ],
      "source": [
        "# Visualization of Training Loss and Validation Loss\n",
        "\n",
        "plot_learning_curves(lstm_imp_model_hist.history[\"loss\"], lstm_imp_model_hist.history[\"val_loss\"])\n",
        "plt.show()"
      ]
    },
    {
      "cell_type": "code",
      "execution_count": 105,
      "metadata": {
        "colab": {
          "base_uri": "https://localhost:8080/"
        },
        "id": "fXFDTR8kB_1k",
        "outputId": "3014de0b-bd81-45a6-8c27-61eb66f0d24f"
      },
      "outputs": [
        {
          "name": "stdout",
          "output_type": "stream",
          "text": [
            " 1/32 [..............................] - ETA: 13s - loss: 4.9902e-04 - mean_squared_error: 4.9902e-04"
          ]
        },
        {
          "name": "stderr",
          "output_type": "stream",
          "text": [
            "2022-04-04 01:10:59.788732: I tensorflow/core/grappler/optimizers/custom_graph_optimizer_registry.cc:113] Plugin optimizer for device_type GPU is enabled.\n",
            "2022-04-04 01:10:59.879755: I tensorflow/core/grappler/optimizers/custom_graph_optimizer_registry.cc:113] Plugin optimizer for device_type GPU is enabled.\n",
            "2022-04-04 01:10:59.911145: I tensorflow/core/grappler/optimizers/custom_graph_optimizer_registry.cc:113] Plugin optimizer for device_type GPU is enabled.\n"
          ]
        },
        {
          "name": "stdout",
          "output_type": "stream",
          "text": [
            "32/32 [==============================] - 1s 14ms/step - loss: 7.2595e-04 - mean_squared_error: 7.2595e-04\n"
          ]
        }
      ],
      "source": [
        "mse_lstm_imp_rnn = lstm_imp_model.evaluate(X_val_final, y_val)\n",
        "rmse_lstm_imp_rnn = np.sqrt(mse_lstm_imp_rnn)"
      ]
    },
    {
      "cell_type": "code",
      "execution_count": 106,
      "metadata": {
        "colab": {
          "base_uri": "https://localhost:8080/",
          "height": 175
        },
        "id": "4cGWP0aBB_1k",
        "outputId": "57224a8f-32ab-4de5-f9b0-d57cd5875c6e"
      },
      "outputs": [
        {
          "name": "stderr",
          "output_type": "stream",
          "text": [
            "2022-04-04 01:11:00.639866: I tensorflow/core/grappler/optimizers/custom_graph_optimizer_registry.cc:113] Plugin optimizer for device_type GPU is enabled.\n",
            "2022-04-04 01:11:00.700827: I tensorflow/core/grappler/optimizers/custom_graph_optimizer_registry.cc:113] Plugin optimizer for device_type GPU is enabled.\n",
            "2022-04-04 01:11:00.730414: I tensorflow/core/grappler/optimizers/custom_graph_optimizer_registry.cc:113] Plugin optimizer for device_type GPU is enabled.\n"
          ]
        },
        {
          "data": {
            "text/html": [
              "<div>\n",
              "<style scoped>\n",
              "    .dataframe tbody tr th:only-of-type {\n",
              "        vertical-align: middle;\n",
              "    }\n",
              "\n",
              "    .dataframe tbody tr th {\n",
              "        vertical-align: top;\n",
              "    }\n",
              "\n",
              "    .dataframe thead th {\n",
              "        text-align: right;\n",
              "    }\n",
              "</style>\n",
              "<table border=\"1\" class=\"dataframe\">\n",
              "  <thead>\n",
              "    <tr style=\"text-align: right;\">\n",
              "      <th></th>\n",
              "      <th>Model</th>\n",
              "      <th>Details</th>\n",
              "      <th>MSE</th>\n",
              "      <th>RMSE</th>\n",
              "      <th>MAE(Test)</th>\n",
              "    </tr>\n",
              "  </thead>\n",
              "  <tbody>\n",
              "    <tr>\n",
              "      <th>0</th>\n",
              "      <td>Naive Forecasting</td>\n",
              "      <td>Difference of Last Value in X val with y val</td>\n",
              "      <td>0.005681</td>\n",
              "      <td>0.075372</td>\n",
              "      <td>0.038119</td>\n",
              "    </tr>\n",
              "    <tr>\n",
              "      <th>1</th>\n",
              "      <td>Base Deep RNN</td>\n",
              "      <td>Neuron=5, Timestep=5, Epoch=35, Multi Layers</td>\n",
              "      <td>0.000672</td>\n",
              "      <td>0.025917</td>\n",
              "      <td>0.031051</td>\n",
              "    </tr>\n",
              "    <tr>\n",
              "      <th>2</th>\n",
              "      <td>Improved Deep RNN - Dense Output</td>\n",
              "      <td>Neuron=5, Timestep=5, Epoch=50, Batch_size=128...</td>\n",
              "      <td>0.001506</td>\n",
              "      <td>0.038801</td>\n",
              "      <td>0.046645</td>\n",
              "    </tr>\n",
              "    <tr>\n",
              "      <th>3</th>\n",
              "      <td>LSTM - Pipeline Dataset</td>\n",
              "      <td>Neuron=5, Timestep=5, Epoch=75, Batch_size=128...</td>\n",
              "      <td>0.000726</td>\n",
              "      <td>0.026943</td>\n",
              "      <td>0.025866</td>\n",
              "    </tr>\n",
              "  </tbody>\n",
              "</table>\n",
              "</div>"
            ],
            "text/plain": [
              "                              Model  \\\n",
              "0                 Naive Forecasting   \n",
              "1                     Base Deep RNN   \n",
              "2  Improved Deep RNN - Dense Output   \n",
              "3           LSTM - Pipeline Dataset   \n",
              "\n",
              "                                             Details       MSE      RMSE  \\\n",
              "0       Difference of Last Value in X val with y val  0.005681  0.075372   \n",
              "1       Neuron=5, Timestep=5, Epoch=35, Multi Layers  0.000672  0.025917   \n",
              "2  Neuron=5, Timestep=5, Epoch=50, Batch_size=128...  0.001506  0.038801   \n",
              "3  Neuron=5, Timestep=5, Epoch=75, Batch_size=128...  0.000726  0.026943   \n",
              "\n",
              "   MAE(Test)  \n",
              "0   0.038119  \n",
              "1   0.031051  \n",
              "2   0.046645  \n",
              "3   0.025866  "
            ]
          },
          "execution_count": 106,
          "metadata": {},
          "output_type": "execute_result"
        }
      ],
      "source": [
        "y_pred_lstm_pipe = lstm_imp_model.predict(X_test_final)\n",
        "mae_lstm_imp_rnn_test = mean_absolute_error(y_test, y_pred_lstm_pipe)\n",
        "evaluation_metrics.loc[3] = ['LSTM - Pipeline Dataset', 'Neuron=5, Timestep=5, Epoch=75, Batch_size=128, Multi Layers', mse_lstm_imp_rnn[0], rmse_lstm_imp_rnn[0], mae_lstm_imp_rnn_test]\n",
        "evaluation_metrics"
      ]
    },
    {
      "cell_type": "code",
      "execution_count": 107,
      "metadata": {
        "colab": {
          "base_uri": "https://localhost:8080/",
          "height": 270
        },
        "id": "bN5p1nH4B_1k",
        "outputId": "f3c7f499-1cef-43b6-85ef-692f2ba5c043"
      },
      "outputs": [
        {
          "data": {
            "image/png": "[encoded data removed]",
            "text/plain": [
              "<Figure size 1296x288 with 1 Axes>"
            ]
          },
          "metadata": {},
          "output_type": "display_data"
        }
      ],
      "source": [
        "y_pred_lstm_pipe = scaler.inverse_transform(y_pred_lstm_pipe)\n",
        "# plot prediction vs real price\n",
        "fig, ax = plt.subplots(figsize=(18, 4), sharex=True)\n",
        "\n",
        "plt.title(\"Predictions vs. Real Price (LSTM(Tensor Pipeline))\", fontsize=20)\n",
        "plt.ylabel('BTC', fontsize=18)\n",
        "plt.plot(y_pred_lstm_pipe, color=\"#E91D9E\", linewidth=1.0)\n",
        "plt.plot(y_test_real, color=\"black\", linewidth=1.0)\n",
        "plt.legend([\"Test Predictions\", \"Real Price\"], loc=\"upper right\")\n",
        "plt.show()"
      ]
    },
    {
      "cell_type": "markdown",
      "metadata": {
        "id": "x_ua9aZFB_1k"
      },
      "source": [
        "#### 9.2.2. Without Tensor Pipeline"
      ]
    },
    {
      "cell_type": "markdown",
      "metadata": {},
      "source": [
        "- Karena tampaknya LSTM dan model model sebelumnya tidak memiliki hasil prediksi yang baik, maka kita akan mencoba melatih model dengan data yang tanpa sebelum dijadikan data tensor (tanpa pipeline)"
      ]
    },
    {
      "cell_type": "code",
      "execution_count": 108,
      "metadata": {
        "colab": {
          "base_uri": "https://localhost:8080/"
        },
        "id": "tn50t2RVB_1l",
        "outputId": "0a5ccb99-7fbe-4b94-ff5a-e5236f866e0c"
      },
      "outputs": [
        {
          "name": "stdout",
          "output_type": "stream",
          "text": [
            "timesteps: 5, features: 1, neurons: 5\n",
            "Parameters: ['epochs 75', 'batch_size 128', 'patience 6', 'optimizer adam', 'loss mean_squared_error']\n",
            "Model: \"sequential_6\"\n",
            "_________________________________________________________________\n",
            " Layer (type)                Output Shape              Param #   \n",
            "=================================================================\n",
            " lstm_4 (LSTM)               (None, None, 5)           140       \n",
            "                                                                 \n",
            " lstm_5 (LSTM)               (None, 2)                 64        \n",
            "                                                                 \n",
            " dense_4 (Dense)             (None, 1)                 3         \n",
            "                                                                 \n",
            "=================================================================\n",
            "Total params: 207\n",
            "Trainable params: 207\n",
            "Non-trainable params: 0\n",
            "_________________________________________________________________\n"
          ]
        }
      ],
      "source": [
        "lstm_imp_model_2 = Sequential()\n",
        "\n",
        "n_neurons = X_train_final.shape[1] * X_train_final.shape[2]\n",
        "print('timesteps: ' + str(X_train_final.shape[1]) + ',' + ' features: ' + str(X_train_final.shape[2]) + ', neurons: ' + str(n_neurons))\n",
        "\n",
        "# The lstm_imp_model_2\n",
        "lstm_imp_model_2.add(LSTM(5, return_sequences=True, input_shape=(None, X_train_final.shape[2]))) \n",
        "lstm_imp_model_2.add(LSTM(2))\n",
        "lstm_imp_model_2.add(Dense(1, activation='linear'))\n",
        "\n",
        "# Hyperparameters\n",
        "optimizer='adam'; loss='mean_squared_error'; epochs = 75; patience = 6;\n",
        "parameter_list = ['epochs ' + str(epochs), 'batch_size ' + str(batch_size), 'patience ' + str(patience), 'optimizer ' + str(optimizer), 'loss ' + str(loss)]\n",
        "print('Parameters: ' + str(parameter_list))\n",
        "\n",
        "lstm_imp_model_2.compile(optimizer=optimizer, loss=loss, metrics=['mean_squared_error'])\n",
        "\n",
        "lstm_imp_model_2.summary()"
      ]
    },
    {
      "cell_type": "code",
      "execution_count": 109,
      "metadata": {
        "id": "0yvelA5PB_1m"
      },
      "outputs": [
        {
          "name": "stderr",
          "output_type": "stream",
          "text": [
            "2022-04-04 01:11:03.189950: I tensorflow/core/grappler/optimizers/custom_graph_optimizer_registry.cc:113] Plugin optimizer for device_type GPU is enabled.\n",
            "2022-04-04 01:11:03.495330: I tensorflow/core/grappler/optimizers/custom_graph_optimizer_registry.cc:113] Plugin optimizer for device_type GPU is enabled.\n",
            "2022-04-04 01:11:03.650248: I tensorflow/core/grappler/optimizers/custom_graph_optimizer_registry.cc:113] Plugin optimizer for device_type GPU is enabled.\n",
            "2022-04-04 01:11:03.716615: I tensorflow/core/grappler/optimizers/custom_graph_optimizer_registry.cc:113] Plugin optimizer for device_type GPU is enabled.\n",
            "2022-04-04 01:11:03.813016: I tensorflow/core/grappler/optimizers/custom_graph_optimizer_registry.cc:113] Plugin optimizer for device_type GPU is enabled.\n",
            "2022-04-04 01:11:04.858790: I tensorflow/core/grappler/optimizers/custom_graph_optimizer_registry.cc:113] Plugin optimizer for device_type GPU is enabled.\n",
            "2022-04-04 01:11:04.929946: I tensorflow/core/grappler/optimizers/custom_graph_optimizer_registry.cc:113] Plugin optimizer for device_type GPU is enabled.\n",
            "2022-04-04 01:11:04.964273: I tensorflow/core/grappler/optimizers/custom_graph_optimizer_registry.cc:113] Plugin optimizer for device_type GPU is enabled.\n"
          ]
        }
      ],
      "source": [
        "lstm_imp_model_hist_2 = lstm_imp_model_2.fit(\n",
        "                    X_train_final,\n",
        "                    y_train,\n",
        "                    epochs=epochs,\n",
        "                    batch_size=batch_size,\n",
        "                    validation_data=(X_val_final, y_val),\n",
        "                    verbose=0\n",
        "                )"
      ]
    },
    {
      "cell_type": "code",
      "execution_count": 110,
      "metadata": {
        "colab": {
          "base_uri": "https://localhost:8080/",
          "height": 283
        },
        "id": "86VH1BznB_1m",
        "outputId": "9e0df0da-a10d-4968-cc1e-7552e31f5331"
      },
      "outputs": [
        {
          "data": {
            "image/png": "[encoded data removed]",
            "text/plain": [
              "<Figure size 432x288 with 1 Axes>"
            ]
          },
          "metadata": {},
          "output_type": "display_data"
        }
      ],
      "source": [
        "# Visualization of Training Loss and Validation Loss\n",
        "\n",
        "plot_learning_curves(lstm_imp_model_hist_2.history[\"loss\"], lstm_imp_model_hist_2.history[\"val_loss\"])\n",
        "plt.show()"
      ]
    },
    {
      "cell_type": "code",
      "execution_count": 111,
      "metadata": {
        "colab": {
          "base_uri": "https://localhost:8080/"
        },
        "id": "wRp97qPNB_1n",
        "outputId": "a7e40f25-e2c6-45db-a6f7-94ded3fb5563"
      },
      "outputs": [
        {
          "name": "stdout",
          "output_type": "stream",
          "text": [
            "32/32 [==============================] - 0s 6ms/step - loss: 2.5228e-04 - mean_squared_error: 2.5228e-04\n"
          ]
        }
      ],
      "source": [
        "mse_lstm_imp_rnn_2 = lstm_imp_model_2.evaluate(X_val_final, y_val)\n",
        "rmse_lstm_imp_rnn_2 = np.sqrt(mse_lstm_imp_rnn_2)"
      ]
    },
    {
      "cell_type": "code",
      "execution_count": 112,
      "metadata": {
        "colab": {
          "base_uri": "https://localhost:8080/",
          "height": 206
        },
        "id": "wbG9jvdZB_1n",
        "outputId": "5a70bd55-d43d-48f9-f48a-6cb95f12a2a8"
      },
      "outputs": [
        {
          "name": "stderr",
          "output_type": "stream",
          "text": [
            "2022-04-04 01:11:51.567861: I tensorflow/core/grappler/optimizers/custom_graph_optimizer_registry.cc:113] Plugin optimizer for device_type GPU is enabled.\n",
            "2022-04-04 01:11:51.629133: I tensorflow/core/grappler/optimizers/custom_graph_optimizer_registry.cc:113] Plugin optimizer for device_type GPU is enabled.\n",
            "2022-04-04 01:11:51.659034: I tensorflow/core/grappler/optimizers/custom_graph_optimizer_registry.cc:113] Plugin optimizer for device_type GPU is enabled.\n"
          ]
        },
        {
          "data": {
            "text/html": [
              "<div>\n",
              "<style scoped>\n",
              "    .dataframe tbody tr th:only-of-type {\n",
              "        vertical-align: middle;\n",
              "    }\n",
              "\n",
              "    .dataframe tbody tr th {\n",
              "        vertical-align: top;\n",
              "    }\n",
              "\n",
              "    .dataframe thead th {\n",
              "        text-align: right;\n",
              "    }\n",
              "</style>\n",
              "<table border=\"1\" class=\"dataframe\">\n",
              "  <thead>\n",
              "    <tr style=\"text-align: right;\">\n",
              "      <th></th>\n",
              "      <th>Model</th>\n",
              "      <th>Details</th>\n",
              "      <th>MSE</th>\n",
              "      <th>RMSE</th>\n",
              "      <th>MAE(Test)</th>\n",
              "    </tr>\n",
              "  </thead>\n",
              "  <tbody>\n",
              "    <tr>\n",
              "      <th>0</th>\n",
              "      <td>Naive Forecasting</td>\n",
              "      <td>Difference of Last Value in X val with y val</td>\n",
              "      <td>0.005681</td>\n",
              "      <td>0.075372</td>\n",
              "      <td>0.038119</td>\n",
              "    </tr>\n",
              "    <tr>\n",
              "      <th>1</th>\n",
              "      <td>Base Deep RNN</td>\n",
              "      <td>Neuron=5, Timestep=5, Epoch=35, Multi Layers</td>\n",
              "      <td>0.000672</td>\n",
              "      <td>0.025917</td>\n",
              "      <td>0.031051</td>\n",
              "    </tr>\n",
              "    <tr>\n",
              "      <th>2</th>\n",
              "      <td>Improved Deep RNN - Dense Output</td>\n",
              "      <td>Neuron=5, Timestep=5, Epoch=50, Batch_size=128...</td>\n",
              "      <td>0.001506</td>\n",
              "      <td>0.038801</td>\n",
              "      <td>0.046645</td>\n",
              "    </tr>\n",
              "    <tr>\n",
              "      <th>3</th>\n",
              "      <td>LSTM - Pipeline Dataset</td>\n",
              "      <td>Neuron=5, Timestep=5, Epoch=75, Batch_size=128...</td>\n",
              "      <td>0.000726</td>\n",
              "      <td>0.026943</td>\n",
              "      <td>0.025866</td>\n",
              "    </tr>\n",
              "    <tr>\n",
              "      <th>4</th>\n",
              "      <td>LSTM - Non-Pipeline Dataset</td>\n",
              "      <td>Without tensorflow pipeline dataset. The rest ...</td>\n",
              "      <td>0.000252</td>\n",
              "      <td>0.015883</td>\n",
              "      <td>0.007987</td>\n",
              "    </tr>\n",
              "  </tbody>\n",
              "</table>\n",
              "</div>"
            ],
            "text/plain": [
              "                              Model  \\\n",
              "0                 Naive Forecasting   \n",
              "1                     Base Deep RNN   \n",
              "2  Improved Deep RNN - Dense Output   \n",
              "3           LSTM - Pipeline Dataset   \n",
              "4       LSTM - Non-Pipeline Dataset   \n",
              "\n",
              "                                             Details       MSE      RMSE  \\\n",
              "0       Difference of Last Value in X val with y val  0.005681  0.075372   \n",
              "1       Neuron=5, Timestep=5, Epoch=35, Multi Layers  0.000672  0.025917   \n",
              "2  Neuron=5, Timestep=5, Epoch=50, Batch_size=128...  0.001506  0.038801   \n",
              "3  Neuron=5, Timestep=5, Epoch=75, Batch_size=128...  0.000726  0.026943   \n",
              "4  Without tensorflow pipeline dataset. The rest ...  0.000252  0.015883   \n",
              "\n",
              "   MAE(Test)  \n",
              "0   0.038119  \n",
              "1   0.031051  \n",
              "2   0.046645  \n",
              "3   0.025866  \n",
              "4   0.007987  "
            ]
          },
          "execution_count": 112,
          "metadata": {},
          "output_type": "execute_result"
        }
      ],
      "source": [
        "y_pred_lstm_non = lstm_imp_model_2.predict(X_test_final)\n",
        "mae_lstm_imp_rnn_2_test = mean_absolute_error(y_test, y_pred_lstm_non)\n",
        "evaluation_metrics.loc[4] = ['LSTM - Non-Pipeline Dataset', 'Without tensorflow pipeline dataset. The rest is same', mse_lstm_imp_rnn_2[0], rmse_lstm_imp_rnn_2[0], mae_lstm_imp_rnn_2_test]\n",
        "evaluation_metrics"
      ]
    },
    {
      "cell_type": "code",
      "execution_count": 113,
      "metadata": {
        "colab": {
          "base_uri": "https://localhost:8080/",
          "height": 270
        },
        "id": "URupYU-OB_1n",
        "outputId": "734838ab-8b14-4dc4-ff09-934b74960f94"
      },
      "outputs": [
        {
          "data": {
            "image/png": "[encoded data removed]",
            "text/plain": [
              "<Figure size 1296x288 with 1 Axes>"
            ]
          },
          "metadata": {},
          "output_type": "display_data"
        }
      ],
      "source": [
        "y_pred_lstm_non = scaler.inverse_transform(y_pred_lstm_non)\n",
        "# plot prediction vs real price\n",
        "fig, ax = plt.subplots(figsize=(18, 4), sharex=True)\n",
        "\n",
        "plt.title(\"Predictions vs. Real Price (LSTM(Non-Tensor Pipeline))\", fontsize=20)\n",
        "plt.ylabel('BTC', fontsize=18)\n",
        "plt.plot(y_pred_lstm_non, color=\"#E91D9E\", linewidth=1.0)\n",
        "plt.plot(y_test_real, color=\"black\", linewidth=1.0)\n",
        "plt.legend([\"Test Predictions\", \"Real Price\"], loc=\"upper right\")\n",
        "plt.show()"
      ]
    },
    {
      "cell_type": "markdown",
      "metadata": {},
      "source": [
        "- Disini terlihat model memprediksi harga jauh lebih baik dibandingkan dengan model-model sebelumnya, harga yang diprediksi pun juga reaktif atau memiliki kenaikan atau turunan yang mengikuti pola harga aslinya, meskipun terlihat cenderung terdapat lagging pada harga yang diprediksi"
      ]
    },
    {
      "cell_type": "markdown",
      "metadata": {
        "id": "yRBfcRmIB_1o"
      },
      "source": [
        "### 9.3. GRU Recurrent Neural Network"
      ]
    },
    {
      "cell_type": "code",
      "execution_count": 114,
      "metadata": {
        "colab": {
          "base_uri": "https://localhost:8080/"
        },
        "id": "UiMLJvO0B_1o",
        "outputId": "a39ef728-23b7-4c65-8ebf-2d9da927f36d"
      },
      "outputs": [
        {
          "name": "stdout",
          "output_type": "stream",
          "text": [
            "timesteps: 5, features: 1, neurons: 5\n",
            "Parameters: ['epochs 75', 'batch_size 128', 'patience 6', 'optimizer adam', 'loss mean_squared_error']\n",
            "Model: \"sequential_7\"\n",
            "_________________________________________________________________\n",
            " Layer (type)                Output Shape              Param #   \n",
            "=================================================================\n",
            " gru (GRU)                   (None, None, 5)           120       \n",
            "                                                                 \n",
            " gru_1 (GRU)                 (None, 2)                 54        \n",
            "                                                                 \n",
            " dense_5 (Dense)             (None, 1)                 3         \n",
            "                                                                 \n",
            "=================================================================\n",
            "Total params: 177\n",
            "Trainable params: 177\n",
            "Non-trainable params: 0\n",
            "_________________________________________________________________\n"
          ]
        }
      ],
      "source": [
        "gru_imp_model = Sequential()\n",
        "\n",
        "n_neurons = X_train_final.shape[1] * X_train_final.shape[2]\n",
        "print('timesteps: ' + str(X_train_final.shape[1]) + ',' + ' features: ' + str(X_train_final.shape[2]) + ', neurons: ' + str(n_neurons))\n",
        "\n",
        "# The gru_imp_model\n",
        "gru_imp_model.add(GRU(5, return_sequences=True, input_shape=(None, X_train_final.shape[2]))) \n",
        "gru_imp_model.add(GRU(2))\n",
        "gru_imp_model.add(Dense(1, activation='linear'))\n",
        " \n",
        "# Hyperparameters\n",
        "optimizer='adam'; loss='mean_squared_error'; epochs = 75; patience = 6;\n",
        "parameter_list = ['epochs ' + str(epochs), 'batch_size ' + str(batch_size), 'patience ' + str(patience), 'optimizer ' + str(optimizer), 'loss ' + str(loss)]\n",
        "print('Parameters: ' + str(parameter_list))\n",
        "\n",
        "gru_imp_model.compile(optimizer=optimizer, loss=loss, metrics=['mean_squared_error'])\n",
        "\n",
        "early_stop = EarlyStopping(monitor='val_loss', \n",
        "                           patience=patience, \n",
        "                           verbose=0)\n",
        "\n",
        "gru_imp_model.summary()"
      ]
    },
    {
      "cell_type": "code",
      "execution_count": 115,
      "metadata": {
        "id": "usJPszEJB_1p"
      },
      "outputs": [
        {
          "name": "stderr",
          "output_type": "stream",
          "text": [
            "2022-04-04 01:11:53.631872: I tensorflow/core/grappler/optimizers/custom_graph_optimizer_registry.cc:113] Plugin optimizer for device_type GPU is enabled.\n",
            "2022-04-04 01:11:53.832486: I tensorflow/core/grappler/optimizers/custom_graph_optimizer_registry.cc:113] Plugin optimizer for device_type GPU is enabled.\n",
            "2022-04-04 01:11:54.007530: I tensorflow/core/grappler/optimizers/custom_graph_optimizer_registry.cc:113] Plugin optimizer for device_type GPU is enabled.\n",
            "2022-04-04 01:11:54.140580: I tensorflow/core/grappler/optimizers/custom_graph_optimizer_registry.cc:113] Plugin optimizer for device_type GPU is enabled.\n",
            "2022-04-04 01:11:54.367466: I tensorflow/core/grappler/optimizers/custom_graph_optimizer_registry.cc:113] Plugin optimizer for device_type GPU is enabled.\n",
            "2022-04-04 01:11:55.546009: I tensorflow/core/grappler/optimizers/custom_graph_optimizer_registry.cc:113] Plugin optimizer for device_type GPU is enabled.\n",
            "2022-04-04 01:11:55.623459: I tensorflow/core/grappler/optimizers/custom_graph_optimizer_registry.cc:113] Plugin optimizer for device_type GPU is enabled.\n",
            "2022-04-04 01:11:55.659331: I tensorflow/core/grappler/optimizers/custom_graph_optimizer_registry.cc:113] Plugin optimizer for device_type GPU is enabled.\n"
          ]
        }
      ],
      "source": [
        "gru_imp_model_hist = gru_imp_model.fit(\n",
        "                    X_train_final,\n",
        "                    y_train,\n",
        "                    epochs=epochs,\n",
        "                    batch_size=batch_size,\n",
        "                    validation_data=(X_val_final, y_val),\n",
        "                    verbose=0\n",
        "                )"
      ]
    },
    {
      "cell_type": "code",
      "execution_count": 116,
      "metadata": {
        "colab": {
          "base_uri": "https://localhost:8080/",
          "height": 283
        },
        "id": "zmR7GKAVB_1p",
        "outputId": "8d641e1e-29b5-492c-82f6-c40468714d2a"
      },
      "outputs": [
        {
          "data": {
            "image/png": "[encoded data removed]",
            "text/plain": [
              "<Figure size 432x288 with 1 Axes>"
            ]
          },
          "metadata": {},
          "output_type": "display_data"
        }
      ],
      "source": [
        "# Visualization of Training Loss and Validation Loss\n",
        "\n",
        "plot_learning_curves(gru_imp_model_hist.history[\"loss\"], gru_imp_model_hist.history[\"val_loss\"])\n",
        "plt.show()"
      ]
    },
    {
      "cell_type": "code",
      "execution_count": 117,
      "metadata": {
        "colab": {
          "base_uri": "https://localhost:8080/"
        },
        "id": "8Cxu8CxBB_1p",
        "outputId": "297c98a2-34fa-4549-f002-c3533e3691a1"
      },
      "outputs": [
        {
          "name": "stdout",
          "output_type": "stream",
          "text": [
            "32/32 [==============================] - 0s 12ms/step - loss: 1.4148e-04 - mean_squared_error: 1.4148e-04\n"
          ]
        }
      ],
      "source": [
        "mse_gru_imp_rnn = gru_imp_model.evaluate(X_val_final, y_val)\n",
        "rmse_gru_imp_rnn = np.sqrt(mse_gru_imp_rnn)"
      ]
    },
    {
      "cell_type": "code",
      "execution_count": 118,
      "metadata": {
        "colab": {
          "base_uri": "https://localhost:8080/",
          "height": 237
        },
        "id": "D8cJvibAB_1p",
        "outputId": "f4a51cbb-eeb9-4547-fe2d-1d2f50eadf3a"
      },
      "outputs": [
        {
          "name": "stderr",
          "output_type": "stream",
          "text": [
            "2022-04-04 01:12:39.133351: I tensorflow/core/grappler/optimizers/custom_graph_optimizer_registry.cc:113] Plugin optimizer for device_type GPU is enabled.\n",
            "2022-04-04 01:12:39.188295: I tensorflow/core/grappler/optimizers/custom_graph_optimizer_registry.cc:113] Plugin optimizer for device_type GPU is enabled.\n",
            "2022-04-04 01:12:39.219601: I tensorflow/core/grappler/optimizers/custom_graph_optimizer_registry.cc:113] Plugin optimizer for device_type GPU is enabled.\n"
          ]
        },
        {
          "data": {
            "text/html": [
              "<div>\n",
              "<style scoped>\n",
              "    .dataframe tbody tr th:only-of-type {\n",
              "        vertical-align: middle;\n",
              "    }\n",
              "\n",
              "    .dataframe tbody tr th {\n",
              "        vertical-align: top;\n",
              "    }\n",
              "\n",
              "    .dataframe thead th {\n",
              "        text-align: right;\n",
              "    }\n",
              "</style>\n",
              "<table border=\"1\" class=\"dataframe\">\n",
              "  <thead>\n",
              "    <tr style=\"text-align: right;\">\n",
              "      <th></th>\n",
              "      <th>Model</th>\n",
              "      <th>Details</th>\n",
              "      <th>MSE</th>\n",
              "      <th>RMSE</th>\n",
              "      <th>MAE(Test)</th>\n",
              "    </tr>\n",
              "  </thead>\n",
              "  <tbody>\n",
              "    <tr>\n",
              "      <th>0</th>\n",
              "      <td>Naive Forecasting</td>\n",
              "      <td>Difference of Last Value in X val with y val</td>\n",
              "      <td>0.005681</td>\n",
              "      <td>0.075372</td>\n",
              "      <td>0.038119</td>\n",
              "    </tr>\n",
              "    <tr>\n",
              "      <th>1</th>\n",
              "      <td>Base Deep RNN</td>\n",
              "      <td>Neuron=5, Timestep=5, Epoch=35, Multi Layers</td>\n",
              "      <td>0.000672</td>\n",
              "      <td>0.025917</td>\n",
              "      <td>0.031051</td>\n",
              "    </tr>\n",
              "    <tr>\n",
              "      <th>2</th>\n",
              "      <td>Improved Deep RNN - Dense Output</td>\n",
              "      <td>Neuron=5, Timestep=5, Epoch=50, Batch_size=128...</td>\n",
              "      <td>0.001506</td>\n",
              "      <td>0.038801</td>\n",
              "      <td>0.046645</td>\n",
              "    </tr>\n",
              "    <tr>\n",
              "      <th>3</th>\n",
              "      <td>LSTM - Pipeline Dataset</td>\n",
              "      <td>Neuron=5, Timestep=5, Epoch=75, Batch_size=128...</td>\n",
              "      <td>0.000726</td>\n",
              "      <td>0.026943</td>\n",
              "      <td>0.025866</td>\n",
              "    </tr>\n",
              "    <tr>\n",
              "      <th>4</th>\n",
              "      <td>LSTM - Non-Pipeline Dataset</td>\n",
              "      <td>Without tensorflow pipeline dataset. The rest ...</td>\n",
              "      <td>0.000252</td>\n",
              "      <td>0.015883</td>\n",
              "      <td>0.007987</td>\n",
              "    </tr>\n",
              "    <tr>\n",
              "      <th>5</th>\n",
              "      <td>GRU - Non-Pipeline Dataset</td>\n",
              "      <td>Without tensorflow pipeline dataset. The rest ...</td>\n",
              "      <td>0.000141</td>\n",
              "      <td>0.011895</td>\n",
              "      <td>0.006088</td>\n",
              "    </tr>\n",
              "  </tbody>\n",
              "</table>\n",
              "</div>"
            ],
            "text/plain": [
              "                              Model  \\\n",
              "0                 Naive Forecasting   \n",
              "1                     Base Deep RNN   \n",
              "2  Improved Deep RNN - Dense Output   \n",
              "3           LSTM - Pipeline Dataset   \n",
              "4       LSTM - Non-Pipeline Dataset   \n",
              "5        GRU - Non-Pipeline Dataset   \n",
              "\n",
              "                                             Details       MSE      RMSE  \\\n",
              "0       Difference of Last Value in X val with y val  0.005681  0.075372   \n",
              "1       Neuron=5, Timestep=5, Epoch=35, Multi Layers  0.000672  0.025917   \n",
              "2  Neuron=5, Timestep=5, Epoch=50, Batch_size=128...  0.001506  0.038801   \n",
              "3  Neuron=5, Timestep=5, Epoch=75, Batch_size=128...  0.000726  0.026943   \n",
              "4  Without tensorflow pipeline dataset. The rest ...  0.000252  0.015883   \n",
              "5  Without tensorflow pipeline dataset. The rest ...  0.000141  0.011895   \n",
              "\n",
              "   MAE(Test)  \n",
              "0   0.038119  \n",
              "1   0.031051  \n",
              "2   0.046645  \n",
              "3   0.025866  \n",
              "4   0.007987  \n",
              "5   0.006088  "
            ]
          },
          "execution_count": 118,
          "metadata": {},
          "output_type": "execute_result"
        }
      ],
      "source": [
        "y_pred_gru_non = gru_imp_model.predict(X_test_final)\n",
        "mae_gru_imp_test = mean_absolute_error(y_test, y_pred_gru_non)\n",
        "evaluation_metrics.loc[5] = ['GRU - Non-Pipeline Dataset', 'Without tensorflow pipeline dataset. The rest is same', mse_gru_imp_rnn[0], rmse_gru_imp_rnn[0], mae_gru_imp_test]\n",
        "evaluation_metrics"
      ]
    },
    {
      "cell_type": "code",
      "execution_count": 119,
      "metadata": {
        "colab": {
          "base_uri": "https://localhost:8080/",
          "height": 270
        },
        "id": "ID8523WxB_1q",
        "outputId": "26262b0f-ce47-4399-9128-7dd871094e8b"
      },
      "outputs": [
        {
          "data": {
            "image/png": "[encoded data removed]",
            "text/plain": [
              "<Figure size 1296x288 with 1 Axes>"
            ]
          },
          "metadata": {},
          "output_type": "display_data"
        }
      ],
      "source": [
        "y_pred_gru_non = scaler.inverse_transform(y_pred_gru_non)\n",
        "\n",
        "# plot prediction vs real price\n",
        "fig, ax = plt.subplots(figsize=(18, 4), sharex=True)\n",
        "\n",
        "plt.title(\"Predictions vs. Real Price (GRU(Non-Tensor Pipeline))\", fontsize=20)\n",
        "plt.ylabel('BTC', fontsize=18)\n",
        "plt.plot(y_pred_gru_non, color=\"#E91D9E\", linewidth=1.0)\n",
        "plt.plot(y_test_real, color=\"black\", linewidth=1.0)\n",
        "plt.legend([\"Test Predictions\", \"Real Price\"], loc=\"upper right\")\n",
        "plt.show()"
      ]
    },
    {
      "cell_type": "markdown",
      "metadata": {
        "id": "hlxUfOvPB_1q"
      },
      "source": [
        "### 9.4 LSTM With 50 Time Step/Sequence Length"
      ]
    },
    {
      "cell_type": "markdown",
      "metadata": {},
      "source": [
        "- Kita akan mencoba mengubah panjang time step menjadi 50, untuk mengetahui apakah model dapat memprediksi lebih baik jika memiliki informasi yang disimpan dalam dataset jauh lebih besar"
      ]
    },
    {
      "cell_type": "code",
      "execution_count": 133,
      "metadata": {
        "id": "bH_t3UwvB_1q"
      },
      "outputs": [],
      "source": [
        "sequence_length = 5\n",
        "\n",
        "def partition_dataset(sequence_length, data, pred):\n",
        "    x, y = [], []\n",
        "    data_len = data.shape[0]\n",
        "\n",
        "    for i in range(sequence_length, data_len):\n",
        "        x.append(data[i-sequence_length:i, 0]) \n",
        "        y.append(pred[i, 0]) \n",
        "    \n",
        "    x = np.array(x)\n",
        "    y = np.array(y)\n",
        "    return x, y\n",
        "    \n",
        "X_train_final_2, y_train_2 = partition_dataset(sequence_length, X_train_scaled, y_train_base)\n",
        "X_val_final_2, y_val_2 = partition_dataset(sequence_length, X_val_scaled, y_val_base)\n",
        "X_test_final_2, y_test_2 = partition_dataset(sequence_length, X_test_scaled, y_test_base)\n",
        "\n",
        "X_train_final_2 = X_train_final_2.reshape(X_train_final_2.shape[0], X_train_final_2.shape[1], 1)\n",
        "X_val_final_2 = X_val_final_2.reshape(X_val_final_2.shape[0], X_val_final_2.shape[1], 1)\n",
        "X_test_final_2 = X_test_final_2.reshape(X_test_final_2.shape[0], X_test_final_2.shape[1], 1)\n"
      ]
    },
    {
      "cell_type": "code",
      "execution_count": 158,
      "metadata": {
        "colab": {
          "base_uri": "https://localhost:8080/"
        },
        "id": "9_0BQMPVB_1r",
        "outputId": "fea4b5d7-ef2a-419f-e728-66ea3541196e"
      },
      "outputs": [
        {
          "name": "stdout",
          "output_type": "stream",
          "text": [
            "timesteps: 5, features: 1, neurons: 5\n",
            "Parameters: ['epochs 50', 'batch_size 128', 'patience 6', 'optimizer adam', 'loss mean_squared_error']\n",
            "Model: \"sequential_11\"\n",
            "_________________________________________________________________\n",
            " Layer (type)                Output Shape              Param #   \n",
            "=================================================================\n",
            " gru_6 (GRU)                 (None, None, 50)          7950      \n",
            "                                                                 \n",
            " gru_7 (GRU)                 (None, 10)                1860      \n",
            "                                                                 \n",
            " dropout (Dropout)           (None, 10)                0         \n",
            "                                                                 \n",
            " dense_9 (Dense)             (None, 1)                 11        \n",
            "                                                                 \n",
            "=================================================================\n",
            "Total params: 9,821\n",
            "Trainable params: 9,821\n",
            "Non-trainable params: 0\n",
            "_________________________________________________________________\n"
          ]
        }
      ],
      "source": [
        "lstm_24_seq = Sequential()\n",
        "\n",
        "n_neurons = X_train_final.shape[1] * X_train_final.shape[2]\n",
        "print('timesteps: ' + str(X_train_final.shape[1]) + ',' + ' features: ' + str(X_train_final.shape[2]) + ', neurons: ' + str(n_neurons))\n",
        "\n",
        "# The lstm_24_seq\n",
        "lstm_24_seq.add(GRU(50, return_sequences=True, input_shape=(None, X_train_final.shape[2]))) \n",
        "lstm_24_seq.add(GRU(10))\n",
        "lstm_24_seq.add(Dense(1, activation='linear'))\n",
        " \n",
        "# Hyperparameters\n",
        "optimizer='adam'; loss='mean_squared_error'; epochs = 50; patience = 6;\n",
        "parameter_list = ['epochs ' + str(epochs), 'batch_size ' + str(batch_size), 'patience ' + str(patience), 'optimizer ' + str(optimizer), 'loss ' + str(loss)]\n",
        "print('Parameters: ' + str(parameter_list))\n",
        "\n",
        "lstm_24_seq.compile(optimizer=optimizer, loss=loss, metrics=['mean_squared_error'])\n",
        "\n",
        "lstm_24_seq.summary()"
      ]
    },
    {
      "cell_type": "code",
      "execution_count": 159,
      "metadata": {
        "id": "JQL4SPhrB_1r"
      },
      "outputs": [
        {
          "name": "stderr",
          "output_type": "stream",
          "text": [
            "2022-04-04 01:41:00.592139: I tensorflow/core/grappler/optimizers/custom_graph_optimizer_registry.cc:113] Plugin optimizer for device_type GPU is enabled.\n",
            "2022-04-04 01:41:00.844838: I tensorflow/core/grappler/optimizers/custom_graph_optimizer_registry.cc:113] Plugin optimizer for device_type GPU is enabled.\n",
            "2022-04-04 01:41:00.928727: I tensorflow/core/grappler/optimizers/custom_graph_optimizer_registry.cc:113] Plugin optimizer for device_type GPU is enabled.\n",
            "2022-04-04 01:41:01.215934: I tensorflow/core/grappler/optimizers/custom_graph_optimizer_registry.cc:113] Plugin optimizer for device_type GPU is enabled.\n",
            "2022-04-04 01:41:01.503409: I tensorflow/core/grappler/optimizers/custom_graph_optimizer_registry.cc:113] Plugin optimizer for device_type GPU is enabled.\n",
            "2022-04-04 01:41:02.954353: I tensorflow/core/grappler/optimizers/custom_graph_optimizer_registry.cc:113] Plugin optimizer for device_type GPU is enabled.\n",
            "2022-04-04 01:41:03.134242: I tensorflow/core/grappler/optimizers/custom_graph_optimizer_registry.cc:113] Plugin optimizer for device_type GPU is enabled.\n",
            "2022-04-04 01:41:03.207967: I tensorflow/core/grappler/optimizers/custom_graph_optimizer_registry.cc:113] Plugin optimizer for device_type GPU is enabled.\n"
          ]
        }
      ],
      "source": [
        "lstm_24_seq_hist = lstm_24_seq.fit(\n",
        "                    X_train_final_2,\n",
        "                    y_train_2,\n",
        "                    epochs=epochs,\n",
        "                    batch_size=batch_size,\n",
        "                    validation_data=(X_val_final_2, y_val_2),\n",
        "                    verbose=0\n",
        "                )"
      ]
    },
    {
      "cell_type": "code",
      "execution_count": 160,
      "metadata": {
        "colab": {
          "base_uri": "https://localhost:8080/",
          "height": 283
        },
        "id": "boxrDFSHB_1r",
        "outputId": "c5d08c87-d7ad-435c-a67f-61793c9e794f"
      },
      "outputs": [
        {
          "data": {
            "image/png": "[encoded data removed]",
            "text/plain": [
              "<Figure size 432x288 with 1 Axes>"
            ]
          },
          "metadata": {},
          "output_type": "display_data"
        }
      ],
      "source": [
        "# Visualization of Training Loss and Validation Loss\n",
        "\n",
        "plot_learning_curves(lstm_24_seq_hist.history[\"loss\"], lstm_24_seq_hist.history[\"val_loss\"])\n",
        "plt.show()"
      ]
    },
    {
      "cell_type": "code",
      "execution_count": 161,
      "metadata": {
        "colab": {
          "base_uri": "https://localhost:8080/"
        },
        "id": "vqGktGdnB_1r",
        "outputId": "75137f0b-f09b-41e6-aede-d845b652b7bd"
      },
      "outputs": [
        {
          "name": "stdout",
          "output_type": "stream",
          "text": [
            "32/32 [==============================] - 0s 6ms/step - loss: 2.0930e-04 - mean_squared_error: 2.0930e-04\n"
          ]
        }
      ],
      "source": [
        "mse_lstm_24_seq = lstm_24_seq.evaluate(X_val_final_2, y_val_2)\n",
        "rmse_lstm_24_seq = np.sqrt(mse_lstm_24_seq)"
      ]
    },
    {
      "cell_type": "code",
      "execution_count": 162,
      "metadata": {
        "colab": {
          "base_uri": "https://localhost:8080/",
          "height": 269
        },
        "id": "mdWWi8MVB_1r",
        "outputId": "ef1a09d8-5061-4d88-84c1-6fdb8e03816a"
      },
      "outputs": [
        {
          "name": "stderr",
          "output_type": "stream",
          "text": [
            "2022-04-04 01:41:35.682069: I tensorflow/core/grappler/optimizers/custom_graph_optimizer_registry.cc:113] Plugin optimizer for device_type GPU is enabled.\n",
            "2022-04-04 01:41:35.740202: I tensorflow/core/grappler/optimizers/custom_graph_optimizer_registry.cc:113] Plugin optimizer for device_type GPU is enabled.\n",
            "2022-04-04 01:41:35.769654: I tensorflow/core/grappler/optimizers/custom_graph_optimizer_registry.cc:113] Plugin optimizer for device_type GPU is enabled.\n"
          ]
        },
        {
          "data": {
            "text/html": [
              "<div>\n",
              "<style scoped>\n",
              "    .dataframe tbody tr th:only-of-type {\n",
              "        vertical-align: middle;\n",
              "    }\n",
              "\n",
              "    .dataframe tbody tr th {\n",
              "        vertical-align: top;\n",
              "    }\n",
              "\n",
              "    .dataframe thead th {\n",
              "        text-align: right;\n",
              "    }\n",
              "</style>\n",
              "<table border=\"1\" class=\"dataframe\">\n",
              "  <thead>\n",
              "    <tr style=\"text-align: right;\">\n",
              "      <th></th>\n",
              "      <th>Model</th>\n",
              "      <th>Details</th>\n",
              "      <th>MSE</th>\n",
              "      <th>RMSE</th>\n",
              "      <th>MAE(Test)</th>\n",
              "    </tr>\n",
              "  </thead>\n",
              "  <tbody>\n",
              "    <tr>\n",
              "      <th>0</th>\n",
              "      <td>Naive Forecasting</td>\n",
              "      <td>Difference of Last Value in X val with y val</td>\n",
              "      <td>0.005681</td>\n",
              "      <td>0.075372</td>\n",
              "      <td>0.038119</td>\n",
              "    </tr>\n",
              "    <tr>\n",
              "      <th>1</th>\n",
              "      <td>Base Deep RNN</td>\n",
              "      <td>Neuron=5, Timestep=5, Epoch=35, Multi Layers</td>\n",
              "      <td>0.000672</td>\n",
              "      <td>0.025917</td>\n",
              "      <td>0.031051</td>\n",
              "    </tr>\n",
              "    <tr>\n",
              "      <th>2</th>\n",
              "      <td>Improved Deep RNN - Dense Output</td>\n",
              "      <td>Neuron=5, Timestep=5, Epoch=50, Batch_size=128...</td>\n",
              "      <td>0.001506</td>\n",
              "      <td>0.038801</td>\n",
              "      <td>0.046645</td>\n",
              "    </tr>\n",
              "    <tr>\n",
              "      <th>3</th>\n",
              "      <td>LSTM - Pipeline Dataset</td>\n",
              "      <td>Neuron=5, Timestep=5, Epoch=75, Batch_size=128...</td>\n",
              "      <td>0.000726</td>\n",
              "      <td>0.026943</td>\n",
              "      <td>0.025866</td>\n",
              "    </tr>\n",
              "    <tr>\n",
              "      <th>4</th>\n",
              "      <td>LSTM - Non-Pipeline Dataset</td>\n",
              "      <td>Without tensorflow pipeline dataset. The rest ...</td>\n",
              "      <td>0.000252</td>\n",
              "      <td>0.015883</td>\n",
              "      <td>0.007987</td>\n",
              "    </tr>\n",
              "    <tr>\n",
              "      <th>5</th>\n",
              "      <td>GRU - Non-Pipeline Dataset</td>\n",
              "      <td>Without tensorflow pipeline dataset. The rest ...</td>\n",
              "      <td>0.000141</td>\n",
              "      <td>0.011895</td>\n",
              "      <td>0.006088</td>\n",
              "    </tr>\n",
              "    <tr>\n",
              "      <th>6</th>\n",
              "      <td>LSTM - 50 Sequence Length</td>\n",
              "      <td>Timestep=50, without tensorflow pipeline datas...</td>\n",
              "      <td>0.000209</td>\n",
              "      <td>0.014467</td>\n",
              "      <td>0.007058</td>\n",
              "    </tr>\n",
              "  </tbody>\n",
              "</table>\n",
              "</div>"
            ],
            "text/plain": [
              "                              Model  \\\n",
              "0                 Naive Forecasting   \n",
              "1                     Base Deep RNN   \n",
              "2  Improved Deep RNN - Dense Output   \n",
              "3           LSTM - Pipeline Dataset   \n",
              "4       LSTM - Non-Pipeline Dataset   \n",
              "5        GRU - Non-Pipeline Dataset   \n",
              "6         LSTM - 50 Sequence Length   \n",
              "\n",
              "                                             Details       MSE      RMSE  \\\n",
              "0       Difference of Last Value in X val with y val  0.005681  0.075372   \n",
              "1       Neuron=5, Timestep=5, Epoch=35, Multi Layers  0.000672  0.025917   \n",
              "2  Neuron=5, Timestep=5, Epoch=50, Batch_size=128...  0.001506  0.038801   \n",
              "3  Neuron=5, Timestep=5, Epoch=75, Batch_size=128...  0.000726  0.026943   \n",
              "4  Without tensorflow pipeline dataset. The rest ...  0.000252  0.015883   \n",
              "5  Without tensorflow pipeline dataset. The rest ...  0.000141  0.011895   \n",
              "6  Timestep=50, without tensorflow pipeline datas...  0.000209  0.014467   \n",
              "\n",
              "   MAE(Test)  \n",
              "0   0.038119  \n",
              "1   0.031051  \n",
              "2   0.046645  \n",
              "3   0.025866  \n",
              "4   0.007987  \n",
              "5   0.006088  \n",
              "6   0.007058  "
            ]
          },
          "execution_count": 162,
          "metadata": {},
          "output_type": "execute_result"
        }
      ],
      "source": [
        "y_pred_lstm_24 = lstm_24_seq.predict(X_test_final_2)\n",
        "mae_lstm_24_seq = mean_absolute_error(y_test_2, y_pred_lstm_24)\n",
        "evaluation_metrics.loc[6] = ['LSTM - 50 Sequence Length', 'Timestep=50, without tensorflow pipeline dataset. The rest is same', mse_lstm_24_seq[0], rmse_lstm_24_seq[0], mae_lstm_24_seq]\n",
        "evaluation_metrics"
      ]
    },
    {
      "cell_type": "markdown",
      "metadata": {},
      "source": [
        "- MSE pada validation set maupun MAE pada Training set mendapatkan nilai loss yang lebih kecil jika dibandingkan dengan model yang sama namun memiliki sequence atau time step yang lebih pendek"
      ]
    },
    {
      "cell_type": "code",
      "execution_count": 163,
      "metadata": {
        "colab": {
          "base_uri": "https://localhost:8080/",
          "height": 270
        },
        "id": "BWK4LY7lB_1s",
        "outputId": "f94eeaf0-983a-40d3-f455-38ae91a374b8"
      },
      "outputs": [
        {
          "data": {
            "image/png": "[encoded data removed]",
            "text/plain": [
              "<Figure size 1296x288 with 1 Axes>"
            ]
          },
          "metadata": {},
          "output_type": "display_data"
        }
      ],
      "source": [
        "y_pred_lstm_24 = scaler.inverse_transform(y_pred_lstm_24)\n",
        "y_test_2_real = scaler.inverse_transform(y_test_2.reshape(-1, 1))\n",
        "\n",
        "# plot prediction vs real price\n",
        "fig, ax = plt.subplots(figsize=(18, 4), sharex=True)\n",
        "\n",
        "plt.title(\"Predictions vs. Real Price (LSTM(50 Time Step))\", fontsize=20)\n",
        "plt.ylabel('BTC', fontsize=18)\n",
        "plt.plot(y_pred_lstm_24, color=\"#E91D9E\", linewidth=1.0)\n",
        "plt.plot(y_test_2_real, color=\"black\", linewidth=1.0)\n",
        "plt.legend([\"Test Predictions\", \"Real Price\"], loc=\"upper right\")\n",
        "plt.show()"
      ]
    },
    {
      "cell_type": "markdown",
      "metadata": {},
      "source": [
        "- Model juga terlihat memprediksi harga lebih mendekati dengan harga aslinya jika kita bandingkan dengan model-model sebelumnya"
      ]
    },
    {
      "cell_type": "markdown",
      "metadata": {},
      "source": [
        "### 9.5. Evaluasi Nilai SME LSTM & GRU LSTM 5 Seq"
      ]
    },
    {
      "cell_type": "code",
      "execution_count": 164,
      "metadata": {},
      "outputs": [
        {
          "name": "stdout",
          "output_type": "stream",
          "text": [
            "314.65381326687145\n"
          ]
        }
      ],
      "source": [
        "print(np.mean(np.abs(y_test_real - y_pred_lstm_non)))"
      ]
    },
    {
      "cell_type": "code",
      "execution_count": 165,
      "metadata": {},
      "outputs": [
        {
          "name": "stdout",
          "output_type": "stream",
          "text": [
            "0.6826909031248739\n"
          ]
        }
      ],
      "source": [
        "print(np.mean(np.abs(y_test_real - y_pred_lstm_non)/y_test_real)*100)"
      ]
    },
    {
      "cell_type": "code",
      "execution_count": 166,
      "metadata": {},
      "outputs": [
        {
          "name": "stdout",
          "output_type": "stream",
          "text": [
            "239.8447450153373\n"
          ]
        }
      ],
      "source": [
        "print(np.mean(np.abs(y_test_real - y_pred_gru_non)))"
      ]
    },
    {
      "cell_type": "code",
      "execution_count": 167,
      "metadata": {},
      "outputs": [
        {
          "name": "stdout",
          "output_type": "stream",
          "text": [
            "0.5199681283123125\n"
          ]
        }
      ],
      "source": [
        "print(np.mean(np.abs(y_test_real - y_pred_gru_non)/y_test_real)*100)"
      ]
    },
    {
      "cell_type": "markdown",
      "metadata": {},
      "source": [
        "### 9.6. Evaluasi Nilai LSTM 50 Seq"
      ]
    },
    {
      "cell_type": "code",
      "execution_count": 168,
      "metadata": {},
      "outputs": [
        {
          "name": "stdout",
          "output_type": "stream",
          "text": [
            "278.06461368865047\n"
          ]
        }
      ],
      "source": [
        "print(np.mean(np.abs(y_test_2_real - y_pred_lstm_24)))"
      ]
    },
    {
      "cell_type": "code",
      "execution_count": 169,
      "metadata": {},
      "outputs": [
        {
          "name": "stdout",
          "output_type": "stream",
          "text": [
            "0.6035979421710769\n"
          ]
        }
      ],
      "source": [
        "print(np.mean(np.abs(y_test_2_real - y_pred_lstm_24)/y_test_2_real)*100)"
      ]
    },
    {
      "cell_type": "markdown",
      "metadata": {
        "id": "IgQmfQwgB_1s"
      },
      "source": [
        "## **10. Model Saving**"
      ]
    },
    {
      "cell_type": "markdown",
      "metadata": {
        "id": "j6gTFiTIB_1s"
      },
      "source": [
        "### 10.1. Choose The Best Model"
      ]
    },
    {
      "cell_type": "markdown",
      "metadata": {
        "id": "JnjVKV2AB_1x"
      },
      "source": [
        "## **11. Conclusion**"
      ]
    },
    {
      "cell_type": "markdown",
      "metadata": {
        "id": "zRMha_StB_1x"
      },
      "source": [
        "Dari sisi model:\n",
        "- Kita telah berhasil membuat berbagai macam model dimana kita memilih model `LSTM - 50 Sequence Length` sebagai model terbaik dan akan digunakan sebagai model yang akan memprediksi harga terkini\n",
        "\n",
        "Dari sisi dataset:\n",
        "- Pergerakan harga BTC cenderung bergerak dengan alasan-alasan fundamental yang mendasarinya seperti entah berita baik ataupun berita buruk yang terjadi\n",
        "- BTC terlihat memiliki volatilitas yang tinggi dimana nilai terlihat dari varians/std-nya cukup tinggi\n",
        "\n",
        "Pengembangan lebih lanjut:\n",
        "- Dengan mengetahui bahwa pergerakan BTC juga dipengaruhi oleh sentimen-sentimen yang terjadi khususnya pada komunitas cryptocurrency, nampaknya akan dijadikan sebuah pertimbangan dengan memasukan analisis sebagai salah satu penentu prediksi pergerakan harga BTC\n",
        "- Time Frame yang lebih bervariasi(1 hari, 1 bulan ataupun bahkan 5 menit) juga dapat dimasukkan untuk mengembangkan model lainnya yang disesuaikan dengan jenis atau cara trading yang dilakukan oleh tiap-tiap individu"
      ]
    }
  ],
  "metadata": {
    "accelerator": "GPU",
    "colab": {
      "collapsed_sections": [
        "miVjiZH8B_1c",
        "GVj8Hrz_B_1d",
        "46wQDYNoB_1d",
        "e2u0RDVbB_1e",
        "fdfk5RsGB_1f",
        "jJjd3HwTB_1g",
        "_64fegCdB_1g",
        "nLaIIezGB_1s",
        "8ToXyS1HB_1t"
      ],
      "name": "h8dsft_Milestone2P2_Krisbiantoro.ipynb",
      "provenance": []
    },
    "interpreter": {
      "hash": "73eb498eb90fcb4cd5ca2e11403bee4056c1d9ff3c8b65c8f5caf4c70f29fd6a"
    },
    "kernelspec": {
      "display_name": "Python 3.9.7 ('base')",
      "language": "python",
      "name": "python3"
    },
    "language_info": {
      "codemirror_mode": {
        "name": "ipython",
        "version": 3
      },
      "file_extension": ".py",
      "mimetype": "text/x-python",
      "name": "python",
      "nbconvert_exporter": "python",
      "pygments_lexer": "ipython3",
      "version": "3.9.7"
    },
    "orig_nbformat": 4
  },
  "nbformat": 4,
  "nbformat_minor": 0
}
