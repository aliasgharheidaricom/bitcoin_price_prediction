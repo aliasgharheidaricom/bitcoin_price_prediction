{
 "cells": [
  {
   "cell_type": "markdown",
   "metadata": {},
   "source": [
    "# **Import Libraries**"
   ]
  },
  {
   "cell_type": "code",
   "execution_count": 1,
   "metadata": {},
   "outputs": [],
   "source": [
    "import pandas as pd\n",
    "import matplotlib as mpl\n",
    "import matplotlib.pyplot as plt\n",
    "import seaborn as sns\n",
    "import numpy as np\n",
    "from sklearn.preprocessing import MinMaxScaler,StandardScaler, RobustScaler\n",
    "from sklearn.decomposition import PCA\n",
    "from statsmodels.stats.outliers_influence import variance_inflation_factor\n",
    "from sklearn.pipeline import make_pipeline\n",
    "from sklearn.compose import ColumnTransformer\n",
    "import pickle\n",
    "import tensorflow as tf\n",
    "import math\n",
    "from tensorflow.keras.models import Sequential\n",
    "from tensorflow.keras import layers\n",
    "from keras.callbacks import EarlyStopping\n",
    "from keras.layers import LSTM, Dense, Dropout, Activation, Flatten, GRU\n",
    "from keras import optimizers\n",
    "from sklearn.metrics import mean_absolute_error, mean_squared_error, mean_absolute_percentage_error\n",
    "import mplfinance as fplt\n",
    "\n",
    "pd.options.mode.chained_assignment = None"
   ]
  },
  {
   "cell_type": "markdown",
   "metadata": {},
   "source": [
    "# **Data Loading**"
   ]
  },
  {
   "cell_type": "code",
   "execution_count": 2,
   "metadata": {},
   "outputs": [],
   "source": [
    "df=pd.read_csv('BTCUSDT_1h_2021_2022_edited.csv')"
   ]
  },
  {
   "cell_type": "code",
   "execution_count": 3,
   "metadata": {},
   "outputs": [
    {
     "data": {
      "text/html": [
       "<div>\n",
       "<style scoped>\n",
       "    .dataframe tbody tr th:only-of-type {\n",
       "        vertical-align: middle;\n",
       "    }\n",
       "\n",
       "    .dataframe tbody tr th {\n",
       "        vertical-align: top;\n",
       "    }\n",
       "\n",
       "    .dataframe thead th {\n",
       "        text-align: right;\n",
       "    }\n",
       "</style>\n",
       "<table border=\"1\" class=\"dataframe\">\n",
       "  <thead>\n",
       "    <tr style=\"text-align: right;\">\n",
       "      <th></th>\n",
       "      <th>Unnamed: 0</th>\n",
       "      <th>open_time</th>\n",
       "      <th>open</th>\n",
       "      <th>high</th>\n",
       "      <th>low</th>\n",
       "      <th>close</th>\n",
       "      <th>volume</th>\n",
       "      <th>close_time</th>\n",
       "      <th>quote_asset_volume</th>\n",
       "      <th>number_of_trades</th>\n",
       "      <th>taker_buy_asset_volume</th>\n",
       "      <th>taker_buy_quote_asset_volume</th>\n",
       "      <th>ignore</th>\n",
       "    </tr>\n",
       "  </thead>\n",
       "  <tbody>\n",
       "    <tr>\n",
       "      <th>0</th>\n",
       "      <td>0</td>\n",
       "      <td>1612137600000</td>\n",
       "      <td>33092.97</td>\n",
       "      <td>33106.33</td>\n",
       "      <td>32296.16</td>\n",
       "      <td>32546.27</td>\n",
       "      <td>4383.926122</td>\n",
       "      <td>1612141199999</td>\n",
       "      <td>1.427372e+08</td>\n",
       "      <td>98763</td>\n",
       "      <td>2074.600069</td>\n",
       "      <td>6.750233e+07</td>\n",
       "      <td>0</td>\n",
       "    </tr>\n",
       "    <tr>\n",
       "      <th>1</th>\n",
       "      <td>1</td>\n",
       "      <td>1612141200000</td>\n",
       "      <td>32546.32</td>\n",
       "      <td>33560.90</td>\n",
       "      <td>32476.34</td>\n",
       "      <td>33430.29</td>\n",
       "      <td>3713.649492</td>\n",
       "      <td>1612144799999</td>\n",
       "      <td>1.229016e+08</td>\n",
       "      <td>76863</td>\n",
       "      <td>1958.691774</td>\n",
       "      <td>6.482048e+07</td>\n",
       "      <td>0</td>\n",
       "    </tr>\n",
       "    <tr>\n",
       "      <th>2</th>\n",
       "      <td>2</td>\n",
       "      <td>1612144800000</td>\n",
       "      <td>33425.19</td>\n",
       "      <td>33830.00</td>\n",
       "      <td>33222.88</td>\n",
       "      <td>33649.73</td>\n",
       "      <td>3694.931629</td>\n",
       "      <td>1612148399999</td>\n",
       "      <td>1.241016e+08</td>\n",
       "      <td>70196</td>\n",
       "      <td>2026.270613</td>\n",
       "      <td>6.804863e+07</td>\n",
       "      <td>0</td>\n",
       "    </tr>\n",
       "    <tr>\n",
       "      <th>3</th>\n",
       "      <td>3</td>\n",
       "      <td>1612148400000</td>\n",
       "      <td>33646.37</td>\n",
       "      <td>33776.81</td>\n",
       "      <td>33470.00</td>\n",
       "      <td>33573.97</td>\n",
       "      <td>2882.141795</td>\n",
       "      <td>1612151999999</td>\n",
       "      <td>9.689886e+07</td>\n",
       "      <td>65467</td>\n",
       "      <td>1502.164716</td>\n",
       "      <td>5.050666e+07</td>\n",
       "      <td>0</td>\n",
       "    </tr>\n",
       "    <tr>\n",
       "      <th>4</th>\n",
       "      <td>4</td>\n",
       "      <td>1612152000000</td>\n",
       "      <td>33573.25</td>\n",
       "      <td>33943.55</td>\n",
       "      <td>33423.43</td>\n",
       "      <td>33558.25</td>\n",
       "      <td>3206.054328</td>\n",
       "      <td>1612155599999</td>\n",
       "      <td>1.079852e+08</td>\n",
       "      <td>82376</td>\n",
       "      <td>1739.632601</td>\n",
       "      <td>5.861244e+07</td>\n",
       "      <td>0</td>\n",
       "    </tr>\n",
       "    <tr>\n",
       "      <th>...</th>\n",
       "      <td>...</td>\n",
       "      <td>...</td>\n",
       "      <td>...</td>\n",
       "      <td>...</td>\n",
       "      <td>...</td>\n",
       "      <td>...</td>\n",
       "      <td>...</td>\n",
       "      <td>...</td>\n",
       "      <td>...</td>\n",
       "      <td>...</td>\n",
       "      <td>...</td>\n",
       "      <td>...</td>\n",
       "      <td>...</td>\n",
       "    </tr>\n",
       "    <tr>\n",
       "      <th>10164</th>\n",
       "      <td>10164</td>\n",
       "      <td>1648774800000</td>\n",
       "      <td>45542.16</td>\n",
       "      <td>45542.17</td>\n",
       "      <td>44868.00</td>\n",
       "      <td>44923.77</td>\n",
       "      <td>4127.996750</td>\n",
       "      <td>1648778399999</td>\n",
       "      <td>1.863656e+08</td>\n",
       "      <td>76504</td>\n",
       "      <td>1892.750200</td>\n",
       "      <td>8.544520e+07</td>\n",
       "      <td>0</td>\n",
       "    </tr>\n",
       "    <tr>\n",
       "      <th>10165</th>\n",
       "      <td>10165</td>\n",
       "      <td>1648778400000</td>\n",
       "      <td>44923.77</td>\n",
       "      <td>45049.03</td>\n",
       "      <td>44200.00</td>\n",
       "      <td>44392.71</td>\n",
       "      <td>5752.165350</td>\n",
       "      <td>1648781999999</td>\n",
       "      <td>2.567090e+08</td>\n",
       "      <td>108602</td>\n",
       "      <td>2428.047400</td>\n",
       "      <td>1.084109e+08</td>\n",
       "      <td>0</td>\n",
       "    </tr>\n",
       "    <tr>\n",
       "      <th>10166</th>\n",
       "      <td>10166</td>\n",
       "      <td>1648782000000</td>\n",
       "      <td>44392.71</td>\n",
       "      <td>44599.99</td>\n",
       "      <td>44273.44</td>\n",
       "      <td>44599.98</td>\n",
       "      <td>2692.585410</td>\n",
       "      <td>1648785599999</td>\n",
       "      <td>1.196809e+08</td>\n",
       "      <td>60370</td>\n",
       "      <td>1445.076020</td>\n",
       "      <td>6.423041e+07</td>\n",
       "      <td>0</td>\n",
       "    </tr>\n",
       "    <tr>\n",
       "      <th>10167</th>\n",
       "      <td>10167</td>\n",
       "      <td>1648785600000</td>\n",
       "      <td>44599.98</td>\n",
       "      <td>44780.01</td>\n",
       "      <td>44547.11</td>\n",
       "      <td>44642.44</td>\n",
       "      <td>1723.223760</td>\n",
       "      <td>1648789199999</td>\n",
       "      <td>7.697936e+07</td>\n",
       "      <td>47181</td>\n",
       "      <td>892.215700</td>\n",
       "      <td>3.985891e+07</td>\n",
       "      <td>0</td>\n",
       "    </tr>\n",
       "    <tr>\n",
       "      <th>10168</th>\n",
       "      <td>10168</td>\n",
       "      <td>1648789200000</td>\n",
       "      <td>44642.44</td>\n",
       "      <td>44789.99</td>\n",
       "      <td>44583.23</td>\n",
       "      <td>44646.16</td>\n",
       "      <td>1456.347060</td>\n",
       "      <td>1648792799999</td>\n",
       "      <td>6.507327e+07</td>\n",
       "      <td>38119</td>\n",
       "      <td>753.834350</td>\n",
       "      <td>3.368236e+07</td>\n",
       "      <td>0</td>\n",
       "    </tr>\n",
       "  </tbody>\n",
       "</table>\n",
       "<p>10169 rows × 13 columns</p>\n",
       "</div>"
      ],
      "text/plain": [
       "       Unnamed: 0      open_time      open      high       low     close  \\\n",
       "0               0  1612137600000  33092.97  33106.33  32296.16  32546.27   \n",
       "1               1  1612141200000  32546.32  33560.90  32476.34  33430.29   \n",
       "2               2  1612144800000  33425.19  33830.00  33222.88  33649.73   \n",
       "3               3  1612148400000  33646.37  33776.81  33470.00  33573.97   \n",
       "4               4  1612152000000  33573.25  33943.55  33423.43  33558.25   \n",
       "...           ...            ...       ...       ...       ...       ...   \n",
       "10164       10164  1648774800000  45542.16  45542.17  44868.00  44923.77   \n",
       "10165       10165  1648778400000  44923.77  45049.03  44200.00  44392.71   \n",
       "10166       10166  1648782000000  44392.71  44599.99  44273.44  44599.98   \n",
       "10167       10167  1648785600000  44599.98  44780.01  44547.11  44642.44   \n",
       "10168       10168  1648789200000  44642.44  44789.99  44583.23  44646.16   \n",
       "\n",
       "            volume     close_time  quote_asset_volume  number_of_trades  \\\n",
       "0      4383.926122  1612141199999        1.427372e+08             98763   \n",
       "1      3713.649492  1612144799999        1.229016e+08             76863   \n",
       "2      3694.931629  1612148399999        1.241016e+08             70196   \n",
       "3      2882.141795  1612151999999        9.689886e+07             65467   \n",
       "4      3206.054328  1612155599999        1.079852e+08             82376   \n",
       "...            ...            ...                 ...               ...   \n",
       "10164  4127.996750  1648778399999        1.863656e+08             76504   \n",
       "10165  5752.165350  1648781999999        2.567090e+08            108602   \n",
       "10166  2692.585410  1648785599999        1.196809e+08             60370   \n",
       "10167  1723.223760  1648789199999        7.697936e+07             47181   \n",
       "10168  1456.347060  1648792799999        6.507327e+07             38119   \n",
       "\n",
       "       taker_buy_asset_volume  taker_buy_quote_asset_volume  ignore  \n",
       "0                 2074.600069                  6.750233e+07       0  \n",
       "1                 1958.691774                  6.482048e+07       0  \n",
       "2                 2026.270613                  6.804863e+07       0  \n",
       "3                 1502.164716                  5.050666e+07       0  \n",
       "4                 1739.632601                  5.861244e+07       0  \n",
       "...                       ...                           ...     ...  \n",
       "10164             1892.750200                  8.544520e+07       0  \n",
       "10165             2428.047400                  1.084109e+08       0  \n",
       "10166             1445.076020                  6.423041e+07       0  \n",
       "10167              892.215700                  3.985891e+07       0  \n",
       "10168              753.834350                  3.368236e+07       0  \n",
       "\n",
       "[10169 rows x 13 columns]"
      ]
     },
     "execution_count": 3,
     "metadata": {},
     "output_type": "execute_result"
    }
   ],
   "source": [
    "df"
   ]
  },
  {
   "cell_type": "code",
   "execution_count": 4,
   "metadata": {},
   "outputs": [
    {
     "name": "stdout",
     "output_type": "stream",
     "text": [
      "<class 'pandas.core.frame.DataFrame'>\n",
      "RangeIndex: 10169 entries, 0 to 10168\n",
      "Data columns (total 13 columns):\n",
      " #   Column                        Non-Null Count  Dtype  \n",
      "---  ------                        --------------  -----  \n",
      " 0   Unnamed: 0                    10169 non-null  int64  \n",
      " 1   open_time                     10169 non-null  int64  \n",
      " 2   open                          10169 non-null  float64\n",
      " 3   high                          10169 non-null  float64\n",
      " 4   low                           10169 non-null  float64\n",
      " 5   close                         10169 non-null  float64\n",
      " 6   volume                        10169 non-null  float64\n",
      " 7   close_time                    10169 non-null  int64  \n",
      " 8   quote_asset_volume            10169 non-null  float64\n",
      " 9   number_of_trades              10169 non-null  int64  \n",
      " 10  taker_buy_asset_volume        10169 non-null  float64\n",
      " 11  taker_buy_quote_asset_volume  10169 non-null  float64\n",
      " 12  ignore                        10169 non-null  int64  \n",
      "dtypes: float64(8), int64(5)\n",
      "memory usage: 1.0 MB\n"
     ]
    }
   ],
   "source": [
    "df.info()"
   ]
  },
  {
   "cell_type": "code",
   "execution_count": 5,
   "metadata": {},
   "outputs": [
    {
     "data": {
      "text/html": [
       "<div>\n",
       "<style scoped>\n",
       "    .dataframe tbody tr th:only-of-type {\n",
       "        vertical-align: middle;\n",
       "    }\n",
       "\n",
       "    .dataframe tbody tr th {\n",
       "        vertical-align: top;\n",
       "    }\n",
       "\n",
       "    .dataframe thead th {\n",
       "        text-align: right;\n",
       "    }\n",
       "</style>\n",
       "<table border=\"1\" class=\"dataframe\">\n",
       "  <thead>\n",
       "    <tr style=\"text-align: right;\">\n",
       "      <th></th>\n",
       "      <th>Unnamed: 0</th>\n",
       "      <th>open_time</th>\n",
       "      <th>open</th>\n",
       "      <th>high</th>\n",
       "      <th>low</th>\n",
       "      <th>close</th>\n",
       "      <th>volume</th>\n",
       "      <th>close_time</th>\n",
       "      <th>quote_asset_volume</th>\n",
       "      <th>number_of_trades</th>\n",
       "      <th>taker_buy_asset_volume</th>\n",
       "      <th>taker_buy_quote_asset_volume</th>\n",
       "      <th>ignore</th>\n",
       "    </tr>\n",
       "  </thead>\n",
       "  <tbody>\n",
       "    <tr>\n",
       "      <th>count</th>\n",
       "      <td>10169.000000</td>\n",
       "      <td>1.016900e+04</td>\n",
       "      <td>10169.000000</td>\n",
       "      <td>10169.000000</td>\n",
       "      <td>10169.000000</td>\n",
       "      <td>10169.000000</td>\n",
       "      <td>10169.000000</td>\n",
       "      <td>1.016900e+04</td>\n",
       "      <td>1.016900e+04</td>\n",
       "      <td>10169.000000</td>\n",
       "      <td>10169.000000</td>\n",
       "      <td>1.016900e+04</td>\n",
       "      <td>10169.0</td>\n",
       "    </tr>\n",
       "    <tr>\n",
       "      <th>mean</th>\n",
       "      <td>5084.000000</td>\n",
       "      <td>1.630472e+12</td>\n",
       "      <td>46994.786758</td>\n",
       "      <td>47269.287659</td>\n",
       "      <td>46705.732727</td>\n",
       "      <td>46995.913827</td>\n",
       "      <td>2569.873315</td>\n",
       "      <td>1.630476e+12</td>\n",
       "      <td>1.181009e+08</td>\n",
       "      <td>68965.474875</td>\n",
       "      <td>1265.283757</td>\n",
       "      <td>5.817753e+07</td>\n",
       "      <td>0.0</td>\n",
       "    </tr>\n",
       "    <tr>\n",
       "      <th>std</th>\n",
       "      <td>2935.681778</td>\n",
       "      <td>1.058312e+10</td>\n",
       "      <td>8950.931672</td>\n",
       "      <td>8970.962023</td>\n",
       "      <td>8925.753846</td>\n",
       "      <td>8949.916235</td>\n",
       "      <td>2187.496579</td>\n",
       "      <td>1.058312e+10</td>\n",
       "      <td>9.463427e+07</td>\n",
       "      <td>45077.328052</td>\n",
       "      <td>1068.576295</td>\n",
       "      <td>4.650215e+07</td>\n",
       "      <td>0.0</td>\n",
       "    </tr>\n",
       "    <tr>\n",
       "      <th>min</th>\n",
       "      <td>0.000000</td>\n",
       "      <td>1.612138e+12</td>\n",
       "      <td>29239.000000</td>\n",
       "      <td>29706.830000</td>\n",
       "      <td>28805.000000</td>\n",
       "      <td>29238.990000</td>\n",
       "      <td>0.000000</td>\n",
       "      <td>1.612141e+12</td>\n",
       "      <td>0.000000e+00</td>\n",
       "      <td>0.000000</td>\n",
       "      <td>0.000000</td>\n",
       "      <td>0.000000e+00</td>\n",
       "      <td>0.0</td>\n",
       "    </tr>\n",
       "    <tr>\n",
       "      <th>25%</th>\n",
       "      <td>2542.000000</td>\n",
       "      <td>1.621314e+12</td>\n",
       "      <td>39356.920000</td>\n",
       "      <td>39600.000000</td>\n",
       "      <td>39078.500000</td>\n",
       "      <td>39357.030000</td>\n",
       "      <td>1308.592197</td>\n",
       "      <td>1.621318e+12</td>\n",
       "      <td>6.066155e+07</td>\n",
       "      <td>39820.000000</td>\n",
       "      <td>642.922300</td>\n",
       "      <td>2.942543e+07</td>\n",
       "      <td>0.0</td>\n",
       "    </tr>\n",
       "    <tr>\n",
       "      <th>50%</th>\n",
       "      <td>5084.000000</td>\n",
       "      <td>1.630480e+12</td>\n",
       "      <td>46833.480000</td>\n",
       "      <td>47096.960000</td>\n",
       "      <td>46543.000000</td>\n",
       "      <td>46833.480000</td>\n",
       "      <td>1991.740782</td>\n",
       "      <td>1.630483e+12</td>\n",
       "      <td>9.395321e+07</td>\n",
       "      <td>57615.000000</td>\n",
       "      <td>981.935259</td>\n",
       "      <td>4.627915e+07</td>\n",
       "      <td>0.0</td>\n",
       "    </tr>\n",
       "    <tr>\n",
       "      <th>75%</th>\n",
       "      <td>7626.000000</td>\n",
       "      <td>1.639638e+12</td>\n",
       "      <td>54874.670000</td>\n",
       "      <td>55195.840000</td>\n",
       "      <td>54517.010000</td>\n",
       "      <td>54875.620000</td>\n",
       "      <td>3083.940840</td>\n",
       "      <td>1.639642e+12</td>\n",
       "      <td>1.453238e+08</td>\n",
       "      <td>84501.000000</td>\n",
       "      <td>1527.092198</td>\n",
       "      <td>7.145319e+07</td>\n",
       "      <td>0.0</td>\n",
       "    </tr>\n",
       "    <tr>\n",
       "      <th>max</th>\n",
       "      <td>10168.000000</td>\n",
       "      <td>1.648789e+12</td>\n",
       "      <td>68635.120000</td>\n",
       "      <td>69000.000000</td>\n",
       "      <td>68451.190000</td>\n",
       "      <td>68633.690000</td>\n",
       "      <td>44239.811778</td>\n",
       "      <td>1.648793e+12</td>\n",
       "      <td>1.514465e+09</td>\n",
       "      <td>799206.000000</td>\n",
       "      <td>19904.321262</td>\n",
       "      <td>6.849674e+08</td>\n",
       "      <td>0.0</td>\n",
       "    </tr>\n",
       "  </tbody>\n",
       "</table>\n",
       "</div>"
      ],
      "text/plain": [
       "         Unnamed: 0     open_time          open          high           low  \\\n",
       "count  10169.000000  1.016900e+04  10169.000000  10169.000000  10169.000000   \n",
       "mean    5084.000000  1.630472e+12  46994.786758  47269.287659  46705.732727   \n",
       "std     2935.681778  1.058312e+10   8950.931672   8970.962023   8925.753846   \n",
       "min        0.000000  1.612138e+12  29239.000000  29706.830000  28805.000000   \n",
       "25%     2542.000000  1.621314e+12  39356.920000  39600.000000  39078.500000   \n",
       "50%     5084.000000  1.630480e+12  46833.480000  47096.960000  46543.000000   \n",
       "75%     7626.000000  1.639638e+12  54874.670000  55195.840000  54517.010000   \n",
       "max    10168.000000  1.648789e+12  68635.120000  69000.000000  68451.190000   \n",
       "\n",
       "              close        volume    close_time  quote_asset_volume  \\\n",
       "count  10169.000000  10169.000000  1.016900e+04        1.016900e+04   \n",
       "mean   46995.913827   2569.873315  1.630476e+12        1.181009e+08   \n",
       "std     8949.916235   2187.496579  1.058312e+10        9.463427e+07   \n",
       "min    29238.990000      0.000000  1.612141e+12        0.000000e+00   \n",
       "25%    39357.030000   1308.592197  1.621318e+12        6.066155e+07   \n",
       "50%    46833.480000   1991.740782  1.630483e+12        9.395321e+07   \n",
       "75%    54875.620000   3083.940840  1.639642e+12        1.453238e+08   \n",
       "max    68633.690000  44239.811778  1.648793e+12        1.514465e+09   \n",
       "\n",
       "       number_of_trades  taker_buy_asset_volume  taker_buy_quote_asset_volume  \\\n",
       "count      10169.000000            10169.000000                  1.016900e+04   \n",
       "mean       68965.474875             1265.283757                  5.817753e+07   \n",
       "std        45077.328052             1068.576295                  4.650215e+07   \n",
       "min            0.000000                0.000000                  0.000000e+00   \n",
       "25%        39820.000000              642.922300                  2.942543e+07   \n",
       "50%        57615.000000              981.935259                  4.627915e+07   \n",
       "75%        84501.000000             1527.092198                  7.145319e+07   \n",
       "max       799206.000000            19904.321262                  6.849674e+08   \n",
       "\n",
       "        ignore  \n",
       "count  10169.0  \n",
       "mean       0.0  \n",
       "std        0.0  \n",
       "min        0.0  \n",
       "25%        0.0  \n",
       "50%        0.0  \n",
       "75%        0.0  \n",
       "max        0.0  "
      ]
     },
     "execution_count": 5,
     "metadata": {},
     "output_type": "execute_result"
    }
   ],
   "source": [
    "df.describe()"
   ]
  },
  {
   "cell_type": "code",
   "execution_count": 6,
   "metadata": {},
   "outputs": [
    {
     "data": {
      "text/html": [
       "<div>\n",
       "<style scoped>\n",
       "    .dataframe tbody tr th:only-of-type {\n",
       "        vertical-align: middle;\n",
       "    }\n",
       "\n",
       "    .dataframe tbody tr th {\n",
       "        vertical-align: top;\n",
       "    }\n",
       "\n",
       "    .dataframe thead th {\n",
       "        text-align: right;\n",
       "    }\n",
       "</style>\n",
       "<table border=\"1\" class=\"dataframe\">\n",
       "  <thead>\n",
       "    <tr style=\"text-align: right;\">\n",
       "      <th></th>\n",
       "      <th>Unnamed: 0</th>\n",
       "      <th>open_time</th>\n",
       "      <th>open</th>\n",
       "      <th>high</th>\n",
       "      <th>low</th>\n",
       "      <th>close</th>\n",
       "      <th>volume</th>\n",
       "      <th>close_time</th>\n",
       "      <th>quote_asset_volume</th>\n",
       "      <th>number_of_trades</th>\n",
       "      <th>taker_buy_asset_volume</th>\n",
       "      <th>taker_buy_quote_asset_volume</th>\n",
       "      <th>ignore</th>\n",
       "    </tr>\n",
       "  </thead>\n",
       "  <tbody>\n",
       "    <tr>\n",
       "      <th>Unnamed: 0</th>\n",
       "      <td>1.000000</td>\n",
       "      <td>1.000000</td>\n",
       "      <td>-0.138226</td>\n",
       "      <td>-0.143342</td>\n",
       "      <td>-0.132652</td>\n",
       "      <td>-0.138550</td>\n",
       "      <td>-0.303903</td>\n",
       "      <td>1.000000</td>\n",
       "      <td>-0.346558</td>\n",
       "      <td>-0.363086</td>\n",
       "      <td>-0.305536</td>\n",
       "      <td>-0.346823</td>\n",
       "      <td>NaN</td>\n",
       "    </tr>\n",
       "    <tr>\n",
       "      <th>open_time</th>\n",
       "      <td>1.000000</td>\n",
       "      <td>1.000000</td>\n",
       "      <td>-0.138080</td>\n",
       "      <td>-0.143196</td>\n",
       "      <td>-0.132506</td>\n",
       "      <td>-0.138404</td>\n",
       "      <td>-0.303904</td>\n",
       "      <td>1.000000</td>\n",
       "      <td>-0.346543</td>\n",
       "      <td>-0.363069</td>\n",
       "      <td>-0.305539</td>\n",
       "      <td>-0.346809</td>\n",
       "      <td>NaN</td>\n",
       "    </tr>\n",
       "    <tr>\n",
       "      <th>open</th>\n",
       "      <td>-0.138226</td>\n",
       "      <td>-0.138080</td>\n",
       "      <td>1.000000</td>\n",
       "      <td>0.999525</td>\n",
       "      <td>0.999288</td>\n",
       "      <td>0.999107</td>\n",
       "      <td>-0.132362</td>\n",
       "      <td>-0.138080</td>\n",
       "      <td>0.107287</td>\n",
       "      <td>0.095283</td>\n",
       "      <td>-0.133202</td>\n",
       "      <td>0.107855</td>\n",
       "      <td>NaN</td>\n",
       "    </tr>\n",
       "    <tr>\n",
       "      <th>high</th>\n",
       "      <td>-0.143342</td>\n",
       "      <td>-0.143196</td>\n",
       "      <td>0.999525</td>\n",
       "      <td>1.000000</td>\n",
       "      <td>0.998967</td>\n",
       "      <td>0.999525</td>\n",
       "      <td>-0.117572</td>\n",
       "      <td>-0.143196</td>\n",
       "      <td>0.122450</td>\n",
       "      <td>0.109815</td>\n",
       "      <td>-0.116693</td>\n",
       "      <td>0.124774</td>\n",
       "      <td>NaN</td>\n",
       "    </tr>\n",
       "    <tr>\n",
       "      <th>low</th>\n",
       "      <td>-0.132652</td>\n",
       "      <td>-0.132506</td>\n",
       "      <td>0.999288</td>\n",
       "      <td>0.998967</td>\n",
       "      <td>1.000000</td>\n",
       "      <td>0.999434</td>\n",
       "      <td>-0.155186</td>\n",
       "      <td>-0.132506</td>\n",
       "      <td>0.083857</td>\n",
       "      <td>0.073039</td>\n",
       "      <td>-0.153746</td>\n",
       "      <td>0.086920</td>\n",
       "      <td>NaN</td>\n",
       "    </tr>\n",
       "    <tr>\n",
       "      <th>close</th>\n",
       "      <td>-0.138550</td>\n",
       "      <td>-0.138404</td>\n",
       "      <td>0.999107</td>\n",
       "      <td>0.999525</td>\n",
       "      <td>0.999434</td>\n",
       "      <td>1.000000</td>\n",
       "      <td>-0.134799</td>\n",
       "      <td>-0.138404</td>\n",
       "      <td>0.104890</td>\n",
       "      <td>0.093193</td>\n",
       "      <td>-0.132622</td>\n",
       "      <td>0.108651</td>\n",
       "      <td>NaN</td>\n",
       "    </tr>\n",
       "    <tr>\n",
       "      <th>volume</th>\n",
       "      <td>-0.303903</td>\n",
       "      <td>-0.303904</td>\n",
       "      <td>-0.132362</td>\n",
       "      <td>-0.117572</td>\n",
       "      <td>-0.155186</td>\n",
       "      <td>-0.134799</td>\n",
       "      <td>1.000000</td>\n",
       "      <td>-0.303904</td>\n",
       "      <td>0.952457</td>\n",
       "      <td>0.902846</td>\n",
       "      <td>0.990926</td>\n",
       "      <td>0.940211</td>\n",
       "      <td>NaN</td>\n",
       "    </tr>\n",
       "    <tr>\n",
       "      <th>close_time</th>\n",
       "      <td>1.000000</td>\n",
       "      <td>1.000000</td>\n",
       "      <td>-0.138080</td>\n",
       "      <td>-0.143196</td>\n",
       "      <td>-0.132506</td>\n",
       "      <td>-0.138404</td>\n",
       "      <td>-0.303904</td>\n",
       "      <td>1.000000</td>\n",
       "      <td>-0.346543</td>\n",
       "      <td>-0.363069</td>\n",
       "      <td>-0.305539</td>\n",
       "      <td>-0.346809</td>\n",
       "      <td>NaN</td>\n",
       "    </tr>\n",
       "    <tr>\n",
       "      <th>quote_asset_volume</th>\n",
       "      <td>-0.346558</td>\n",
       "      <td>-0.346543</td>\n",
       "      <td>0.107287</td>\n",
       "      <td>0.122450</td>\n",
       "      <td>0.083857</td>\n",
       "      <td>0.104890</td>\n",
       "      <td>0.952457</td>\n",
       "      <td>-0.346543</td>\n",
       "      <td>1.000000</td>\n",
       "      <td>0.943508</td>\n",
       "      <td>0.945892</td>\n",
       "      <td>0.990127</td>\n",
       "      <td>NaN</td>\n",
       "    </tr>\n",
       "    <tr>\n",
       "      <th>number_of_trades</th>\n",
       "      <td>-0.363086</td>\n",
       "      <td>-0.363069</td>\n",
       "      <td>0.095283</td>\n",
       "      <td>0.109815</td>\n",
       "      <td>0.073039</td>\n",
       "      <td>0.093193</td>\n",
       "      <td>0.902846</td>\n",
       "      <td>-0.363069</td>\n",
       "      <td>0.943508</td>\n",
       "      <td>1.000000</td>\n",
       "      <td>0.898207</td>\n",
       "      <td>0.936090</td>\n",
       "      <td>NaN</td>\n",
       "    </tr>\n",
       "    <tr>\n",
       "      <th>taker_buy_asset_volume</th>\n",
       "      <td>-0.305536</td>\n",
       "      <td>-0.305539</td>\n",
       "      <td>-0.133202</td>\n",
       "      <td>-0.116693</td>\n",
       "      <td>-0.153746</td>\n",
       "      <td>-0.132622</td>\n",
       "      <td>0.990926</td>\n",
       "      <td>-0.305539</td>\n",
       "      <td>0.945892</td>\n",
       "      <td>0.898207</td>\n",
       "      <td>1.000000</td>\n",
       "      <td>0.952189</td>\n",
       "      <td>NaN</td>\n",
       "    </tr>\n",
       "    <tr>\n",
       "      <th>taker_buy_quote_asset_volume</th>\n",
       "      <td>-0.346823</td>\n",
       "      <td>-0.346809</td>\n",
       "      <td>0.107855</td>\n",
       "      <td>0.124774</td>\n",
       "      <td>0.086920</td>\n",
       "      <td>0.108651</td>\n",
       "      <td>0.940211</td>\n",
       "      <td>-0.346809</td>\n",
       "      <td>0.990127</td>\n",
       "      <td>0.936090</td>\n",
       "      <td>0.952189</td>\n",
       "      <td>1.000000</td>\n",
       "      <td>NaN</td>\n",
       "    </tr>\n",
       "    <tr>\n",
       "      <th>ignore</th>\n",
       "      <td>NaN</td>\n",
       "      <td>NaN</td>\n",
       "      <td>NaN</td>\n",
       "      <td>NaN</td>\n",
       "      <td>NaN</td>\n",
       "      <td>NaN</td>\n",
       "      <td>NaN</td>\n",
       "      <td>NaN</td>\n",
       "      <td>NaN</td>\n",
       "      <td>NaN</td>\n",
       "      <td>NaN</td>\n",
       "      <td>NaN</td>\n",
       "      <td>NaN</td>\n",
       "    </tr>\n",
       "  </tbody>\n",
       "</table>\n",
       "</div>"
      ],
      "text/plain": [
       "                              Unnamed: 0  open_time      open      high  \\\n",
       "Unnamed: 0                      1.000000   1.000000 -0.138226 -0.143342   \n",
       "open_time                       1.000000   1.000000 -0.138080 -0.143196   \n",
       "open                           -0.138226  -0.138080  1.000000  0.999525   \n",
       "high                           -0.143342  -0.143196  0.999525  1.000000   \n",
       "low                            -0.132652  -0.132506  0.999288  0.998967   \n",
       "close                          -0.138550  -0.138404  0.999107  0.999525   \n",
       "volume                         -0.303903  -0.303904 -0.132362 -0.117572   \n",
       "close_time                      1.000000   1.000000 -0.138080 -0.143196   \n",
       "quote_asset_volume             -0.346558  -0.346543  0.107287  0.122450   \n",
       "number_of_trades               -0.363086  -0.363069  0.095283  0.109815   \n",
       "taker_buy_asset_volume         -0.305536  -0.305539 -0.133202 -0.116693   \n",
       "taker_buy_quote_asset_volume   -0.346823  -0.346809  0.107855  0.124774   \n",
       "ignore                               NaN        NaN       NaN       NaN   \n",
       "\n",
       "                                   low     close    volume  close_time  \\\n",
       "Unnamed: 0                   -0.132652 -0.138550 -0.303903    1.000000   \n",
       "open_time                    -0.132506 -0.138404 -0.303904    1.000000   \n",
       "open                          0.999288  0.999107 -0.132362   -0.138080   \n",
       "high                          0.998967  0.999525 -0.117572   -0.143196   \n",
       "low                           1.000000  0.999434 -0.155186   -0.132506   \n",
       "close                         0.999434  1.000000 -0.134799   -0.138404   \n",
       "volume                       -0.155186 -0.134799  1.000000   -0.303904   \n",
       "close_time                   -0.132506 -0.138404 -0.303904    1.000000   \n",
       "quote_asset_volume            0.083857  0.104890  0.952457   -0.346543   \n",
       "number_of_trades              0.073039  0.093193  0.902846   -0.363069   \n",
       "taker_buy_asset_volume       -0.153746 -0.132622  0.990926   -0.305539   \n",
       "taker_buy_quote_asset_volume  0.086920  0.108651  0.940211   -0.346809   \n",
       "ignore                             NaN       NaN       NaN         NaN   \n",
       "\n",
       "                              quote_asset_volume  number_of_trades  \\\n",
       "Unnamed: 0                             -0.346558         -0.363086   \n",
       "open_time                              -0.346543         -0.363069   \n",
       "open                                    0.107287          0.095283   \n",
       "high                                    0.122450          0.109815   \n",
       "low                                     0.083857          0.073039   \n",
       "close                                   0.104890          0.093193   \n",
       "volume                                  0.952457          0.902846   \n",
       "close_time                             -0.346543         -0.363069   \n",
       "quote_asset_volume                      1.000000          0.943508   \n",
       "number_of_trades                        0.943508          1.000000   \n",
       "taker_buy_asset_volume                  0.945892          0.898207   \n",
       "taker_buy_quote_asset_volume            0.990127          0.936090   \n",
       "ignore                                       NaN               NaN   \n",
       "\n",
       "                              taker_buy_asset_volume  \\\n",
       "Unnamed: 0                                 -0.305536   \n",
       "open_time                                  -0.305539   \n",
       "open                                       -0.133202   \n",
       "high                                       -0.116693   \n",
       "low                                        -0.153746   \n",
       "close                                      -0.132622   \n",
       "volume                                      0.990926   \n",
       "close_time                                 -0.305539   \n",
       "quote_asset_volume                          0.945892   \n",
       "number_of_trades                            0.898207   \n",
       "taker_buy_asset_volume                      1.000000   \n",
       "taker_buy_quote_asset_volume                0.952189   \n",
       "ignore                                           NaN   \n",
       "\n",
       "                              taker_buy_quote_asset_volume  ignore  \n",
       "Unnamed: 0                                       -0.346823     NaN  \n",
       "open_time                                        -0.346809     NaN  \n",
       "open                                              0.107855     NaN  \n",
       "high                                              0.124774     NaN  \n",
       "low                                               0.086920     NaN  \n",
       "close                                             0.108651     NaN  \n",
       "volume                                            0.940211     NaN  \n",
       "close_time                                       -0.346809     NaN  \n",
       "quote_asset_volume                                0.990127     NaN  \n",
       "number_of_trades                                  0.936090     NaN  \n",
       "taker_buy_asset_volume                            0.952189     NaN  \n",
       "taker_buy_quote_asset_volume                      1.000000     NaN  \n",
       "ignore                                                 NaN     NaN  "
      ]
     },
     "execution_count": 6,
     "metadata": {},
     "output_type": "execute_result"
    }
   ],
   "source": [
    "df.corr()"
   ]
  },
  {
   "cell_type": "markdown",
   "metadata": {},
   "source": [
    "# **Data Preprocessing**"
   ]
  },
  {
   "cell_type": "code",
   "execution_count": 7,
   "metadata": {},
   "outputs": [],
   "source": [
    "# Split data into train and test\n",
    "\n",
    "train_data_length = len(df) - 168 # mengambil data selama 7 hari \n",
    "\n",
    "data_train = df.iloc[:train_data_length]\n",
    "X_test = df.iloc[train_data_length:]"
   ]
  },
  {
   "cell_type": "code",
   "execution_count": 8,
   "metadata": {},
   "outputs": [
    {
     "data": {
      "text/plain": [
       "10001"
      ]
     },
     "execution_count": 8,
     "metadata": {},
     "output_type": "execute_result"
    }
   ],
   "source": [
    "train_data_length"
   ]
  },
  {
   "cell_type": "code",
   "execution_count": 9,
   "metadata": {},
   "outputs": [],
   "source": [
    "# Split train set into train and validation\n",
    "\n",
    "train_data_length = math.ceil(data_train.shape[0] * 0.9)\n",
    "\n",
    "X_train = data_train.iloc[:train_data_length]\n",
    "X_val = data_train.iloc[train_data_length:]"
   ]
  },
  {
   "cell_type": "code",
   "execution_count": 10,
   "metadata": {},
   "outputs": [],
   "source": [
    "X_train_selected = X_train.loc[:, 'close']\n",
    "X_val_selected = X_val.loc[:, 'close']\n",
    "X_test_selected = X_test.loc[:, 'close']"
   ]
  },
  {
   "cell_type": "code",
   "execution_count": 11,
   "metadata": {},
   "outputs": [],
   "source": [
    "preprocess_handling = pd.DataFrame({'columns' : [], 'skew' :[]})\n",
    "preprocess_handling.loc[0] = ['close', X_train_selected.skew(axis=0)]\n",
    "preprocess_handling.reset_index(drop=True, inplace=True)\n",
    "\n",
    "preprocess_handling['status'] = np.where(preprocess_handling['skew'].abs()>0.5, 'Skewed', 'Normal')"
   ]
  },
  {
   "cell_type": "code",
   "execution_count": 12,
   "metadata": {},
   "outputs": [
    {
     "data": {
      "text/html": [
       "<div>\n",
       "<style scoped>\n",
       "    .dataframe tbody tr th:only-of-type {\n",
       "        vertical-align: middle;\n",
       "    }\n",
       "\n",
       "    .dataframe tbody tr th {\n",
       "        vertical-align: top;\n",
       "    }\n",
       "\n",
       "    .dataframe thead th {\n",
       "        text-align: right;\n",
       "    }\n",
       "</style>\n",
       "<table border=\"1\" class=\"dataframe\">\n",
       "  <thead>\n",
       "    <tr style=\"text-align: right;\">\n",
       "      <th></th>\n",
       "      <th>columns</th>\n",
       "      <th>skew</th>\n",
       "      <th>status</th>\n",
       "    </tr>\n",
       "  </thead>\n",
       "  <tbody>\n",
       "    <tr>\n",
       "      <th>0</th>\n",
       "      <td>close</td>\n",
       "      <td>0.019304</td>\n",
       "      <td>Normal</td>\n",
       "    </tr>\n",
       "  </tbody>\n",
       "</table>\n",
       "</div>"
      ],
      "text/plain": [
       "  columns      skew  status\n",
       "0   close  0.019304  Normal"
      ]
     },
     "execution_count": 12,
     "metadata": {},
     "output_type": "execute_result"
    }
   ],
   "source": [
    "preprocess_handling"
   ]
  },
  {
   "cell_type": "markdown",
   "metadata": {},
   "source": [
    "## Scaling"
   ]
  },
  {
   "cell_type": "code",
   "execution_count": 13,
   "metadata": {},
   "outputs": [],
   "source": [
    "scaler = RobustScaler()\n",
    "scaler.fit(X_train_selected.values.reshape(-1, 1))\n",
    "\n",
    "X_train_scaled = scaler.transform(X_train_selected.values.reshape(-1, 1))\n",
    "X_val_scaled = scaler.transform(X_val_selected.values.reshape(-1, 1))\n",
    "X_test_scaled = scaler.transform(X_test_selected.values.reshape(-1, 1))"
   ]
  },
  {
   "cell_type": "markdown",
   "metadata": {},
   "source": [
    "## Extraction"
   ]
  },
  {
   "cell_type": "code",
   "execution_count": 14,
   "metadata": {},
   "outputs": [],
   "source": [
    "sequence_length = 20\n",
    "\n",
    "def partition_dataset(sequence_length, data):\n",
    "    x, y = [], []\n",
    "    data_len = data.shape[0]\n",
    "\n",
    "    for i in range(sequence_length, data_len):\n",
    "        x.append(data[i-sequence_length:i,:]) \n",
    "        y.append(data[i, 0]) \n",
    "    \n",
    "    x = np.array(x)\n",
    "    y = np.array(y)\n",
    "    return x, y"
   ]
  },
  {
   "cell_type": "code",
   "execution_count": 15,
   "metadata": {},
   "outputs": [],
   "source": [
    "X_train_final, y_train = partition_dataset(sequence_length, X_train_scaled)\n",
    "X_val_final, y_val = partition_dataset(sequence_length, X_val_scaled)\n",
    "X_test_final, y_test = partition_dataset(sequence_length, X_test_scaled)"
   ]
  },
  {
   "cell_type": "code",
   "execution_count": 16,
   "metadata": {},
   "outputs": [
    {
     "name": "stdout",
     "output_type": "stream",
     "text": [
      "Nilai X train pada index ke 5 sebelum ekstraksi :[-0.86392526]\n",
      "Nilai X Train index ke 1 setelah ekstraksi:-0.8591969510317214\n",
      "Nilai y Train pada index ke 0 :-0.8591969510317214\n"
     ]
    }
   ],
   "source": [
    "print(f\"Nilai X train pada index ke 5 sebelum ekstraksi :{X_train_scaled[5]}\")\n",
    "print(f\"Nilai X Train index ke 1 setelah ekstraksi:{X_train_final[1][sequence_length-1][0]}\")\n",
    "print(f\"Nilai y Train pada index ke 0 :{y_train[0]}\")"
   ]
  },
  {
   "cell_type": "code",
   "execution_count": 17,
   "metadata": {},
   "outputs": [
    {
     "data": {
      "text/plain": [
       "(148, 20, 1)"
      ]
     },
     "execution_count": 17,
     "metadata": {},
     "output_type": "execute_result"
    }
   ],
   "source": [
    "X_test_final.shape"
   ]
  },
  {
   "cell_type": "markdown",
   "metadata": {},
   "source": [
    "## Preprocess Input Layer"
   ]
  },
  {
   "cell_type": "code",
   "execution_count": 18,
   "metadata": {},
   "outputs": [],
   "source": [
    "import tensorflow as tf\n",
    "\n",
    "#Train Dataset\n",
    "train_dataset = tf.data.Dataset.from_tensor_slices((X_train_final, y_train)).batch(150)\n",
    "\n",
    "#Validation Dataset\n",
    "val_dataset = tf.data.Dataset.from_tensor_slices((X_val_final, y_val)).batch(150)"
   ]
  },
  {
   "cell_type": "markdown",
   "metadata": {},
   "source": [
    "# **Model Definition**"
   ]
  },
  {
   "cell_type": "code",
   "execution_count": 19,
   "metadata": {},
   "outputs": [
    {
     "name": "stdout",
     "output_type": "stream",
     "text": [
      "timesteps: 20, features: 1, neurons: 20\n",
      "Model: \"sequential\"\n",
      "_________________________________________________________________\n",
      " Layer (type)                Output Shape              Param #   \n",
      "=================================================================\n",
      " simple_rnn (SimpleRNN)      (None, 20, 20)            440       \n",
      "                                                                 \n",
      " simple_rnn_1 (SimpleRNN)    (None, 20, 10)            310       \n",
      "                                                                 \n",
      " simple_rnn_2 (SimpleRNN)    (None, 20, 5)             80        \n",
      "                                                                 \n",
      " simple_rnn_3 (SimpleRNN)    (None, 1)                 7         \n",
      "                                                                 \n",
      "=================================================================\n",
      "Total params: 837\n",
      "Trainable params: 837\n",
      "Non-trainable params: 0\n",
      "_________________________________________________________________\n"
     ]
    }
   ],
   "source": [
    "base_model = Sequential()\n",
    "\n",
    "n_neurons = X_train_final.shape[1] * X_train_final.shape[2]\n",
    "print('timesteps: ' + str(X_train_final.shape[1]) + ',' + ' features: ' + str(X_train_final.shape[2]) + ', neurons: ' + str(n_neurons))\n",
    "\n",
    "# Model\n",
    "\n",
    "base_model.add(layers.SimpleRNN(20, return_sequences=True, input_shape=(X_train_final.shape[1], X_train_final.shape[2])))\n",
    "base_model.add(layers.SimpleRNN(10, return_sequences=True))\n",
    "base_model.add(layers.SimpleRNN(5, return_sequences=True))\n",
    "base_model.add(layers.SimpleRNN(1))\n",
    " \n",
    "# Hyperparameters\n",
    "optimizer='adamax'; loss='mean_squared_error'; epochs = 33; batch_size = 150; patience = 6;\n",
    "\n",
    "base_model.compile(optimizer=optimizer, loss=loss, metrics=['mean_squared_error'])\n",
    "\n",
    "# early_stop = EarlyStopping(monitor='loss', \n",
    "#                            patience=patience, \n",
    "#                            verbose=0)\n",
    "\n",
    "base_model.summary()"
   ]
  },
  {
   "cell_type": "markdown",
   "metadata": {},
   "source": [
    "# **Model Training**"
   ]
  },
  {
   "cell_type": "code",
   "execution_count": 20,
   "metadata": {},
   "outputs": [
    {
     "name": "stdout",
     "output_type": "stream",
     "text": [
      "Epoch 1/33\n",
      "60/60 [==============================] - 3s 14ms/step - loss: 0.2253 - mean_squared_error: 0.2253 - val_loss: 0.0126 - val_mean_squared_error: 0.0126\n",
      "Epoch 2/33\n",
      "60/60 [==============================] - 0s 8ms/step - loss: 0.0658 - mean_squared_error: 0.0658 - val_loss: 0.0044 - val_mean_squared_error: 0.0044\n",
      "Epoch 3/33\n",
      "60/60 [==============================] - 0s 8ms/step - loss: 0.0396 - mean_squared_error: 0.0396 - val_loss: 0.0043 - val_mean_squared_error: 0.0043\n",
      "Epoch 4/33\n",
      "60/60 [==============================] - 0s 8ms/step - loss: 0.0275 - mean_squared_error: 0.0275 - val_loss: 0.0045 - val_mean_squared_error: 0.0045\n",
      "Epoch 5/33\n",
      "60/60 [==============================] - 0s 8ms/step - loss: 0.0218 - mean_squared_error: 0.0218 - val_loss: 0.0045 - val_mean_squared_error: 0.0045\n",
      "Epoch 6/33\n",
      "60/60 [==============================] - 1s 8ms/step - loss: 0.0183 - mean_squared_error: 0.0183 - val_loss: 0.0044 - val_mean_squared_error: 0.0044\n",
      "Epoch 7/33\n",
      "60/60 [==============================] - 0s 8ms/step - loss: 0.0159 - mean_squared_error: 0.0159 - val_loss: 0.0042 - val_mean_squared_error: 0.0042\n",
      "Epoch 8/33\n",
      "60/60 [==============================] - 0s 8ms/step - loss: 0.0141 - mean_squared_error: 0.0141 - val_loss: 0.0040 - val_mean_squared_error: 0.0040\n",
      "Epoch 9/33\n",
      "60/60 [==============================] - 0s 8ms/step - loss: 0.0127 - mean_squared_error: 0.0127 - val_loss: 0.0038 - val_mean_squared_error: 0.0038\n",
      "Epoch 10/33\n",
      "60/60 [==============================] - 0s 8ms/step - loss: 0.0115 - mean_squared_error: 0.0115 - val_loss: 0.0036 - val_mean_squared_error: 0.0036\n",
      "Epoch 11/33\n",
      "60/60 [==============================] - 0s 8ms/step - loss: 0.0104 - mean_squared_error: 0.0104 - val_loss: 0.0034 - val_mean_squared_error: 0.0034\n",
      "Epoch 12/33\n",
      "60/60 [==============================] - 0s 8ms/step - loss: 0.0095 - mean_squared_error: 0.0095 - val_loss: 0.0033 - val_mean_squared_error: 0.0033\n",
      "Epoch 13/33\n",
      "60/60 [==============================] - 0s 8ms/step - loss: 0.0087 - mean_squared_error: 0.0087 - val_loss: 0.0032 - val_mean_squared_error: 0.0032\n",
      "Epoch 14/33\n",
      "60/60 [==============================] - 0s 8ms/step - loss: 0.0081 - mean_squared_error: 0.0081 - val_loss: 0.0031 - val_mean_squared_error: 0.0031\n",
      "Epoch 15/33\n",
      "60/60 [==============================] - 0s 8ms/step - loss: 0.0076 - mean_squared_error: 0.0076 - val_loss: 0.0028 - val_mean_squared_error: 0.0028\n",
      "Epoch 16/33\n",
      "60/60 [==============================] - 0s 8ms/step - loss: 0.0071 - mean_squared_error: 0.0071 - val_loss: 0.0026 - val_mean_squared_error: 0.0026\n",
      "Epoch 17/33\n",
      "60/60 [==============================] - 0s 8ms/step - loss: 0.0067 - mean_squared_error: 0.0067 - val_loss: 0.0025 - val_mean_squared_error: 0.0025\n",
      "Epoch 18/33\n",
      "60/60 [==============================] - 0s 8ms/step - loss: 0.0064 - mean_squared_error: 0.0064 - val_loss: 0.0024 - val_mean_squared_error: 0.0024\n",
      "Epoch 19/33\n",
      "60/60 [==============================] - 0s 8ms/step - loss: 0.0061 - mean_squared_error: 0.0061 - val_loss: 0.0023 - val_mean_squared_error: 0.0023\n",
      "Epoch 20/33\n",
      "60/60 [==============================] - 0s 8ms/step - loss: 0.0059 - mean_squared_error: 0.0059 - val_loss: 0.0023 - val_mean_squared_error: 0.0023\n",
      "Epoch 21/33\n",
      "60/60 [==============================] - 0s 8ms/step - loss: 0.0057 - mean_squared_error: 0.0057 - val_loss: 0.0022 - val_mean_squared_error: 0.0022\n",
      "Epoch 22/33\n",
      "60/60 [==============================] - 0s 8ms/step - loss: 0.0055 - mean_squared_error: 0.0055 - val_loss: 0.0022 - val_mean_squared_error: 0.0022\n",
      "Epoch 23/33\n",
      "60/60 [==============================] - 0s 8ms/step - loss: 0.0054 - mean_squared_error: 0.0054 - val_loss: 0.0022 - val_mean_squared_error: 0.0022\n",
      "Epoch 24/33\n",
      "60/60 [==============================] - 0s 8ms/step - loss: 0.0053 - mean_squared_error: 0.0053 - val_loss: 0.0022 - val_mean_squared_error: 0.0022\n",
      "Epoch 25/33\n",
      "60/60 [==============================] - 0s 8ms/step - loss: 0.0052 - mean_squared_error: 0.0052 - val_loss: 0.0022 - val_mean_squared_error: 0.0022\n",
      "Epoch 26/33\n",
      "60/60 [==============================] - 1s 8ms/step - loss: 0.0051 - mean_squared_error: 0.0051 - val_loss: 0.0022 - val_mean_squared_error: 0.0022\n",
      "Epoch 27/33\n",
      "60/60 [==============================] - 1s 8ms/step - loss: 0.0050 - mean_squared_error: 0.0050 - val_loss: 0.0022 - val_mean_squared_error: 0.0022\n",
      "Epoch 28/33\n",
      "60/60 [==============================] - 1s 8ms/step - loss: 0.0050 - mean_squared_error: 0.0050 - val_loss: 0.0021 - val_mean_squared_error: 0.0021\n",
      "Epoch 29/33\n",
      "60/60 [==============================] - 1s 9ms/step - loss: 0.0049 - mean_squared_error: 0.0049 - val_loss: 0.0021 - val_mean_squared_error: 0.0021\n",
      "Epoch 30/33\n",
      "60/60 [==============================] - 0s 8ms/step - loss: 0.0048 - mean_squared_error: 0.0048 - val_loss: 0.0021 - val_mean_squared_error: 0.0021\n",
      "Epoch 31/33\n",
      "60/60 [==============================] - 1s 8ms/step - loss: 0.0047 - mean_squared_error: 0.0047 - val_loss: 0.0020 - val_mean_squared_error: 0.0020\n",
      "Epoch 32/33\n",
      "60/60 [==============================] - 1s 8ms/step - loss: 0.0047 - mean_squared_error: 0.0047 - val_loss: 0.0020 - val_mean_squared_error: 0.0020\n",
      "Epoch 33/33\n",
      "60/60 [==============================] - 1s 8ms/step - loss: 0.0046 - mean_squared_error: 0.0046 - val_loss: 0.0020 - val_mean_squared_error: 0.0020\n"
     ]
    }
   ],
   "source": [
    "base_model_hist = base_model.fit(\n",
    "                    train_dataset,\n",
    "                    epochs=epochs,\n",
    "                    batch_size=batch_size,\n",
    "                    validation_data=val_dataset,\n",
    "                \n",
    "                )"
   ]
  },
  {
   "cell_type": "code",
   "execution_count": 21,
   "metadata": {},
   "outputs": [
    {
     "data": {
      "text/plain": [
       "<AxesSubplot:>"
      ]
     },
     "execution_count": 21,
     "metadata": {},
     "output_type": "execute_result"
    },
    {
     "data": {
      "image/png": "[encoded data removed]",
      "text/plain": [
       "<Figure size 432x288 with 1 Axes>"
      ]
     },
     "metadata": {
      "needs_background": "light"
     },
     "output_type": "display_data"
    }
   ],
   "source": [
    "metrics = pd.DataFrame(base_model_hist.history)\n",
    "metrics[['loss', 'val_loss']].plot()"
   ]
  },
  {
   "cell_type": "markdown",
   "metadata": {},
   "source": [
    "# **Model Evaluation**"
   ]
  },
  {
   "cell_type": "code",
   "execution_count": 26,
   "metadata": {},
   "outputs": [],
   "source": [
    "evaluation_metrics = pd.DataFrame({'Model':[], 'Details' : [], 'MSE': [], 'RMSE': [], 'MAE(Test)': []})\n",
    "# evaluation_metrics.style.format({'RMSE(Test)': '{:.2f} $'})"
   ]
  },
  {
   "cell_type": "code",
   "execution_count": 27,
   "metadata": {},
   "outputs": [],
   "source": [
    "y_pred_base = X_val_final[: -1]\n",
    "y_pred_test = X_test_final[: -1]\n",
    "# y_pred_test = scaler.inverse_transform(y_pred_test.reshape)\n",
    "\n",
    "# calculate mse and rmse\n",
    "mse_last_value = np.mean(tf.keras.losses.mean_squared_error(y_val, y_pred_base))\n",
    "rmse_last_value = np.sqrt(mse_last_value)\n",
    "mae_last_value_test = np.mean(tf.keras.metrics.mean_absolute_error(y_test, y_pred_test))\n",
    "evaluation_metrics.loc[0] = ['Naive Forecasting', 'Difference of Last Value in X val with y val', mse_last_value, rmse_last_value, mae_last_value_test]"
   ]
  },
  {
   "cell_type": "code",
   "execution_count": 28,
   "metadata": {},
   "outputs": [
    {
     "data": {
      "text/html": [
       "<div>\n",
       "<style scoped>\n",
       "    .dataframe tbody tr th:only-of-type {\n",
       "        vertical-align: middle;\n",
       "    }\n",
       "\n",
       "    .dataframe tbody tr th {\n",
       "        vertical-align: top;\n",
       "    }\n",
       "\n",
       "    .dataframe thead th {\n",
       "        text-align: right;\n",
       "    }\n",
       "</style>\n",
       "<table border=\"1\" class=\"dataframe\">\n",
       "  <thead>\n",
       "    <tr style=\"text-align: right;\">\n",
       "      <th></th>\n",
       "      <th>Model</th>\n",
       "      <th>Details</th>\n",
       "      <th>MSE</th>\n",
       "      <th>RMSE</th>\n",
       "      <th>MAE(Test)</th>\n",
       "    </tr>\n",
       "  </thead>\n",
       "  <tbody>\n",
       "    <tr>\n",
       "      <th>0</th>\n",
       "      <td>Naive Forecasting</td>\n",
       "      <td>Difference of Last Value in X val with y val</td>\n",
       "      <td>0.033447</td>\n",
       "      <td>0.182885</td>\n",
       "      <td>0.089263</td>\n",
       "    </tr>\n",
       "  </tbody>\n",
       "</table>\n",
       "</div>"
      ],
      "text/plain": [
       "               Model                                       Details       MSE  \\\n",
       "0  Naive Forecasting  Difference of Last Value in X val with y val  0.033447   \n",
       "\n",
       "       RMSE  MAE(Test)  \n",
       "0  0.182885   0.089263  "
      ]
     },
     "execution_count": 28,
     "metadata": {},
     "output_type": "execute_result"
    }
   ],
   "source": [
    "evaluation_metrics"
   ]
  },
  {
   "cell_type": "markdown",
   "metadata": {},
   "source": [
    "## Base RNN eval"
   ]
  },
  {
   "cell_type": "code",
   "execution_count": 29,
   "metadata": {},
   "outputs": [
    {
     "data": {
      "image/png": "[encoded data removed]",
      "text/plain": [
       "<Figure size 432x288 with 1 Axes>"
      ]
     },
     "metadata": {
      "needs_background": "light"
     },
     "output_type": "display_data"
    }
   ],
   "source": [
    "# Visualization of Training Loss and Validation Loss\n",
    "\n",
    "def plot_learning_curves(loss, val_loss):\n",
    "    plt.plot(np.arange(len(loss)) + 0.5, loss, \"b.-\", label=\"Training loss\")\n",
    "    plt.plot(np.arange(len(val_loss)) + 1, val_loss, \"r.-\", label=\"Validation loss\")\n",
    "    plt.gca().xaxis.set_major_locator(mpl.ticker.MaxNLocator(integer=True))\n",
    "    plt.axis([1, epochs, 0, 0.2])\n",
    "    plt.legend(fontsize=14)\n",
    "    plt.xlabel(\"Epochs\")\n",
    "    plt.ylabel(\"Loss\")\n",
    "    plt.grid(True)\n",
    "\n",
    "plot_learning_curves(base_model_hist.history[\"loss\"], base_model_hist.history[\"val_loss\"])\n",
    "plt.show()"
   ]
  },
  {
   "cell_type": "code",
   "execution_count": 30,
   "metadata": {},
   "outputs": [
    {
     "name": "stdout",
     "output_type": "stream",
     "text": [
      "31/31 [==============================] - 0s 3ms/step - loss: 0.0020 - mean_squared_error: 0.0020   \n"
     ]
    }
   ],
   "source": [
    "mse_base_deep_rnn = base_model.evaluate(X_val_final, y_val)\n",
    "rmse_base_deep_rnn = np.sqrt(mse_base_deep_rnn)"
   ]
  },
  {
   "cell_type": "code",
   "execution_count": 31,
   "metadata": {},
   "outputs": [
    {
     "data": {
      "text/html": [
       "<div>\n",
       "<style scoped>\n",
       "    .dataframe tbody tr th:only-of-type {\n",
       "        vertical-align: middle;\n",
       "    }\n",
       "\n",
       "    .dataframe tbody tr th {\n",
       "        vertical-align: top;\n",
       "    }\n",
       "\n",
       "    .dataframe thead th {\n",
       "        text-align: right;\n",
       "    }\n",
       "</style>\n",
       "<table border=\"1\" class=\"dataframe\">\n",
       "  <thead>\n",
       "    <tr style=\"text-align: right;\">\n",
       "      <th></th>\n",
       "      <th>Model</th>\n",
       "      <th>Details</th>\n",
       "      <th>MSE</th>\n",
       "      <th>RMSE</th>\n",
       "      <th>MAE(Test)</th>\n",
       "    </tr>\n",
       "  </thead>\n",
       "  <tbody>\n",
       "    <tr>\n",
       "      <th>0</th>\n",
       "      <td>Naive Forecasting</td>\n",
       "      <td>Difference of Last Value in X val with y val</td>\n",
       "      <td>0.033447</td>\n",
       "      <td>0.182885</td>\n",
       "      <td>0.089263</td>\n",
       "    </tr>\n",
       "    <tr>\n",
       "      <th>1</th>\n",
       "      <td>Base Deep RNN</td>\n",
       "      <td>Neuron=5, Timestep=5, Epoch=35, Multi Layers</td>\n",
       "      <td>0.002021</td>\n",
       "      <td>0.044955</td>\n",
       "      <td>0.045852</td>\n",
       "    </tr>\n",
       "  </tbody>\n",
       "</table>\n",
       "</div>"
      ],
      "text/plain": [
       "               Model                                       Details       MSE  \\\n",
       "0  Naive Forecasting  Difference of Last Value in X val with y val  0.033447   \n",
       "1      Base Deep RNN  Neuron=5, Timestep=5, Epoch=35, Multi Layers  0.002021   \n",
       "\n",
       "       RMSE  MAE(Test)  \n",
       "0  0.182885   0.089263  \n",
       "1  0.044955   0.045852  "
      ]
     },
     "execution_count": 31,
     "metadata": {},
     "output_type": "execute_result"
    }
   ],
   "source": [
    "y_pred_test_base = base_model.predict(X_test_final)\n",
    "mae_base_deep_rnn_test = mean_absolute_error(y_test, y_pred_test_base)\n",
    "evaluation_metrics.loc[1] = ['Base Deep RNN', 'Neuron=5, Timestep=5, Epoch=35, Multi Layers', mse_base_deep_rnn[0], rmse_base_deep_rnn[0], mae_base_deep_rnn_test]\n",
    "evaluation_metrics"
   ]
  },
  {
   "cell_type": "code",
   "execution_count": 32,
   "metadata": {},
   "outputs": [
    {
     "data": {
      "image/png": "[encoded data removed]",
      "text/plain": [
       "<Figure size 1296x288 with 1 Axes>"
      ]
     },
     "metadata": {
      "needs_background": "light"
     },
     "output_type": "display_data"
    }
   ],
   "source": [
    "y_test_real = scaler.inverse_transform(y_test.reshape(-1, 1))\n",
    "y_pred_test_base = scaler.inverse_transform(y_pred_test_base)\n",
    "fig, ax = plt.subplots(figsize=(18, 4), sharex=True)\n",
    "\n",
    "plt.title(\"Predictions vs. Real Price (Base Model RNN)\", fontsize=20)\n",
    "plt.ylabel('BTC', fontsize=18)\n",
    "plt.plot(y_pred_test_base, color=\"#E91D9E\", linewidth=1.0)\n",
    "plt.plot(y_test_real, color=\"black\", linewidth=1.0)\n",
    "plt.legend([\"Test Predictions\", \"Real Price\"], loc=\"upper right\")\n",
    "\n",
    "# valid.loc[valid[\"Difference\"] >= 0, 'diff_color'] = \"#2BC97A\"\n",
    "# valid.loc[valid[\"Difference\"] < 0, 'diff_color'] = \"#C92B2B\"\n",
    "# plt.bar(valid.index, valid[\"Difference\"], width=0.8, color=valid['diff_color'])\n",
    "\n",
    "plt.show()"
   ]
  },
  {
   "cell_type": "markdown",
   "metadata": {},
   "source": [
    "# **LSTM Recurrent Neural Network**"
   ]
  },
  {
   "cell_type": "markdown",
   "metadata": {},
   "source": [
    "##  With Tensor Pipeline"
   ]
  },
  {
   "cell_type": "code",
   "execution_count": 55,
   "metadata": {},
   "outputs": [
    {
     "name": "stdout",
     "output_type": "stream",
     "text": [
      "timesteps: 20, features: 1, neurons: 20\n",
      "Parameters: ['epochs 33', 'batch_size 150', 'patience 6', 'optimizer adamax', 'loss mean_squared_error']\n",
      "Model: \"sequential_5\"\n",
      "_________________________________________________________________\n",
      " Layer (type)                Output Shape              Param #   \n",
      "=================================================================\n",
      " lstm_8 (LSTM)               (None, None, 5)           140       \n",
      "                                                                 \n",
      " lstm_9 (LSTM)               (None, 2)                 64        \n",
      "                                                                 \n",
      " dense_4 (Dense)             (None, 1)                 3         \n",
      "                                                                 \n",
      "=================================================================\n",
      "Total params: 207\n",
      "Trainable params: 207\n",
      "Non-trainable params: 0\n",
      "_________________________________________________________________\n"
     ]
    }
   ],
   "source": [
    "lstm_imp_model = Sequential()\n",
    "\n",
    "n_neurons = X_train_final.shape[1] * X_train_final.shape[2]\n",
    "print('timesteps: ' + str(X_train_final.shape[1]) + ',' + ' features: ' + str(X_train_final.shape[2]) + ', neurons: ' + str(n_neurons))\n",
    "\n",
    "# The lstm_imp_model\n",
    "lstm_imp_model.add(LSTM(5, return_sequences=True, input_shape=(None, X_train_final.shape[2]))) \n",
    "lstm_imp_model.add(LSTM(2))\n",
    "lstm_imp_model.add(Dense(1, activation='linear'))\n",
    " \n",
    "# Hyperparameters\n",
    "optimizer='adamax'; loss='mean_squared_error'; epochs = 33; patience = 6;\n",
    "parameter_list = ['epochs ' + str(epochs), 'batch_size ' + str(batch_size), 'patience ' + str(patience), 'optimizer ' + str(optimizer), 'loss ' + str(loss)]\n",
    "print('Parameters: ' + str(parameter_list))\n",
    "\n",
    "lstm_imp_model.compile(optimizer=optimizer, loss=loss, metrics=['mean_squared_error'])\n",
    "\n",
    "lstm_imp_model.summary()"
   ]
  },
  {
   "cell_type": "code",
   "execution_count": 56,
   "metadata": {},
   "outputs": [
    {
     "name": "stdout",
     "output_type": "stream",
     "text": [
      "Epoch 1/33\n",
      "60/60 [==============================] - 4s 19ms/step - loss: 0.2833 - mean_squared_error: 0.2833 - val_loss: 0.1647 - val_mean_squared_error: 0.1647\n",
      "Epoch 2/33\n",
      "60/60 [==============================] - 1s 9ms/step - loss: 0.2187 - mean_squared_error: 0.2187 - val_loss: 0.1189 - val_mean_squared_error: 0.1189\n",
      "Epoch 3/33\n",
      "60/60 [==============================] - 1s 9ms/step - loss: 0.1593 - mean_squared_error: 0.1593 - val_loss: 0.0730 - val_mean_squared_error: 0.0730\n",
      "Epoch 4/33\n",
      "60/60 [==============================] - 1s 9ms/step - loss: 0.1083 - mean_squared_error: 0.1083 - val_loss: 0.0373 - val_mean_squared_error: 0.0373\n",
      "Epoch 5/33\n",
      "60/60 [==============================] - 1s 10ms/step - loss: 0.0725 - mean_squared_error: 0.0725 - val_loss: 0.0175 - val_mean_squared_error: 0.0175\n",
      "Epoch 6/33\n",
      "60/60 [==============================] - 1s 9ms/step - loss: 0.0519 - mean_squared_error: 0.0519 - val_loss: 0.0101 - val_mean_squared_error: 0.0101\n",
      "Epoch 7/33\n",
      "60/60 [==============================] - 1s 9ms/step - loss: 0.0413 - mean_squared_error: 0.0413 - val_loss: 0.0088 - val_mean_squared_error: 0.0088\n",
      "Epoch 8/33\n",
      "60/60 [==============================] - 1s 10ms/step - loss: 0.0358 - mean_squared_error: 0.0358 - val_loss: 0.0093 - val_mean_squared_error: 0.0093\n",
      "Epoch 9/33\n",
      "60/60 [==============================] - 1s 9ms/step - loss: 0.0323 - mean_squared_error: 0.0323 - val_loss: 0.0102 - val_mean_squared_error: 0.0102\n",
      "Epoch 10/33\n",
      "60/60 [==============================] - 1s 9ms/step - loss: 0.0298 - mean_squared_error: 0.0298 - val_loss: 0.0107 - val_mean_squared_error: 0.0107\n",
      "Epoch 11/33\n",
      "60/60 [==============================] - 1s 9ms/step - loss: 0.0276 - mean_squared_error: 0.0276 - val_loss: 0.0109 - val_mean_squared_error: 0.0109\n",
      "Epoch 12/33\n",
      "60/60 [==============================] - 1s 9ms/step - loss: 0.0257 - mean_squared_error: 0.0257 - val_loss: 0.0108 - val_mean_squared_error: 0.0108\n",
      "Epoch 13/33\n",
      "60/60 [==============================] - 1s 9ms/step - loss: 0.0240 - mean_squared_error: 0.0240 - val_loss: 0.0106 - val_mean_squared_error: 0.0106\n",
      "Epoch 14/33\n",
      "60/60 [==============================] - 1s 9ms/step - loss: 0.0225 - mean_squared_error: 0.0225 - val_loss: 0.0103 - val_mean_squared_error: 0.0103\n",
      "Epoch 15/33\n",
      "60/60 [==============================] - 1s 9ms/step - loss: 0.0210 - mean_squared_error: 0.0210 - val_loss: 0.0099 - val_mean_squared_error: 0.0099\n",
      "Epoch 16/33\n",
      "60/60 [==============================] - 1s 9ms/step - loss: 0.0197 - mean_squared_error: 0.0197 - val_loss: 0.0095 - val_mean_squared_error: 0.0095\n",
      "Epoch 17/33\n",
      "60/60 [==============================] - 1s 9ms/step - loss: 0.0185 - mean_squared_error: 0.0185 - val_loss: 0.0091 - val_mean_squared_error: 0.0091\n",
      "Epoch 18/33\n",
      "60/60 [==============================] - 1s 9ms/step - loss: 0.0174 - mean_squared_error: 0.0174 - val_loss: 0.0087 - val_mean_squared_error: 0.0087\n",
      "Epoch 19/33\n",
      "60/60 [==============================] - 1s 9ms/step - loss: 0.0164 - mean_squared_error: 0.0164 - val_loss: 0.0083 - val_mean_squared_error: 0.0083\n",
      "Epoch 20/33\n",
      "60/60 [==============================] - 1s 9ms/step - loss: 0.0154 - mean_squared_error: 0.0154 - val_loss: 0.0079 - val_mean_squared_error: 0.0079\n",
      "Epoch 21/33\n",
      "60/60 [==============================] - 1s 9ms/step - loss: 0.0145 - mean_squared_error: 0.0145 - val_loss: 0.0075 - val_mean_squared_error: 0.0075\n",
      "Epoch 22/33\n",
      "60/60 [==============================] - 1s 9ms/step - loss: 0.0137 - mean_squared_error: 0.0137 - val_loss: 0.0071 - val_mean_squared_error: 0.0071\n",
      "Epoch 23/33\n",
      "60/60 [==============================] - 1s 10ms/step - loss: 0.0130 - mean_squared_error: 0.0130 - val_loss: 0.0068 - val_mean_squared_error: 0.0068\n",
      "Epoch 24/33\n",
      "60/60 [==============================] - 1s 9ms/step - loss: 0.0123 - mean_squared_error: 0.0123 - val_loss: 0.0065 - val_mean_squared_error: 0.0065\n",
      "Epoch 25/33\n",
      "60/60 [==============================] - 1s 10ms/step - loss: 0.0116 - mean_squared_error: 0.0116 - val_loss: 0.0062 - val_mean_squared_error: 0.0062\n",
      "Epoch 26/33\n",
      "60/60 [==============================] - 1s 9ms/step - loss: 0.0110 - mean_squared_error: 0.0110 - val_loss: 0.0059 - val_mean_squared_error: 0.0059\n",
      "Epoch 27/33\n",
      "60/60 [==============================] - 1s 9ms/step - loss: 0.0105 - mean_squared_error: 0.0105 - val_loss: 0.0056 - val_mean_squared_error: 0.0056\n",
      "Epoch 28/33\n",
      "60/60 [==============================] - 1s 10ms/step - loss: 0.0100 - mean_squared_error: 0.0100 - val_loss: 0.0053 - val_mean_squared_error: 0.0053\n",
      "Epoch 29/33\n",
      "60/60 [==============================] - 1s 9ms/step - loss: 0.0095 - mean_squared_error: 0.0095 - val_loss: 0.0051 - val_mean_squared_error: 0.0051\n",
      "Epoch 30/33\n",
      "60/60 [==============================] - 1s 9ms/step - loss: 0.0091 - mean_squared_error: 0.0091 - val_loss: 0.0048 - val_mean_squared_error: 0.0048\n",
      "Epoch 31/33\n",
      "60/60 [==============================] - 1s 10ms/step - loss: 0.0086 - mean_squared_error: 0.0086 - val_loss: 0.0046 - val_mean_squared_error: 0.0046\n",
      "Epoch 32/33\n",
      "60/60 [==============================] - 1s 10ms/step - loss: 0.0082 - mean_squared_error: 0.0082 - val_loss: 0.0044 - val_mean_squared_error: 0.0044\n",
      "Epoch 33/33\n",
      "60/60 [==============================] - 1s 9ms/step - loss: 0.0078 - mean_squared_error: 0.0078 - val_loss: 0.0041 - val_mean_squared_error: 0.0041\n"
     ]
    }
   ],
   "source": [
    "lstm_imp_model_hist = lstm_imp_model.fit(\n",
    "                    train_dataset,\n",
    "                    epochs=epochs,\n",
    "                    batch_size=batch_size,\n",
    "                    validation_data=val_dataset,\n",
    "                    \n",
    "                )"
   ]
  },
  {
   "cell_type": "code",
   "execution_count": 57,
   "metadata": {},
   "outputs": [
    {
     "data": {
      "image/png": "[encoded data removed]",
      "text/plain": [
       "<Figure size 432x288 with 1 Axes>"
      ]
     },
     "metadata": {
      "needs_background": "light"
     },
     "output_type": "display_data"
    }
   ],
   "source": [
    "# Visualization of Training Loss and Validation Loss\n",
    "\n",
    "plot_learning_curves(lstm_imp_model_hist.history[\"loss\"], lstm_imp_model_hist.history[\"val_loss\"])\n",
    "plt.show()"
   ]
  },
  {
   "cell_type": "code",
   "execution_count": 58,
   "metadata": {},
   "outputs": [
    {
     "name": "stdout",
     "output_type": "stream",
     "text": [
      "31/31 [==============================] - 1s 3ms/step - loss: 0.0041 - mean_squared_error: 0.0041\n"
     ]
    }
   ],
   "source": [
    "mse_lstm_imp_rnn = lstm_imp_model.evaluate(X_val_final, y_val)\n",
    "rmse_lstm_imp_rnn = np.sqrt(mse_lstm_imp_rnn)"
   ]
  },
  {
   "cell_type": "code",
   "execution_count": 59,
   "metadata": {},
   "outputs": [
    {
     "data": {
      "text/html": [
       "<div>\n",
       "<style scoped>\n",
       "    .dataframe tbody tr th:only-of-type {\n",
       "        vertical-align: middle;\n",
       "    }\n",
       "\n",
       "    .dataframe tbody tr th {\n",
       "        vertical-align: top;\n",
       "    }\n",
       "\n",
       "    .dataframe thead th {\n",
       "        text-align: right;\n",
       "    }\n",
       "</style>\n",
       "<table border=\"1\" class=\"dataframe\">\n",
       "  <thead>\n",
       "    <tr style=\"text-align: right;\">\n",
       "      <th></th>\n",
       "      <th>Model</th>\n",
       "      <th>Details</th>\n",
       "      <th>MSE</th>\n",
       "      <th>RMSE</th>\n",
       "      <th>MAE(Test)</th>\n",
       "    </tr>\n",
       "  </thead>\n",
       "  <tbody>\n",
       "    <tr>\n",
       "      <th>0</th>\n",
       "      <td>Naive Forecasting</td>\n",
       "      <td>Difference of Last Value in X val with y val</td>\n",
       "      <td>0.033447</td>\n",
       "      <td>0.182885</td>\n",
       "      <td>0.089263</td>\n",
       "    </tr>\n",
       "    <tr>\n",
       "      <th>1</th>\n",
       "      <td>Base Deep RNN</td>\n",
       "      <td>Neuron=5, Timestep=5, Epoch=35, Multi Layers</td>\n",
       "      <td>0.002021</td>\n",
       "      <td>0.044955</td>\n",
       "      <td>0.045852</td>\n",
       "    </tr>\n",
       "    <tr>\n",
       "      <th>3</th>\n",
       "      <td>LSTM - Pipeline Dataset</td>\n",
       "      <td>Neuron=5, Timestep=5, Epoch=75, Batch_size=128...</td>\n",
       "      <td>0.004130</td>\n",
       "      <td>0.064266</td>\n",
       "      <td>0.033172</td>\n",
       "    </tr>\n",
       "    <tr>\n",
       "      <th>4</th>\n",
       "      <td>LSTM - Non-Pipeline Dataset</td>\n",
       "      <td>Without tensorflow pipeline dataset. The rest ...</td>\n",
       "      <td>0.001082</td>\n",
       "      <td>0.032899</td>\n",
       "      <td>0.015625</td>\n",
       "    </tr>\n",
       "  </tbody>\n",
       "</table>\n",
       "</div>"
      ],
      "text/plain": [
       "                         Model  \\\n",
       "0            Naive Forecasting   \n",
       "1                Base Deep RNN   \n",
       "3      LSTM - Pipeline Dataset   \n",
       "4  LSTM - Non-Pipeline Dataset   \n",
       "\n",
       "                                             Details       MSE      RMSE  \\\n",
       "0       Difference of Last Value in X val with y val  0.033447  0.182885   \n",
       "1       Neuron=5, Timestep=5, Epoch=35, Multi Layers  0.002021  0.044955   \n",
       "3  Neuron=5, Timestep=5, Epoch=75, Batch_size=128...  0.004130  0.064266   \n",
       "4  Without tensorflow pipeline dataset. The rest ...  0.001082  0.032899   \n",
       "\n",
       "   MAE(Test)  \n",
       "0   0.089263  \n",
       "1   0.045852  \n",
       "3   0.033172  \n",
       "4   0.015625  "
      ]
     },
     "execution_count": 59,
     "metadata": {},
     "output_type": "execute_result"
    }
   ],
   "source": [
    "y_pred_lstm_pipe = lstm_imp_model.predict(X_test_final)\n",
    "mae_lstm_imp_rnn_test = mean_absolute_error(y_test, y_pred_lstm_pipe)\n",
    "evaluation_metrics.loc[3] = ['LSTM - Pipeline Dataset', 'Neuron=5, Timestep=5, Epoch=75, Batch_size=128, Multi Layers', mse_lstm_imp_rnn[0], rmse_lstm_imp_rnn[0], mae_lstm_imp_rnn_test]\n",
    "evaluation_metrics"
   ]
  },
  {
   "cell_type": "code",
   "execution_count": 60,
   "metadata": {},
   "outputs": [
    {
     "data": {
      "image/png": "[encoded data removed]",
      "text/plain": [
       "<Figure size 1296x288 with 1 Axes>"
      ]
     },
     "metadata": {
      "needs_background": "light"
     },
     "output_type": "display_data"
    }
   ],
   "source": [
    "y_pred_lstm_pipe = scaler.inverse_transform(y_pred_lstm_pipe)\n",
    "# plot prediction vs real price\n",
    "fig, ax = plt.subplots(figsize=(18, 4), sharex=True)\n",
    "\n",
    "plt.title(\"Predictions vs. Real Price (LSTM(Tensor Pipeline))\", fontsize=20)\n",
    "plt.ylabel('BTC', fontsize=18)\n",
    "plt.plot(y_pred_lstm_pipe, color=\"#E91D9E\", linewidth=1.0)\n",
    "plt.plot(y_test_real, color=\"black\", linewidth=1.0)\n",
    "plt.legend([\"Test Predictions\", \"Real Price\"], loc=\"upper right\")\n",
    "plt.show()"
   ]
  },
  {
   "cell_type": "markdown",
   "metadata": {},
   "source": [
    "## Without Tensor Pipeline"
   ]
  },
  {
   "cell_type": "code",
   "execution_count": 49,
   "metadata": {},
   "outputs": [
    {
     "name": "stdout",
     "output_type": "stream",
     "text": [
      "timesteps: 20, features: 1, neurons: 20\n",
      "Parameters: ['epochs 33', 'batch_size 150', 'patience 6', 'optimizer adamax', 'loss mean_squared_error']\n",
      "Model: \"sequential_4\"\n",
      "_________________________________________________________________\n",
      " Layer (type)                Output Shape              Param #   \n",
      "=================================================================\n",
      " lstm_6 (LSTM)               (None, None, 5)           140       \n",
      "                                                                 \n",
      " lstm_7 (LSTM)               (None, 2)                 64        \n",
      "                                                                 \n",
      " dense_3 (Dense)             (None, 1)                 3         \n",
      "                                                                 \n",
      "=================================================================\n",
      "Total params: 207\n",
      "Trainable params: 207\n",
      "Non-trainable params: 0\n",
      "_________________________________________________________________\n"
     ]
    }
   ],
   "source": [
    "lstm_imp_model_2 = Sequential()\n",
    "\n",
    "n_neurons = X_train_final.shape[1] * X_train_final.shape[2]\n",
    "print('timesteps: ' + str(X_train_final.shape[1]) + ',' + ' features: ' + str(X_train_final.shape[2]) + ', neurons: ' + str(n_neurons))\n",
    "\n",
    "# The lstm_imp_model_2\n",
    "lstm_imp_model_2.add(LSTM(5, return_sequences=True, input_shape=(None, X_train_final.shape[2]))) \n",
    "lstm_imp_model_2.add(LSTM(2))\n",
    "lstm_imp_model_2.add(Dense(1, activation='linear'))\n",
    "\n",
    "# Hyperparameters\n",
    "optimizer='adamax'; loss='mean_squared_error'; epochs = 33; patience = 6;\n",
    "parameter_list = ['epochs ' + str(epochs), 'batch_size ' + str(batch_size), 'patience ' + str(patience), 'optimizer ' + str(optimizer), 'loss ' + str(loss)]\n",
    "print('Parameters: ' + str(parameter_list))\n",
    "\n",
    "lstm_imp_model_2.compile(optimizer=optimizer, loss=loss, metrics=['mean_squared_error'])\n",
    "\n",
    "lstm_imp_model_2.summary()"
   ]
  },
  {
   "cell_type": "code",
   "execution_count": 50,
   "metadata": {},
   "outputs": [
    {
     "name": "stdout",
     "output_type": "stream",
     "text": [
      "Epoch 1/33\n",
      "60/60 [==============================] - 4s 19ms/step - loss: 0.2391 - mean_squared_error: 0.2391 - val_loss: 0.1445 - val_mean_squared_error: 0.1445\n",
      "Epoch 2/33\n",
      "60/60 [==============================] - 1s 9ms/step - loss: 0.1618 - mean_squared_error: 0.1618 - val_loss: 0.0773 - val_mean_squared_error: 0.0773\n",
      "Epoch 3/33\n",
      "60/60 [==============================] - 1s 9ms/step - loss: 0.1065 - mean_squared_error: 0.1065 - val_loss: 0.0339 - val_mean_squared_error: 0.0339\n",
      "Epoch 4/33\n",
      "60/60 [==============================] - 1s 9ms/step - loss: 0.0712 - mean_squared_error: 0.0712 - val_loss: 0.0140 - val_mean_squared_error: 0.0140\n",
      "Epoch 5/33\n",
      "60/60 [==============================] - 1s 9ms/step - loss: 0.0513 - mean_squared_error: 0.0513 - val_loss: 0.0098 - val_mean_squared_error: 0.0098\n",
      "Epoch 6/33\n",
      "60/60 [==============================] - 1s 9ms/step - loss: 0.0393 - mean_squared_error: 0.0393 - val_loss: 0.0094 - val_mean_squared_error: 0.0094\n",
      "Epoch 7/33\n",
      "60/60 [==============================] - 1s 9ms/step - loss: 0.0306 - mean_squared_error: 0.0306 - val_loss: 0.0085 - val_mean_squared_error: 0.0085\n",
      "Epoch 8/33\n",
      "60/60 [==============================] - 1s 9ms/step - loss: 0.0238 - mean_squared_error: 0.0238 - val_loss: 0.0074 - val_mean_squared_error: 0.0074\n",
      "Epoch 9/33\n",
      "60/60 [==============================] - 1s 9ms/step - loss: 0.0182 - mean_squared_error: 0.0182 - val_loss: 0.0059 - val_mean_squared_error: 0.0059\n",
      "Epoch 10/33\n",
      "60/60 [==============================] - 1s 9ms/step - loss: 0.0136 - mean_squared_error: 0.0136 - val_loss: 0.0043 - val_mean_squared_error: 0.0043\n",
      "Epoch 11/33\n",
      "60/60 [==============================] - 1s 10ms/step - loss: 0.0098 - mean_squared_error: 0.0098 - val_loss: 0.0027 - val_mean_squared_error: 0.0027\n",
      "Epoch 12/33\n",
      "60/60 [==============================] - 1s 9ms/step - loss: 0.0070 - mean_squared_error: 0.0070 - val_loss: 0.0021 - val_mean_squared_error: 0.0021\n",
      "Epoch 13/33\n",
      "60/60 [==============================] - 1s 9ms/step - loss: 0.0053 - mean_squared_error: 0.0053 - val_loss: 0.0018 - val_mean_squared_error: 0.0018\n",
      "Epoch 14/33\n",
      "60/60 [==============================] - 1s 9ms/step - loss: 0.0044 - mean_squared_error: 0.0044 - val_loss: 0.0018 - val_mean_squared_error: 0.0018\n",
      "Epoch 15/33\n",
      "60/60 [==============================] - 1s 9ms/step - loss: 0.0040 - mean_squared_error: 0.0040 - val_loss: 0.0018 - val_mean_squared_error: 0.0018\n",
      "Epoch 16/33\n",
      "60/60 [==============================] - 1s 9ms/step - loss: 0.0037 - mean_squared_error: 0.0037 - val_loss: 0.0018 - val_mean_squared_error: 0.0018\n",
      "Epoch 17/33\n",
      "60/60 [==============================] - 1s 9ms/step - loss: 0.0035 - mean_squared_error: 0.0035 - val_loss: 0.0017 - val_mean_squared_error: 0.0017\n",
      "Epoch 18/33\n",
      "60/60 [==============================] - 1s 9ms/step - loss: 0.0034 - mean_squared_error: 0.0034 - val_loss: 0.0017 - val_mean_squared_error: 0.0017\n",
      "Epoch 19/33\n",
      "60/60 [==============================] - 1s 9ms/step - loss: 0.0032 - mean_squared_error: 0.0032 - val_loss: 0.0016 - val_mean_squared_error: 0.0016\n",
      "Epoch 20/33\n",
      "60/60 [==============================] - 1s 9ms/step - loss: 0.0031 - mean_squared_error: 0.0031 - val_loss: 0.0015 - val_mean_squared_error: 0.0015\n",
      "Epoch 21/33\n",
      "60/60 [==============================] - 1s 9ms/step - loss: 0.0030 - mean_squared_error: 0.0030 - val_loss: 0.0015 - val_mean_squared_error: 0.0015\n",
      "Epoch 22/33\n",
      "60/60 [==============================] - 1s 9ms/step - loss: 0.0029 - mean_squared_error: 0.0029 - val_loss: 0.0014 - val_mean_squared_error: 0.0014\n",
      "Epoch 23/33\n",
      "60/60 [==============================] - 1s 9ms/step - loss: 0.0028 - mean_squared_error: 0.0028 - val_loss: 0.0014 - val_mean_squared_error: 0.0014\n",
      "Epoch 24/33\n",
      "60/60 [==============================] - 1s 9ms/step - loss: 0.0027 - mean_squared_error: 0.0027 - val_loss: 0.0014 - val_mean_squared_error: 0.0014\n",
      "Epoch 25/33\n",
      "60/60 [==============================] - 1s 9ms/step - loss: 0.0026 - mean_squared_error: 0.0026 - val_loss: 0.0013 - val_mean_squared_error: 0.0013\n",
      "Epoch 26/33\n",
      "60/60 [==============================] - 1s 9ms/step - loss: 0.0025 - mean_squared_error: 0.0025 - val_loss: 0.0013 - val_mean_squared_error: 0.0013\n",
      "Epoch 27/33\n",
      "60/60 [==============================] - 1s 9ms/step - loss: 0.0024 - mean_squared_error: 0.0024 - val_loss: 0.0012 - val_mean_squared_error: 0.0012\n",
      "Epoch 28/33\n",
      "60/60 [==============================] - 1s 9ms/step - loss: 0.0024 - mean_squared_error: 0.0024 - val_loss: 0.0012 - val_mean_squared_error: 0.0012\n",
      "Epoch 29/33\n",
      "60/60 [==============================] - 1s 10ms/step - loss: 0.0023 - mean_squared_error: 0.0023 - val_loss: 0.0012 - val_mean_squared_error: 0.0012\n",
      "Epoch 30/33\n",
      "60/60 [==============================] - 1s 9ms/step - loss: 0.0022 - mean_squared_error: 0.0022 - val_loss: 0.0012 - val_mean_squared_error: 0.0012\n",
      "Epoch 31/33\n",
      "60/60 [==============================] - 1s 9ms/step - loss: 0.0022 - mean_squared_error: 0.0022 - val_loss: 0.0011 - val_mean_squared_error: 0.0011\n",
      "Epoch 32/33\n",
      "60/60 [==============================] - 1s 10ms/step - loss: 0.0021 - mean_squared_error: 0.0021 - val_loss: 0.0011 - val_mean_squared_error: 0.0011\n",
      "Epoch 33/33\n",
      "60/60 [==============================] - 1s 10ms/step - loss: 0.0021 - mean_squared_error: 0.0021 - val_loss: 0.0011 - val_mean_squared_error: 0.0011\n"
     ]
    }
   ],
   "source": [
    "lstm_imp_model_hist_2 = lstm_imp_model_2.fit(\n",
    "                    X_train_final,\n",
    "                    y_train,\n",
    "                    epochs=epochs,\n",
    "                    batch_size=batch_size,\n",
    "                    validation_data=(X_val_final, y_val),\n",
    "                    \n",
    "                )"
   ]
  },
  {
   "cell_type": "code",
   "execution_count": 51,
   "metadata": {},
   "outputs": [
    {
     "data": {
      "image/png": "[encoded data removed]",
      "text/plain": [
       "<Figure size 432x288 with 1 Axes>"
      ]
     },
     "metadata": {
      "needs_background": "light"
     },
     "output_type": "display_data"
    }
   ],
   "source": [
    "# Visualization of Training Loss and Validation Loss\n",
    "\n",
    "plot_learning_curves(lstm_imp_model_hist_2.history[\"loss\"], lstm_imp_model_hist_2.history[\"val_loss\"])\n",
    "plt.show()"
   ]
  },
  {
   "cell_type": "code",
   "execution_count": 52,
   "metadata": {},
   "outputs": [
    {
     "name": "stdout",
     "output_type": "stream",
     "text": [
      "31/31 [==============================] - 0s 3ms/step - loss: 0.0011 - mean_squared_error: 0.0011  \n"
     ]
    }
   ],
   "source": [
    "mse_lstm_imp_rnn_2 = lstm_imp_model_2.evaluate(X_val_final, y_val)\n",
    "rmse_lstm_imp_rnn_2 = np.sqrt(mse_lstm_imp_rnn_2)"
   ]
  },
  {
   "cell_type": "code",
   "execution_count": 53,
   "metadata": {},
   "outputs": [
    {
     "data": {
      "text/html": [
       "<div>\n",
       "<style scoped>\n",
       "    .dataframe tbody tr th:only-of-type {\n",
       "        vertical-align: middle;\n",
       "    }\n",
       "\n",
       "    .dataframe tbody tr th {\n",
       "        vertical-align: top;\n",
       "    }\n",
       "\n",
       "    .dataframe thead th {\n",
       "        text-align: right;\n",
       "    }\n",
       "</style>\n",
       "<table border=\"1\" class=\"dataframe\">\n",
       "  <thead>\n",
       "    <tr style=\"text-align: right;\">\n",
       "      <th></th>\n",
       "      <th>Model</th>\n",
       "      <th>Details</th>\n",
       "      <th>MSE</th>\n",
       "      <th>RMSE</th>\n",
       "      <th>MAE(Test)</th>\n",
       "    </tr>\n",
       "  </thead>\n",
       "  <tbody>\n",
       "    <tr>\n",
       "      <th>0</th>\n",
       "      <td>Naive Forecasting</td>\n",
       "      <td>Difference of Last Value in X val with y val</td>\n",
       "      <td>0.033447</td>\n",
       "      <td>0.182885</td>\n",
       "      <td>0.089263</td>\n",
       "    </tr>\n",
       "    <tr>\n",
       "      <th>1</th>\n",
       "      <td>Base Deep RNN</td>\n",
       "      <td>Neuron=5, Timestep=5, Epoch=35, Multi Layers</td>\n",
       "      <td>0.002021</td>\n",
       "      <td>0.044955</td>\n",
       "      <td>0.045852</td>\n",
       "    </tr>\n",
       "    <tr>\n",
       "      <th>3</th>\n",
       "      <td>LSTM - Pipeline Dataset</td>\n",
       "      <td>Neuron=5, Timestep=5, Epoch=75, Batch_size=128...</td>\n",
       "      <td>0.001481</td>\n",
       "      <td>0.038487</td>\n",
       "      <td>0.016122</td>\n",
       "    </tr>\n",
       "    <tr>\n",
       "      <th>4</th>\n",
       "      <td>LSTM - Non-Pipeline Dataset</td>\n",
       "      <td>Without tensorflow pipeline dataset. The rest ...</td>\n",
       "      <td>0.001082</td>\n",
       "      <td>0.032899</td>\n",
       "      <td>0.015625</td>\n",
       "    </tr>\n",
       "  </tbody>\n",
       "</table>\n",
       "</div>"
      ],
      "text/plain": [
       "                         Model  \\\n",
       "0            Naive Forecasting   \n",
       "1                Base Deep RNN   \n",
       "3      LSTM - Pipeline Dataset   \n",
       "4  LSTM - Non-Pipeline Dataset   \n",
       "\n",
       "                                             Details       MSE      RMSE  \\\n",
       "0       Difference of Last Value in X val with y val  0.033447  0.182885   \n",
       "1       Neuron=5, Timestep=5, Epoch=35, Multi Layers  0.002021  0.044955   \n",
       "3  Neuron=5, Timestep=5, Epoch=75, Batch_size=128...  0.001481  0.038487   \n",
       "4  Without tensorflow pipeline dataset. The rest ...  0.001082  0.032899   \n",
       "\n",
       "   MAE(Test)  \n",
       "0   0.089263  \n",
       "1   0.045852  \n",
       "3   0.016122  \n",
       "4   0.015625  "
      ]
     },
     "execution_count": 53,
     "metadata": {},
     "output_type": "execute_result"
    }
   ],
   "source": [
    "y_pred_lstm_non = lstm_imp_model_2.predict(X_test_final)\n",
    "mae_lstm_imp_rnn_2_test = mean_absolute_error(y_test, y_pred_lstm_non)\n",
    "evaluation_metrics.loc[4] = ['LSTM - Non-Pipeline Dataset', 'Without tensorflow pipeline dataset. The rest is same', mse_lstm_imp_rnn_2[0], rmse_lstm_imp_rnn_2[0], mae_lstm_imp_rnn_2_test]\n",
    "evaluation_metrics"
   ]
  },
  {
   "cell_type": "code",
   "execution_count": 54,
   "metadata": {},
   "outputs": [
    {
     "data": {
      "image/png": "[encoded data removed]",
      "text/plain": [
       "<Figure size 1296x288 with 1 Axes>"
      ]
     },
     "metadata": {
      "needs_background": "light"
     },
     "output_type": "display_data"
    }
   ],
   "source": [
    "y_pred_lstm_non = scaler.inverse_transform(y_pred_lstm_non)\n",
    "# plot prediction vs real price\n",
    "fig, ax = plt.subplots(figsize=(18, 4), sharex=True)\n",
    "\n",
    "plt.title(\"Predictions vs. Real Price (LSTM(Non-Tensor Pipeline))\", fontsize=20)\n",
    "plt.ylabel('BTC', fontsize=18)\n",
    "plt.plot(y_pred_lstm_non, color=\"#E91D9E\", linewidth=1.0)\n",
    "plt.plot(y_test_real, color=\"black\", linewidth=1.0)\n",
    "plt.legend([\"Test Predictions\", \"Real Price\"], loc=\"upper right\")\n",
    "plt.show()"
   ]
  },
  {
   "cell_type": "code",
   "execution_count": null,
   "metadata": {},
   "outputs": [],
   "source": []
  }
 ],
 "metadata": {
  "interpreter": {
   "hash": "ef25b1aeedf49b7e4fc6a8fc7fede5a154ceb2d9a1646c4d8508784d46cb5306"
  },
  "kernelspec": {
   "display_name": "Python 3.10.1 64-bit",
   "language": "python",
   "name": "python3"
  },
  "language_info": {
   "codemirror_mode": {
    "name": "ipython",
    "version": 3
   },
   "file_extension": ".py",
   "mimetype": "text/x-python",
   "name": "python",
   "nbconvert_exporter": "python",
   "pygments_lexer": "ipython3",
   "version": "3.10.1"
  },
  "orig_nbformat": 4
 },
 "nbformat": 4,
 "nbformat_minor": 2
}
